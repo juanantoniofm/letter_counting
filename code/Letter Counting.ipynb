{
 "cells": [
  {
   "cell_type": "markdown",
   "metadata": {},
   "source": [
    "# Letter Counter\n",
    "\n",
    "oh yeah!\n",
    "\n"
   ]
  },
  {
   "cell_type": "markdown",
   "metadata": {},
   "source": [
    "### Loading Assets\n",
    "\n"
   ]
  },
  {
   "cell_type": "code",
   "execution_count": 1,
   "metadata": {},
   "outputs": [],
   "source": [
    "import unidecode\n",
    "from collections import defaultdict\n"
   ]
  },
  {
   "cell_type": "markdown",
   "metadata": {},
   "source": [
    "### Configuration\n",
    "\n",
    "If you want to change the source of the data, do it here.\n",
    "\n",
    "The format is csv, with one column, with heading (1st row is ignored)\n"
   ]
  },
  {
   "cell_type": "code",
   "execution_count": 2,
   "metadata": {},
   "outputs": [],
   "source": [
    "filename = \"../data/ListaTodasPalabras.csv\""
   ]
  },
  {
   "cell_type": "markdown",
   "metadata": {},
   "source": [
    "\n",
    "\n",
    "### Counting characters\n",
    "\n"
   ]
  },
  {
   "cell_type": "code",
   "execution_count": 3,
   "metadata": {},
   "outputs": [],
   "source": [
    "# Initialise some variables\n",
    "d = defaultdict(lambda:0)\n",
    "total = 0\n",
    "\n",
    "with open(filename) as fh:\n",
    "    # count the total words and the letters\n",
    "    for word in fh.readlines():\n",
    "        if word == \"PALABRAS\\n\":\n",
    "            continue # Ignore the header name\n",
    "        total += 1\n",
    "        noacc = unidecode.unidecode(word)\n",
    "        for letter in noacc.strip():\n",
    "            d[letter] += 1\n",
    "\n"
   ]
  },
  {
   "cell_type": "code",
   "execution_count": 4,
   "metadata": {},
   "outputs": [
    {
     "name": "stdout",
     "output_type": "stream",
     "text": [
      "Letter frequency from least to most\n",
      "w : 24\n",
      "k : 89\n",
      "y : 1252\n",
      "x : 1402\n",
      "q : 3280\n",
      "j : 5190\n",
      "z : 6454\n",
      "v : 8209\n",
      "h : 8224\n",
      "f : 9330\n",
      "g : 14703\n",
      "b : 15241\n",
      "p : 19532\n",
      "m : 25658\n",
      "u : 26367\n",
      "d : 34490\n",
      "s : 34923\n",
      "l : 39449\n",
      "t : 43949\n",
      "c : 46648\n",
      "n : 52935\n",
      "i : 70377\n",
      "r : 77056\n",
      "o : 78651\n",
      "e : 79179\n",
      "a : 130353\n",
      "Total words counted\n",
      "95383\n"
     ]
    }
   ],
   "source": [
    "print(\"Letter frequency from least to most\")\n",
    "s = {k: v for k, v in sorted(d.items(), key=lambda item: item[1])}\n",
    "\n",
    "\n",
    "for item,val in s.items():\n",
    "    print(f\"{item} : {val}\")\n",
    "\n",
    "print(\"Total words counted\")\n",
    "print(total)"
   ]
  },
  {
   "cell_type": "markdown",
   "metadata": {},
   "source": [
    "# Empezando de cero"
   ]
  },
  {
   "cell_type": "code",
   "execution_count": 5,
   "metadata": {},
   "outputs": [
    {
     "data": {
      "text/html": [
       "<div>\n",
       "<style scoped>\n",
       "    .dataframe tbody tr th:only-of-type {\n",
       "        vertical-align: middle;\n",
       "    }\n",
       "\n",
       "    .dataframe tbody tr th {\n",
       "        vertical-align: top;\n",
       "    }\n",
       "\n",
       "    .dataframe thead th {\n",
       "        text-align: right;\n",
       "    }\n",
       "</style>\n",
       "<table border=\"1\" class=\"dataframe\">\n",
       "  <thead>\n",
       "    <tr style=\"text-align: right;\">\n",
       "      <th></th>\n",
       "      <th>PALABRAS</th>\n",
       "    </tr>\n",
       "  </thead>\n",
       "  <tbody>\n",
       "    <tr>\n",
       "      <th>0</th>\n",
       "      <td>aba</td>\n",
       "    </tr>\n",
       "    <tr>\n",
       "      <th>1</th>\n",
       "      <td>aca</td>\n",
       "    </tr>\n",
       "    <tr>\n",
       "      <th>2</th>\n",
       "      <td>acá</td>\n",
       "    </tr>\n",
       "    <tr>\n",
       "      <th>3</th>\n",
       "      <td>adó</td>\n",
       "    </tr>\n",
       "    <tr>\n",
       "      <th>4</th>\n",
       "      <td>afé</td>\n",
       "    </tr>\n",
       "    <tr>\n",
       "      <th>...</th>\n",
       "      <td>...</td>\n",
       "    </tr>\n",
       "    <tr>\n",
       "      <th>95378</th>\n",
       "      <td>ultramicroscopio</td>\n",
       "    </tr>\n",
       "    <tr>\n",
       "      <th>95379</th>\n",
       "      <td>ventriculografía</td>\n",
       "    </tr>\n",
       "    <tr>\n",
       "      <th>95380</th>\n",
       "      <td>vertiginosamente</td>\n",
       "    </tr>\n",
       "    <tr>\n",
       "      <th>95381</th>\n",
       "      <td>vicealmirantazgo</td>\n",
       "    </tr>\n",
       "    <tr>\n",
       "      <th>95382</th>\n",
       "      <td>vituperiosamente</td>\n",
       "    </tr>\n",
       "  </tbody>\n",
       "</table>\n",
       "<p>95383 rows × 1 columns</p>\n",
       "</div>"
      ],
      "text/plain": [
       "               PALABRAS\n",
       "0                   aba\n",
       "1                   aca\n",
       "2                   acá\n",
       "3                   adó\n",
       "4                   afé\n",
       "...                 ...\n",
       "95378  ultramicroscopio\n",
       "95379  ventriculografía\n",
       "95380  vertiginosamente\n",
       "95381  vicealmirantazgo\n",
       "95382  vituperiosamente\n",
       "\n",
       "[95383 rows x 1 columns]"
      ]
     },
     "execution_count": 5,
     "metadata": {},
     "output_type": "execute_result"
    }
   ],
   "source": [
    "import pandas as pd\n",
    "import matplotlib\n",
    "\n",
    "\n",
    "df = pd.read_csv(filename)\n",
    "\n",
    "df"
   ]
  },
  {
   "cell_type": "code",
   "execution_count": 6,
   "metadata": {},
   "outputs": [
    {
     "data": {
      "text/plain": [
       "0                                               [a, b, a]\n",
       "1                                               [a, c, a]\n",
       "2                                               [a, c, á]\n",
       "3                                               [a, d, ó]\n",
       "4                                               [a, f, é]\n",
       "                               ...                       \n",
       "95378    [u, l, t, r, a, m, i, c, r, o, s, c, o, p, i, o]\n",
       "95379    [v, e, n, t, r, i, c, u, l, o, g, r, a, f, í, a]\n",
       "95380    [v, e, r, t, i, g, i, n, o, s, a, m, e, n, t, e]\n",
       "95381    [v, i, c, e, a, l, m, i, r, a, n, t, a, z, g, o]\n",
       "95382    [v, i, t, u, p, e, r, i, o, s, a, m, e, n, t, e]\n",
       "Length: 95383, dtype: object"
      ]
     },
     "execution_count": 6,
     "metadata": {},
     "output_type": "execute_result"
    }
   ],
   "source": [
    "\n",
    "splits = df.apply(lambda x: [y for y in x[0].strip()], axis='columns')\n",
    "splits"
   ]
  },
  {
   "cell_type": "code",
   "execution_count": 15,
   "metadata": {},
   "outputs": [
    {
     "data": {
      "text/plain": [
       "0                                               [a, b, a]\n",
       "1                                               [a, c, a]\n",
       "2                                               [a, c, á]\n",
       "3                                               [a, d, ó]\n",
       "4                                               [a, f, é]\n",
       "                               ...                       \n",
       "95378    [u, l, t, r, a, m, i, c, r, o, s, c, o, p, i, o]\n",
       "95379    [v, e, n, t, r, i, c, u, l, o, g, r, a, f, í, a]\n",
       "95380    [v, e, r, t, i, g, i, n, o, s, a, m, e, n, t, e]\n",
       "95381    [v, i, c, e, a, l, m, i, r, a, n, t, a, z, g, o]\n",
       "95382    [v, i, t, u, p, e, r, i, o, s, a, m, e, n, t, e]\n",
       "Length: 95383, dtype: object"
      ]
     },
     "execution_count": 15,
     "metadata": {},
     "output_type": "execute_result"
    }
   ],
   "source": [
    "d = defaultdict(lambda:0)\n",
    "\n",
    "def ccount(word=None):\n",
    "    assert word is not None\n",
    "    for letter in word:\n",
    "        d[letter] += 1\n",
    "    return word\n",
    "\n",
    "splits.apply(ccount)\n"
   ]
  },
  {
   "cell_type": "code",
   "execution_count": 16,
   "metadata": {},
   "outputs": [
    {
     "data": {
      "text/plain": [
       "defaultdict(<function __main__.<lambda>()>,\n",
       "            {'a': 127140,\n",
       "             'b': 15241,\n",
       "             'c': 46648,\n",
       "             'á': 3213,\n",
       "             'd': 34490,\n",
       "             'ó': 6768,\n",
       "             'f': 9330,\n",
       "             'é': 2098,\n",
       "             'g': 14703,\n",
       "             'h': 8224,\n",
       "             'í': 5363,\n",
       "             'j': 5190,\n",
       "             'e': 77081,\n",
       "             'o': 71883,\n",
       "             'l': 39449,\n",
       "             'i': 65014,\n",
       "             'm': 25658,\n",
       "             'n': 50682,\n",
       "             'ñ': 2253,\n",
       "             'p': 19532,\n",
       "             'r': 77056,\n",
       "             's': 34923,\n",
       "             't': 43949,\n",
       "             'u': 25552,\n",
       "             'v': 8209,\n",
       "             'x': 1402,\n",
       "             'y': 1252,\n",
       "             'ú': 621,\n",
       "             'z': 6454,\n",
       "             'k': 89,\n",
       "             'q': 3280,\n",
       "             'w': 24,\n",
       "             'ü': 194})"
      ]
     },
     "execution_count": 16,
     "metadata": {},
     "output_type": "execute_result"
    }
   ],
   "source": [
    "d"
   ]
  }
 ],
 "metadata": {
  "kernelspec": {
   "display_name": "Python 3",
   "language": "python",
   "name": "python3"
  },
  "language_info": {
   "codemirror_mode": {
    "name": "ipython",
    "version": 3
   },
   "file_extension": ".py",
   "mimetype": "text/x-python",
   "name": "python",
   "nbconvert_exporter": "python",
   "pygments_lexer": "ipython3",
   "version": "3.7.3"
  }
 },
 "nbformat": 4,
 "nbformat_minor": 2
}
