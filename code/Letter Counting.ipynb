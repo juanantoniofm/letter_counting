{
 "cells": [
  {
   "cell_type": "markdown",
   "metadata": {},
   "source": [
    "# Letter Counter - Contador de letras\n",
    "\n",
    "\n",
    "Un pequeño notebook para contar la frecuencia de las letras en el castellano (o en cualquier idioma, siempre que le pases la lista de letras en un CSV).\n",
    "\n",
    "Esto que estas leyendo, es un Jupyter notebook. Puedes utilizarlo como documeto, o como herramienta ejecutable (y que permite modificaciones de forma interactiva). Para saber mas sobre como ejecutarlo, mira la documentacion en [jupyter.org](https://jupyter.org/) y revisa el Makefile.\n"
   ]
  },
  {
   "cell_type": "markdown",
   "metadata": {},
   "source": [
    "### Loading Internal Assets\n",
    "\n",
    "You can ignore this part.\n"
   ]
  },
  {
   "cell_type": "code",
   "execution_count": 143,
   "metadata": {
    "scrolled": true
   },
   "outputs": [
    {
     "name": "stdout",
     "output_type": "stream",
     "text": [
      "The jupyternotify extension is already loaded. To reload it, use:\n",
      "  %reload_ext jupyternotify\n"
     ]
    }
   ],
   "source": [
    "import unidecode\n",
    "from collections import defaultdict\n",
    "\n",
    "# Loading libraries\n",
    "import pandas as pd\n",
    "import matplotlib\n",
    "\n",
    "import matplotlib.pyplot as plt\n",
    "import matplotlib as mpl\n",
    "%matplotlib inline\n",
    "\n",
    "\n",
    "# Load jupyter notify\n",
    "# See https://github.com/shoprunner/jupyter-notify\n",
    "%load_ext jupyternotify\n",
    "\n"
   ]
  },
  {
   "cell_type": "code",
   "execution_count": 11,
   "metadata": {},
   "outputs": [
    {
     "data": {
      "application/javascript": [
       "$(document).ready(\n",
       "    function() {\n",
       "        function appendUniqueDiv(){\n",
       "            // append a div with our uuid so we can check that it's already\n",
       "            // been sent and avoid duplicates on page reload\n",
       "            var notifiedDiv = document.createElement(\"div\")\n",
       "            notifiedDiv.id = \"2ad2c8c9-7ce9-429a-8c3a-57c06967ab86\"\n",
       "            element.append(notifiedDiv)\n",
       "        }\n",
       "\n",
       "        // only send notifications if the pageload is complete; this will\n",
       "        // help stop extra notifications when a saved notebook is loaded,\n",
       "        // which during testing gives us state \"interactive\", not \"complete\"\n",
       "        if (document.readyState === 'complete') {\n",
       "            // check for the div that signifies that the notification\n",
       "            // was already sent\n",
       "            if (document.getElementById(\"2ad2c8c9-7ce9-429a-8c3a-57c06967ab86\") === null) {\n",
       "                var notificationPayload = {\"requireInteraction\": false, \"icon\": \"/static/base/images/favicon.ico\", \"body\": \"Cell execution has finished!\"};\n",
       "                if (Notification.permission !== 'denied') {\n",
       "                    if (Notification.permission !== 'granted') { \n",
       "                        Notification.requestPermission(function (permission) {\n",
       "                            if(!('permission' in Notification)) {\n",
       "                                Notification.permission = permission\n",
       "                            }\n",
       "                        })\n",
       "                    }\n",
       "                    if (Notification.permission === 'granted') {\n",
       "                    var notification = new Notification(\"Jupyter Notebook\", notificationPayload)\n",
       "                    appendUniqueDiv()\n",
       "                    notification.onclick = function () {\n",
       "                        window.focus();\n",
       "                        this.close();\n",
       "                        };\n",
       "                    } \n",
       "                }     \n",
       "            }\n",
       "        }\n",
       "    }\n",
       ")\n"
      ],
      "text/plain": [
       "<IPython.core.display.Javascript object>"
      ]
     },
     "metadata": {},
     "output_type": "display_data"
    }
   ],
   "source": [
    "%%notify -o\n",
    "\n",
    "pass"
   ]
  },
  {
   "cell_type": "markdown",
   "metadata": {},
   "source": [
    "### Configuration - Configuracion\n",
    "\n",
    "If you want to change settings, like data sources.\n",
    "\n",
    "---\n",
    "\n",
    "Si necesitas cambiar configuracion, como los acentos o la fuente de datos."
   ]
  },
  {
   "cell_type": "code",
   "execution_count": 4,
   "metadata": {},
   "outputs": [],
   "source": [
    "\n",
    "# Distinguish accent (True = i and í are 2 different letters; False = they are 2 letter i's)\n",
    "accent_dif = False # False to ignore, as we won't be using them either for the exercises.\n",
    "\n",
    "# Data sources\n",
    "wordlist_fileSHORT = r'../data/Anexo I - palabras 3-9 letras.xls'\n",
    "wordlist_fileLONG = r'../data/Anexo II - palabras 10-16 letras.xls'\n"
   ]
  },
  {
   "cell_type": "markdown",
   "metadata": {},
   "source": [
    "### Statistics - Estidisticas\n",
    "\n",
    "Restart the counters\n",
    "\n",
    "---\n",
    "\n",
    "Reinicia los contadores"
   ]
  },
  {
   "cell_type": "code",
   "execution_count": 5,
   "metadata": {},
   "outputs": [],
   "source": [
    "## Clear Up the statistics\n",
    "\n",
    "## GLOBAL Variables\n",
    "# total of words counted\n",
    "word_sum = 0\n",
    "# Freq of each letter\n",
    "letter_frequency = defaultdict(lambda:0)\n",
    "# Percentile of each letter's frequency\n",
    "letter_freq_percent = defaultdict(lambda:0)\n",
    " "
   ]
  },
  {
   "cell_type": "markdown",
   "metadata": {},
   "source": [
    "## Obtain list of usable words from 5 to 6 letters\n",
    "\n",
    "Using pandas and matplotlib.\n",
    "\n",
    "--- \n",
    "\n",
    "Utilizando pandas y matplotlib.\n",
    "\n"
   ]
  },
  {
   "cell_type": "code",
   "execution_count": null,
   "metadata": {
    "scrolled": false
   },
   "outputs": [],
   "source": [
    "# SKIP Obtain the list of words from the original database\n",
    "## SLOW Run carefully.\n",
    "\n",
    "#load the sheets for 5 and 6 letters words as Pandas DataFrames\n",
    "words5letters = pd.read_excel (wordlist_fileSHORT, sheet_name=\"5\")\n",
    "words6letters = pd.read_excel (wordlist_fileSHORT, sheet_name=\"6\")\n",
    "\n",
    "# Extract only the words and the lexyc frequency of words\n",
    "w5l = pd.DataFrame(words5letters ,columns=[\"PALABRA\",\"FRECUENC\"])\n",
    "w6l = pd.DataFrame(words6letters , columns=[\"PALABRA\", \"FRECUENC\"])\n",
    "w6l"
   ]
  },
  {
   "cell_type": "code",
   "execution_count": 6,
   "metadata": {},
   "outputs": [
    {
     "data": {
      "text/html": [
       "<div>\n",
       "<style scoped>\n",
       "    .dataframe tbody tr th:only-of-type {\n",
       "        vertical-align: middle;\n",
       "    }\n",
       "\n",
       "    .dataframe tbody tr th {\n",
       "        vertical-align: top;\n",
       "    }\n",
       "\n",
       "    .dataframe thead th {\n",
       "        text-align: right;\n",
       "    }\n",
       "</style>\n",
       "<table border=\"1\" class=\"dataframe\">\n",
       "  <thead>\n",
       "    <tr style=\"text-align: right;\">\n",
       "      <th></th>\n",
       "      <th>PALABRA</th>\n",
       "      <th>FRECUEN</th>\n",
       "      <th>NTV</th>\n",
       "      <th>NTV1</th>\n",
       "      <th>NTV2</th>\n",
       "      <th>NTV3</th>\n",
       "      <th>NTV4</th>\n",
       "      <th>NTV5</th>\n",
       "      <th>NTV6</th>\n",
       "      <th>NTV7</th>\n",
       "      <th>...</th>\n",
       "      <th>FA6</th>\n",
       "      <th>FA7</th>\n",
       "      <th>FA8</th>\n",
       "      <th>FA9</th>\n",
       "      <th>FA10</th>\n",
       "      <th>FA11</th>\n",
       "      <th>FA12</th>\n",
       "      <th>FA13</th>\n",
       "      <th>FA14</th>\n",
       "      <th>FA15</th>\n",
       "    </tr>\n",
       "  </thead>\n",
       "  <tbody>\n",
       "    <tr>\n",
       "      <th>0</th>\n",
       "      <td>abaldonadamente</td>\n",
       "      <td>0</td>\n",
       "      <td>0</td>\n",
       "      <td>0</td>\n",
       "      <td>0</td>\n",
       "      <td>0</td>\n",
       "      <td>0</td>\n",
       "      <td>0</td>\n",
       "      <td>0</td>\n",
       "      <td>0</td>\n",
       "      <td>...</td>\n",
       "      <td>0</td>\n",
       "      <td>0</td>\n",
       "      <td>0</td>\n",
       "      <td>0</td>\n",
       "      <td>0</td>\n",
       "      <td>0</td>\n",
       "      <td>0</td>\n",
       "      <td>0</td>\n",
       "      <td>0</td>\n",
       "      <td>0</td>\n",
       "    </tr>\n",
       "    <tr>\n",
       "      <th>1</th>\n",
       "      <td>abarrancamiento</td>\n",
       "      <td>0</td>\n",
       "      <td>0</td>\n",
       "      <td>0</td>\n",
       "      <td>0</td>\n",
       "      <td>0</td>\n",
       "      <td>0</td>\n",
       "      <td>0</td>\n",
       "      <td>0</td>\n",
       "      <td>0</td>\n",
       "      <td>...</td>\n",
       "      <td>0</td>\n",
       "      <td>0</td>\n",
       "      <td>0</td>\n",
       "      <td>0</td>\n",
       "      <td>0</td>\n",
       "      <td>0</td>\n",
       "      <td>0</td>\n",
       "      <td>0</td>\n",
       "      <td>0</td>\n",
       "      <td>0</td>\n",
       "    </tr>\n",
       "    <tr>\n",
       "      <th>2</th>\n",
       "      <td>abdicativamente</td>\n",
       "      <td>0</td>\n",
       "      <td>0</td>\n",
       "      <td>0</td>\n",
       "      <td>0</td>\n",
       "      <td>0</td>\n",
       "      <td>0</td>\n",
       "      <td>0</td>\n",
       "      <td>0</td>\n",
       "      <td>0</td>\n",
       "      <td>...</td>\n",
       "      <td>0</td>\n",
       "      <td>0</td>\n",
       "      <td>0</td>\n",
       "      <td>0</td>\n",
       "      <td>0</td>\n",
       "      <td>0</td>\n",
       "      <td>0</td>\n",
       "      <td>0</td>\n",
       "      <td>0</td>\n",
       "      <td>0</td>\n",
       "    </tr>\n",
       "    <tr>\n",
       "      <th>3</th>\n",
       "      <td>aburguesamiento</td>\n",
       "      <td>3</td>\n",
       "      <td>0</td>\n",
       "      <td>0</td>\n",
       "      <td>0</td>\n",
       "      <td>0</td>\n",
       "      <td>0</td>\n",
       "      <td>0</td>\n",
       "      <td>0</td>\n",
       "      <td>0</td>\n",
       "      <td>...</td>\n",
       "      <td>0</td>\n",
       "      <td>0</td>\n",
       "      <td>0</td>\n",
       "      <td>0</td>\n",
       "      <td>0</td>\n",
       "      <td>0</td>\n",
       "      <td>0</td>\n",
       "      <td>0</td>\n",
       "      <td>0</td>\n",
       "      <td>0</td>\n",
       "    </tr>\n",
       "    <tr>\n",
       "      <th>4</th>\n",
       "      <td>acaudillamiento</td>\n",
       "      <td>0</td>\n",
       "      <td>0</td>\n",
       "      <td>0</td>\n",
       "      <td>0</td>\n",
       "      <td>0</td>\n",
       "      <td>0</td>\n",
       "      <td>0</td>\n",
       "      <td>0</td>\n",
       "      <td>0</td>\n",
       "      <td>...</td>\n",
       "      <td>0</td>\n",
       "      <td>0</td>\n",
       "      <td>0</td>\n",
       "      <td>0</td>\n",
       "      <td>0</td>\n",
       "      <td>0</td>\n",
       "      <td>0</td>\n",
       "      <td>0</td>\n",
       "      <td>0</td>\n",
       "      <td>0</td>\n",
       "    </tr>\n",
       "    <tr>\n",
       "      <th>...</th>\n",
       "      <td>...</td>\n",
       "      <td>...</td>\n",
       "      <td>...</td>\n",
       "      <td>...</td>\n",
       "      <td>...</td>\n",
       "      <td>...</td>\n",
       "      <td>...</td>\n",
       "      <td>...</td>\n",
       "      <td>...</td>\n",
       "      <td>...</td>\n",
       "      <td>...</td>\n",
       "      <td>...</td>\n",
       "      <td>...</td>\n",
       "      <td>...</td>\n",
       "      <td>...</td>\n",
       "      <td>...</td>\n",
       "      <td>...</td>\n",
       "      <td>...</td>\n",
       "      <td>...</td>\n",
       "      <td>...</td>\n",
       "      <td>...</td>\n",
       "    </tr>\n",
       "    <tr>\n",
       "      <th>1005</th>\n",
       "      <td>vitivinicultora</td>\n",
       "      <td>0</td>\n",
       "      <td>1</td>\n",
       "      <td>0</td>\n",
       "      <td>0</td>\n",
       "      <td>0</td>\n",
       "      <td>0</td>\n",
       "      <td>0</td>\n",
       "      <td>0</td>\n",
       "      <td>0</td>\n",
       "      <td>...</td>\n",
       "      <td>0</td>\n",
       "      <td>0</td>\n",
       "      <td>0</td>\n",
       "      <td>0</td>\n",
       "      <td>0</td>\n",
       "      <td>0</td>\n",
       "      <td>0</td>\n",
       "      <td>0</td>\n",
       "      <td>0</td>\n",
       "      <td>0</td>\n",
       "    </tr>\n",
       "    <tr>\n",
       "      <th>1006</th>\n",
       "      <td>vitivinicultura</td>\n",
       "      <td>0</td>\n",
       "      <td>1</td>\n",
       "      <td>0</td>\n",
       "      <td>0</td>\n",
       "      <td>0</td>\n",
       "      <td>0</td>\n",
       "      <td>0</td>\n",
       "      <td>0</td>\n",
       "      <td>0</td>\n",
       "      <td>...</td>\n",
       "      <td>0</td>\n",
       "      <td>0</td>\n",
       "      <td>0</td>\n",
       "      <td>0</td>\n",
       "      <td>0</td>\n",
       "      <td>0</td>\n",
       "      <td>0</td>\n",
       "      <td>0</td>\n",
       "      <td>0</td>\n",
       "      <td>0</td>\n",
       "    </tr>\n",
       "    <tr>\n",
       "      <th>1007</th>\n",
       "      <td>vituperosamente</td>\n",
       "      <td>0</td>\n",
       "      <td>0</td>\n",
       "      <td>0</td>\n",
       "      <td>0</td>\n",
       "      <td>0</td>\n",
       "      <td>0</td>\n",
       "      <td>0</td>\n",
       "      <td>0</td>\n",
       "      <td>0</td>\n",
       "      <td>...</td>\n",
       "      <td>0</td>\n",
       "      <td>0</td>\n",
       "      <td>0</td>\n",
       "      <td>0</td>\n",
       "      <td>0</td>\n",
       "      <td>0</td>\n",
       "      <td>0</td>\n",
       "      <td>0</td>\n",
       "      <td>0</td>\n",
       "      <td>0</td>\n",
       "    </tr>\n",
       "    <tr>\n",
       "      <th>1008</th>\n",
       "      <td>voluntariamente</td>\n",
       "      <td>17</td>\n",
       "      <td>0</td>\n",
       "      <td>0</td>\n",
       "      <td>0</td>\n",
       "      <td>0</td>\n",
       "      <td>0</td>\n",
       "      <td>0</td>\n",
       "      <td>0</td>\n",
       "      <td>0</td>\n",
       "      <td>...</td>\n",
       "      <td>0</td>\n",
       "      <td>0</td>\n",
       "      <td>0</td>\n",
       "      <td>0</td>\n",
       "      <td>0</td>\n",
       "      <td>0</td>\n",
       "      <td>0</td>\n",
       "      <td>0</td>\n",
       "      <td>0</td>\n",
       "      <td>0</td>\n",
       "    </tr>\n",
       "    <tr>\n",
       "      <th>1009</th>\n",
       "      <td>voluptuosamente</td>\n",
       "      <td>0</td>\n",
       "      <td>0</td>\n",
       "      <td>0</td>\n",
       "      <td>0</td>\n",
       "      <td>0</td>\n",
       "      <td>0</td>\n",
       "      <td>0</td>\n",
       "      <td>0</td>\n",
       "      <td>0</td>\n",
       "      <td>...</td>\n",
       "      <td>0</td>\n",
       "      <td>0</td>\n",
       "      <td>0</td>\n",
       "      <td>0</td>\n",
       "      <td>0</td>\n",
       "      <td>0</td>\n",
       "      <td>0</td>\n",
       "      <td>0</td>\n",
       "      <td>0</td>\n",
       "      <td>0</td>\n",
       "    </tr>\n",
       "  </tbody>\n",
       "</table>\n",
       "<p>1010 rows × 69 columns</p>\n",
       "</div>"
      ],
      "text/plain": [
       "              PALABRA  FRECUEN  NTV  NTV1  NTV2  NTV3  NTV4  NTV5  NTV6  NTV7  \\\n",
       "0     abaldonadamente        0    0     0     0     0     0     0     0     0   \n",
       "1     abarrancamiento        0    0     0     0     0     0     0     0     0   \n",
       "2     abdicativamente        0    0     0     0     0     0     0     0     0   \n",
       "3     aburguesamiento        3    0     0     0     0     0     0     0     0   \n",
       "4     acaudillamiento        0    0     0     0     0     0     0     0     0   \n",
       "...               ...      ...  ...   ...   ...   ...   ...   ...   ...   ...   \n",
       "1005  vitivinicultora        0    1     0     0     0     0     0     0     0   \n",
       "1006  vitivinicultura        0    1     0     0     0     0     0     0     0   \n",
       "1007  vituperosamente        0    0     0     0     0     0     0     0     0   \n",
       "1008  voluntariamente       17    0     0     0     0     0     0     0     0   \n",
       "1009  voluptuosamente        0    0     0     0     0     0     0     0     0   \n",
       "\n",
       "      ...  FA6  FA7  FA8  FA9  FA10  FA11  FA12  FA13  FA14  FA15  \n",
       "0     ...    0    0    0    0     0     0     0     0     0     0  \n",
       "1     ...    0    0    0    0     0     0     0     0     0     0  \n",
       "2     ...    0    0    0    0     0     0     0     0     0     0  \n",
       "3     ...    0    0    0    0     0     0     0     0     0     0  \n",
       "4     ...    0    0    0    0     0     0     0     0     0     0  \n",
       "...   ...  ...  ...  ...  ...   ...   ...   ...   ...   ...   ...  \n",
       "1005  ...    0    0    0    0     0     0     0     0     0     0  \n",
       "1006  ...    0    0    0    0     0     0     0     0     0     0  \n",
       "1007  ...    0    0    0    0     0     0     0     0     0     0  \n",
       "1008  ...    0    0    0    0     0     0     0     0     0     0  \n",
       "1009  ...    0    0    0    0     0     0     0     0     0     0  \n",
       "\n",
       "[1010 rows x 69 columns]"
      ]
     },
     "execution_count": 6,
     "metadata": {},
     "output_type": "execute_result"
    }
   ],
   "source": [
    "#TMP Debbuging the 15 sheet\n",
    "\n",
    "words15letters = pd.read_excel (wordlist_fileLONG, sheet_name=\"15\")\n",
    "words15letters\n"
   ]
  },
  {
   "cell_type": "markdown",
   "metadata": {},
   "source": [
    "### Counting the letters into the frequency database \n",
    "\n",
    "To build the statistics about how frequent each letter is."
   ]
  },
  {
   "cell_type": "code",
   "execution_count": 65,
   "metadata": {
    "scrolled": true
   },
   "outputs": [
    {
     "data": {
      "text/html": [
       "<div>\n",
       "<style scoped>\n",
       "    .dataframe tbody tr th:only-of-type {\n",
       "        vertical-align: middle;\n",
       "    }\n",
       "\n",
       "    .dataframe tbody tr th {\n",
       "        vertical-align: top;\n",
       "    }\n",
       "\n",
       "    .dataframe thead th {\n",
       "        text-align: right;\n",
       "    }\n",
       "</style>\n",
       "<table border=\"1\" class=\"dataframe\">\n",
       "  <thead>\n",
       "    <tr style=\"text-align: right;\">\n",
       "      <th></th>\n",
       "      <th>PALABRA</th>\n",
       "      <th>FRECUENC</th>\n",
       "    </tr>\n",
       "  </thead>\n",
       "  <tbody>\n",
       "    <tr>\n",
       "      <th>0</th>\n",
       "      <td>aba</td>\n",
       "      <td>0</td>\n",
       "    </tr>\n",
       "    <tr>\n",
       "      <th>1</th>\n",
       "      <td>aca</td>\n",
       "      <td>0</td>\n",
       "    </tr>\n",
       "    <tr>\n",
       "      <th>2</th>\n",
       "      <td>acá</td>\n",
       "      <td>46</td>\n",
       "    </tr>\n",
       "    <tr>\n",
       "      <th>3</th>\n",
       "      <td>adó</td>\n",
       "      <td>0</td>\n",
       "    </tr>\n",
       "    <tr>\n",
       "      <th>4</th>\n",
       "      <td>afé</td>\n",
       "      <td>0</td>\n",
       "    </tr>\n",
       "    <tr>\n",
       "      <th>...</th>\n",
       "      <td>...</td>\n",
       "      <td>...</td>\n",
       "    </tr>\n",
       "    <tr>\n",
       "      <th>95378</th>\n",
       "      <td>ultramicroscopio</td>\n",
       "      <td>0</td>\n",
       "    </tr>\n",
       "    <tr>\n",
       "      <th>95379</th>\n",
       "      <td>ventriculografía</td>\n",
       "      <td>0</td>\n",
       "    </tr>\n",
       "    <tr>\n",
       "      <th>95380</th>\n",
       "      <td>vertiginosamente</td>\n",
       "      <td>2</td>\n",
       "    </tr>\n",
       "    <tr>\n",
       "      <th>95381</th>\n",
       "      <td>vicealmirantazgo</td>\n",
       "      <td>0</td>\n",
       "    </tr>\n",
       "    <tr>\n",
       "      <th>95382</th>\n",
       "      <td>vituperiosamente</td>\n",
       "      <td>0</td>\n",
       "    </tr>\n",
       "  </tbody>\n",
       "</table>\n",
       "<p>95383 rows × 2 columns</p>\n",
       "</div>"
      ],
      "text/plain": [
       "                PALABRA FRECUENC\n",
       "0                   aba        0\n",
       "1                   aca        0\n",
       "2                   acá       46\n",
       "3                   adó        0\n",
       "4                   afé        0\n",
       "...                 ...      ...\n",
       "95378  ultramicroscopio        0\n",
       "95379  ventriculografía        0\n",
       "95380  vertiginosamente        2\n",
       "95381  vicealmirantazgo        0\n",
       "95382  vituperiosamente        0\n",
       "\n",
       "[95383 rows x 2 columns]"
      ]
     },
     "execution_count": 65,
     "metadata": {},
     "output_type": "execute_result"
    }
   ],
   "source": [
    "## Obtain the full database\n",
    "## SLOW Run carefully.\n",
    "\n",
    "#load the sheets for 5 and 6 letters words as Pandas DataFrames\n",
    "all_words = pd.DataFrame(columns=[\"PALABRA\",\"FRECUENC\"])\n",
    "\n",
    "\n",
    "for i in range(3,10): # range from 3 to 9, inclusive\n",
    "    # wordlist_fileSHORT\n",
    "    sheety = pd.read_excel (wordlist_fileSHORT, sheet_name=f\"{i}\")\n",
    "    all_words = all_words.append( pd.DataFrame(sheety ,columns=[\"PALABRA\",\"FRECUENC\"]), ignore_index=True )\n",
    "for i in range(10,17): # range from 10 to 16, inclusive\n",
    "    # wordlist_fileLONG\n",
    "    sheety = pd.read_excel (wordlist_fileLONG, sheet_name=f\"{i}\")\n",
    "    all_words = all_words.append(pd.DataFrame(sheety ,columns=[\"PALABRA\",\"FRECUENC\"]), ignore_index=True )\n",
    "\n",
    "\n",
    "\n",
    "all_words\n"
   ]
  },
  {
   "cell_type": "code",
   "execution_count": 12,
   "metadata": {},
   "outputs": [],
   "source": [
    "## Count the word into the stats D\n",
    "## WARNING: Modifies state (word count)\n",
    "\n",
    "def is_vowel(letter):\n",
    "    \"\"\" returt if it's a vowel \"\"\"\n",
    "    return unidecode.unidecode(letter) in \"aeiou\"\n",
    "\n",
    "def no_accent(letter):\n",
    "    \"\"\" turn a letter into the no accent equivalent\"\"\"\n",
    "    return unidecode.unidecode(letter) \n",
    "\n",
    "assert is_vowel(\"a\") == True\n",
    "assert is_vowel(\"á\") == True\n",
    "assert is_vowel(\"v\") == False\n",
    "\n",
    "\n",
    "assert no_accent(\"a\") == \"a\"\n",
    "assert no_accent(\"á\") == \"a\"\n",
    "assert no_accent(\"v\") == \"v\"\n",
    "    \n",
    "def count_word(word, letter_frequency = letter_frequency, accent_dif = accent_dif):\n",
    "    \"\"\"\n",
    "    Given a word, update the global stats dictionary.\n",
    "    It considers if you want to distinguish accents or not.\n",
    "    \"\"\"\n",
    "    global word_sum\n",
    "    # don't count not numbers\n",
    "    if type(word) == type(0.1):\n",
    "        return None\n",
    "    # Count the word to the total of words\n",
    "    word_sum += 1\n",
    "    # We might need to exclude accents, but not the ñ\n",
    "    for letter in word:\n",
    "        if not accent_dif: # we must NOT distinguish accents\n",
    "            if is_vowel(letter):\n",
    "                letter_frequency[no_accent(letter)] += 1\n",
    "            else:\n",
    "                letter_frequency[letter] += 1\n",
    "        else:\n",
    "            letter_frequency[letter] += 1\n"
   ]
  },
  {
   "cell_type": "code",
   "execution_count": 20,
   "metadata": {},
   "outputs": [
    {
     "name": "stdout",
     "output_type": "stream",
     "text": [
      "Letter frequency from least to most\n",
      "w : 24\n",
      "k : 89\n",
      "y : 1252\n",
      "x : 1402\n",
      "q : 3280\n",
      "j : 5190\n",
      "z : 6454\n",
      "v : 8209\n",
      "h : 8224\n",
      "f : 9330\n",
      "g : 14703\n",
      "b : 15241\n",
      "p : 19532\n",
      "m : 25658\n",
      "u : 26367\n",
      "d : 34490\n",
      "s : 34923\n",
      "l : 39449\n",
      "t : 43949\n",
      "c : 46648\n",
      "n : 52935\n",
      "i : 70377\n",
      "r : 77056\n",
      "o : 78651\n",
      "e : 79179\n",
      "a : 130353\n",
      "Total words counted from CSV\n",
      "95383\n"
     ]
    },
    {
     "data": {
      "text/plain": [
       "0"
      ]
     },
     "execution_count": 20,
     "metadata": {},
     "output_type": "execute_result"
    }
   ],
   "source": [
    "### DEBUG Error checking which words are missing on the new data set.\n",
    "#### Loading a manually concatenated csv file.\n",
    "\n",
    "filename = \"../data/ListaTodasPalabras.csv\"\n",
    "# Initialise some variables\n",
    "d = defaultdict(lambda:0)\n",
    "total = 0\n",
    "palabras = []\n",
    "\n",
    "with open(filename) as fh:\n",
    "    # count the total words and the letters\n",
    "    for word in fh.readlines():\n",
    "        if word == \"PALABRAS\\n\":\n",
    "            continue # Ignore the header name\n",
    "        total += 1\n",
    "        palabras.append(word.strip())\n",
    "        noacc = unidecode.unidecode(word)\n",
    "        for letter in noacc.strip():\n",
    "            d[letter] += 1\n",
    "\n",
    "\n",
    "print(\"Letter frequency from least to most\")\n",
    "s = {k: v for k, v in sorted(d.items(), key=lambda item: item[1])}\n",
    "\n",
    "\n",
    "for item,val in s.items():\n",
    "    print(f\"{item} : {val}\")\n",
    "\n",
    "\n",
    "def is_not_in(word, palabras=palabras):\n",
    "    if word in palabras:\n",
    "        return None\n",
    "    else:\n",
    "        return word\n",
    "    \n",
    "    \n",
    "assert is_not_in(\"aba\") == None\n",
    "assert is_not_in(\"somethingrandom\") == \"somethingrandom\"\n",
    "\n",
    "################ Contando palabras de un CSV pegado a mano\n",
    "\n",
    "print(\"Total words counted from CSV\")\n",
    "print(total)\n",
    "\n",
    "# TODO: There are some issues with importing the excel into pandas. some are fake nan.\n",
    "len(all_words) - len(palabras) # Equals 0. There are the same number of records, but some are \"nan\"\n"
   ]
  },
  {
   "cell_type": "code",
   "execution_count": null,
   "metadata": {},
   "outputs": [],
   "source": [
    "# DEBUG : Running it in one word (WARNING: State change)\n",
    "\n",
    "p = all_words[3].PALABRA[15]\n",
    "f = all_words[3].FRECUENC[15]\n",
    "\n",
    "print(p)\n",
    "print(f)\n",
    "\n",
    "print(\"Stadisticas antes\", word_sum )\n",
    "print(\"Stadisticas antes\", letter_frequency )\n",
    "count_word(p)\n",
    "print(\"Stadisticas despues\", word_sum )\n",
    "print(\"Stadisticas despues\", letter_frequency )"
   ]
  },
  {
   "cell_type": "code",
   "execution_count": 26,
   "metadata": {
    "scrolled": true
   },
   "outputs": [
    {
     "data": {
      "text/plain": [
       "defaultdict(<function __main__.<lambda>()>,\n",
       "            {'a': 130353,\n",
       "             'b': 15241,\n",
       "             'c': 46648,\n",
       "             'd': 34490,\n",
       "             'o': 78651,\n",
       "             'f': 9330,\n",
       "             'e': 79179,\n",
       "             'g': 14703,\n",
       "             'h': 8224,\n",
       "             'i': 70377,\n",
       "             'j': 5190,\n",
       "             'l': 39449,\n",
       "             'm': 25658,\n",
       "             'n': 50682,\n",
       "             'ñ': 2253,\n",
       "             'p': 19532,\n",
       "             'r': 77056,\n",
       "             's': 34923,\n",
       "             't': 43949,\n",
       "             'u': 26367,\n",
       "             'v': 8209,\n",
       "             'x': 1402,\n",
       "             'y': 1252,\n",
       "             'z': 6454,\n",
       "             'k': 89,\n",
       "             'q': 3280,\n",
       "             'w': 24})"
      ]
     },
     "execution_count": 26,
     "metadata": {},
     "output_type": "execute_result"
    }
   ],
   "source": [
    "# Running it on all the words\n",
    "## Building the Freq Table. Run Once.\n",
    "\n",
    "def build_letter_freq_table():\n",
    "    \"\"\"\n",
    "    Build the table with the total stats of letter frequency\n",
    "    \"\"\"\n",
    "    for idx, word in enumerate(all_words.PALABRA):\n",
    "        # make each letter into the stats dir.\n",
    "        try:\n",
    "            count_word(word)\n",
    "        except TypeError as e:\n",
    "            print(e)\n",
    "            print(word)\n",
    "            print(type(word))\n",
    "            print(\"WTF\")\n",
    "    return None\n",
    "\n",
    "build_letter_freq_table()\n",
    "letter_frequency\n",
    "\n",
    "\n"
   ]
  },
  {
   "cell_type": "code",
   "execution_count": 66,
   "metadata": {},
   "outputs": [
    {
     "data": {
      "application/javascript": [
       "$(document).ready(\n",
       "    function() {\n",
       "        function appendUniqueDiv(){\n",
       "            // append a div with our uuid so we can check that it's already\n",
       "            // been sent and avoid duplicates on page reload\n",
       "            var notifiedDiv = document.createElement(\"div\")\n",
       "            notifiedDiv.id = \"f6a31892-22e1-4526-b27c-4e8c7dcafeec\"\n",
       "            element.append(notifiedDiv)\n",
       "        }\n",
       "\n",
       "        // only send notifications if the pageload is complete; this will\n",
       "        // help stop extra notifications when a saved notebook is loaded,\n",
       "        // which during testing gives us state \"interactive\", not \"complete\"\n",
       "        if (document.readyState === 'complete') {\n",
       "            // check for the div that signifies that the notification\n",
       "            // was already sent\n",
       "            if (document.getElementById(\"f6a31892-22e1-4526-b27c-4e8c7dcafeec\") === null) {\n",
       "                var notificationPayload = {\"requireInteraction\": false, \"icon\": \"/static/base/images/favicon.ico\", \"body\": \"freq table built\"};\n",
       "                if (Notification.permission !== 'denied') {\n",
       "                    if (Notification.permission !== 'granted') { \n",
       "                        Notification.requestPermission(function (permission) {\n",
       "                            if(!('permission' in Notification)) {\n",
       "                                Notification.permission = permission\n",
       "                            }\n",
       "                        })\n",
       "                    }\n",
       "                    if (Notification.permission === 'granted') {\n",
       "                    var notification = new Notification(\"Jupyter Notebook\", notificationPayload)\n",
       "                    appendUniqueDiv()\n",
       "                    notification.onclick = function () {\n",
       "                        window.focus();\n",
       "                        this.close();\n",
       "                        };\n",
       "                    } \n",
       "                }     \n",
       "            }\n",
       "        }\n",
       "    }\n",
       ")\n"
      ],
      "text/plain": [
       "<IPython.core.display.Javascript object>"
      ]
     },
     "metadata": {},
     "output_type": "display_data"
    }
   ],
   "source": [
    "%notify -m \"freq table built\""
   ]
  },
  {
   "cell_type": "code",
   "execution_count": null,
   "metadata": {
    "scrolled": true
   },
   "outputs": [],
   "source": [
    "# Running it on all the words to check for missing words\n",
    "\n",
    "palabras_not_in = []\n",
    "\n",
    "def find_missing_words():\n",
    "    \"\"\"\n",
    "    Build the table with the total stats of letter frequency\n",
    "    \"\"\"\n",
    "    for idx, word in enumerate(all_words.PALABRA):\n",
    "        # make each letter into the stats dir.\n",
    "        try:\n",
    "            if is_not_in(word):\n",
    "                palabras_not_in.append(word)\n",
    "        except TypeError as e:\n",
    "            print(e)\n",
    "            print(word)\n",
    "            print(type(word))\n",
    "            print(\"WTF\")\n",
    "    return None\n",
    "\n",
    "find_missing_words()\n",
    "letter_frequency\n",
    "\n",
    "\n"
   ]
  },
  {
   "cell_type": "code",
   "execution_count": null,
   "metadata": {},
   "outputs": [],
   "source": [
    "# todelete: Another way to run stuff on all the words.\n",
    "# Trying to get missing words.\n",
    "\n",
    "for idx, word in all_words.PALABRA.iteritems():\n",
    "    if word == \"abejorreo\":\n",
    "        print(\"YAY\")\n",
    "    try:\n",
    "        pass\n",
    "        #print(\"after\",all_words.PALABRA.get(idx-1))\n",
    "    except TypeError as e:\n",
    "        print(e)\n",
    "\n",
    "#\"anatomopatólogo\""
   ]
  },
  {
   "cell_type": "code",
   "execution_count": 67,
   "metadata": {},
   "outputs": [
    {
     "name": "stdout",
     "output_type": "stream",
     "text": [
      "avo\n",
      "95383\n"
     ]
    }
   ],
   "source": [
    "print(all_words.PALABRA[37])\n",
    "print(len(all_words.PALABRA))"
   ]
  },
  {
   "cell_type": "code",
   "execution_count": null,
   "metadata": {},
   "outputs": [],
   "source": []
  },
  {
   "cell_type": "code",
   "execution_count": null,
   "metadata": {},
   "outputs": [],
   "source": [
    "# TMP Notes. How to merge 2 dataframes\n",
    "df1 = palabras # tendria que ser un data frame.\n",
    "df2 = all_words # all the words\n",
    "merged = df1.merge(df2, indicator=True, how='outer')\n",
    "merged[merged['_merge'] == 'right_only']"
   ]
  },
  {
   "cell_type": "code",
   "execution_count": 68,
   "metadata": {},
   "outputs": [
    {
     "name": "stdout",
     "output_type": "stream",
     "text": [
      "letter_frequency defaultdict(<function <lambda> at 0x7f48ac6c6ea0>, {'a': 130353, 'b': 15241, 'c': 46648, 'd': 34490, 'o': 78651, 'f': 9330, 'e': 79179, 'g': 14703, 'h': 8224, 'i': 70377, 'j': 5190, 'l': 39449, 'm': 25658, 'n': 50682, 'ñ': 2253, 'p': 19532, 'r': 77056, 's': 34923, 't': 43949, 'u': 26367, 'v': 8209, 'x': 1402, 'y': 1252, 'z': 6454, 'k': 89, 'q': 3280, 'w': 24})\n",
      "word_sum 95383\n",
      "missing words 0\n"
     ]
    },
    {
     "data": {
      "application/javascript": [
       "$(document).ready(\n",
       "    function() {\n",
       "        function appendUniqueDiv(){\n",
       "            // append a div with our uuid so we can check that it's already\n",
       "            // been sent and avoid duplicates on page reload\n",
       "            var notifiedDiv = document.createElement(\"div\")\n",
       "            notifiedDiv.id = \"46e658bf-aa58-4a0b-b7c9-e7873bae8855\"\n",
       "            element.append(notifiedDiv)\n",
       "        }\n",
       "\n",
       "        // only send notifications if the pageload is complete; this will\n",
       "        // help stop extra notifications when a saved notebook is loaded,\n",
       "        // which during testing gives us state \"interactive\", not \"complete\"\n",
       "        if (document.readyState === 'complete') {\n",
       "            // check for the div that signifies that the notification\n",
       "            // was already sent\n",
       "            if (document.getElementById(\"46e658bf-aa58-4a0b-b7c9-e7873bae8855\") === null) {\n",
       "                var notificationPayload = {\"requireInteraction\": false, \"icon\": \"/static/base/images/favicon.ico\", \"body\": \"Cell execution has finished!\"};\n",
       "                if (Notification.permission !== 'denied') {\n",
       "                    if (Notification.permission !== 'granted') { \n",
       "                        Notification.requestPermission(function (permission) {\n",
       "                            if(!('permission' in Notification)) {\n",
       "                                Notification.permission = permission\n",
       "                            }\n",
       "                        })\n",
       "                    }\n",
       "                    if (Notification.permission === 'granted') {\n",
       "                    var notification = new Notification(\"Jupyter Notebook\", notificationPayload)\n",
       "                    appendUniqueDiv()\n",
       "                    notification.onclick = function () {\n",
       "                        window.focus();\n",
       "                        this.close();\n",
       "                        };\n",
       "                    } \n",
       "                }     \n",
       "            }\n",
       "        }\n",
       "    }\n",
       ")\n"
      ],
      "text/plain": [
       "<IPython.core.display.Javascript object>"
      ]
     },
     "metadata": {},
     "output_type": "display_data"
    }
   ],
   "source": [
    "%%notify \n",
    "# RUN: Check stats\n",
    "print(\"letter_frequency\",letter_frequency)\n",
    "print(\"word_sum\",word_sum)\n",
    "print(\"missing words\", len(palabras_not_in))\n"
   ]
  },
  {
   "cell_type": "code",
   "execution_count": 69,
   "metadata": {},
   "outputs": [
    {
     "data": {
      "application/javascript": [
       "$(document).ready(\n",
       "    function() {\n",
       "        function appendUniqueDiv(){\n",
       "            // append a div with our uuid so we can check that it's already\n",
       "            // been sent and avoid duplicates on page reload\n",
       "            var notifiedDiv = document.createElement(\"div\")\n",
       "            notifiedDiv.id = \"3e25ec6e-bcc2-4777-97d3-e4793edb356a\"\n",
       "            element.append(notifiedDiv)\n",
       "        }\n",
       "\n",
       "        // only send notifications if the pageload is complete; this will\n",
       "        // help stop extra notifications when a saved notebook is loaded,\n",
       "        // which during testing gives us state \"interactive\", not \"complete\"\n",
       "        if (document.readyState === 'complete') {\n",
       "            // check for the div that signifies that the notification\n",
       "            // was already sent\n",
       "            if (document.getElementById(\"3e25ec6e-bcc2-4777-97d3-e4793edb356a\") === null) {\n",
       "                var notificationPayload = {\"requireInteraction\": false, \"icon\": \"/static/base/images/favicon.ico\", \"body\": \"Cell execution has finished!\"};\n",
       "                if (Notification.permission !== 'denied') {\n",
       "                    if (Notification.permission !== 'granted') { \n",
       "                        Notification.requestPermission(function (permission) {\n",
       "                            if(!('permission' in Notification)) {\n",
       "                                Notification.permission = permission\n",
       "                            }\n",
       "                        })\n",
       "                    }\n",
       "                    if (Notification.permission === 'granted') {\n",
       "                    var notification = new Notification(\"Jupyter Notebook\", notificationPayload)\n",
       "                    appendUniqueDiv()\n",
       "                    notification.onclick = function () {\n",
       "                        window.focus();\n",
       "                        this.close();\n",
       "                        };\n",
       "                    } \n",
       "                }     \n",
       "            }\n",
       "        }\n",
       "    }\n",
       ")\n"
      ],
      "text/plain": [
       "<IPython.core.display.Javascript object>"
      ]
     },
     "metadata": {},
     "output_type": "display_data"
    }
   ],
   "source": [
    "%notify "
   ]
  },
  {
   "cell_type": "markdown",
   "metadata": {},
   "source": [
    "### Calculate the Percentage of frequency for each letter\n",
    "\n",
    "With the table of frequencies, we calculate the percentage of frequency of each letter.\n"
   ]
  },
  {
   "cell_type": "code",
   "execution_count": 34,
   "metadata": {},
   "outputs": [
    {
     "name": "stdout",
     "output_type": "stream",
     "text": [
      "The sum of all the letters counted is: 832965\n",
      "The frequency percentage of each letter is:  defaultdict(<function <lambda> at 0x7f4886e0e048>, {'a': 15.649276980425348, 'b': 1.8297287401031255, 'c': 5.60023530400437, 'd': 4.140630158530071, 'o': 9.442293493724225, 'f': 1.1200950820262556, 'e': 9.505681511227962, 'g': 1.7651401919648484, 'h': 0.9873163938460799, 'i': 8.448974446705444, 'j': 0.6230753993265024, 'l': 4.735973300198688, 'm': 3.08032150210393, 'n': 6.084529361977994, 'ñ': 0.2704795519619672, 'p': 2.34487643538444, 'r': 9.250808857515022, 's': 4.192613135005672, 't': 5.276212085741898, 'u': 3.165439124092849, 'v': 0.9855155978942692, 'x': 0.16831439496257344, 'y': 0.15030643544446645, 'z': 0.7748224715324173, 'k': 0.010684722647410156, 'q': 0.39377404812927314, 'w': 0.0028812735228971207})\n",
      "100  should be  100\n"
     ]
    }
   ],
   "source": [
    "## \n",
    "# tenemos la tabla de frec. Necesitamos phi. Hay que calcular, el phi de una palabla.\n",
    "# para el phi, necesitamos, el % de frequencias\n",
    "\n",
    "#suma todas las frec de todas las letras\n",
    "tot_letters = 0 # all the counted letters\n",
    "for k,v in letter_frequency.items():\n",
    "    tot_letters += v\n",
    "    \n",
    "print(\"The sum of all the letters counted is:\",tot_letters)\n",
    "\n",
    "# Calculate the percentage of each letter's frequency\n",
    "\n",
    "# letter_freq_percent = defaultdict(lambda:0) #reset it for testing\n",
    "for letter,freq in letter_frequency.items():\n",
    "    letter_freq_percent[letter] = (letter_frequency[letter] * 100 ) / tot_letters\n",
    "    \n",
    "print(\"The frequency percentage of each letter is: \",letter_freq_percent)\n",
    "\n",
    "# Validate that the percentile is correct\n",
    "check = 0\n",
    "for l,f in letter_freq_percent.items():\n",
    "    check+=f\n",
    "print(round(check), \" should be \", 100)\n",
    "    "
   ]
  },
  {
   "cell_type": "markdown",
   "metadata": {},
   "source": [
    "### Calculate  Phi\n",
    "\n",
    "take the frequency of each letter in a word, and add it up, to calculate the total \"Phi\" score.\n"
   ]
  },
  {
   "cell_type": "code",
   "execution_count": 40,
   "metadata": {},
   "outputs": [
    {
     "name": "stdout",
     "output_type": "stream",
     "text": [
      "23.9063 23.9063\n",
      "41.0914 41.0914\n"
     ]
    }
   ],
   "source": [
    "\n",
    "def calculate_phi(word):\n",
    "    \"\"\" Calculate Phi\n",
    "    Sum the frequency of each letter of the word\"\"\"\n",
    "    phi = 0\n",
    "    for letter in word:\n",
    "        phi += letter_freq_percent[letter]\n",
    "    return phi\n",
    "\n",
    "assert round(calculate_phi(\"aa\"),4) == round(31.2986,4)\n",
    "assert calculate_phi(\"\") == 0 \n",
    "print( round(calculate_phi(\"busto\"),4), round(23.9063,4 ))\n",
    "print( round(calculate_phi(\"casa\"),4), round(41.0914,4 ))\n"
   ]
  },
  {
   "cell_type": "markdown",
   "metadata": {},
   "source": [
    "### Calculate Rho\n",
    "\n",
    "Sum the total of strokes required for a word, adding up the strokes of each letter in it."
   ]
  },
  {
   "cell_type": "code",
   "execution_count": 124,
   "metadata": {},
   "outputs": [],
   "source": [
    "# Stats of strokes per letter.\n",
    "rasgos = {\n",
    "        \"a\": 3,        \"b\": 4,        \"c\": 2,        \"d\": 3,        \"e\": 3,        \"f\": 4,\n",
    "        \"g\": 4,        \"h\": 4,        \"i\": 3,        \"j\": 3,        \"k\": 5,        \"l\": 2,\n",
    "        \"m\": 6,        \"n\": 4,        \"o\": 3,        \"p\": 4,        \"q\": 3,        \"r\": 3,\n",
    "        \"s\": 3,        \"t\": 4,        \"u\": 4,        \"v\": 4,        \"w\": 6,        \"x\": 4,\n",
    "        \"y\": 5,        \"z\": 5,        \"ñ\": 5\n",
    "}"
   ]
  },
  {
   "cell_type": "code",
   "execution_count": 130,
   "metadata": {},
   "outputs": [],
   "source": [
    "## Trying to calculate Stroke sum RHO\n",
    "## Sum of all the strokes of each letter in a word\n",
    "\n",
    "def get_rho(letter):\n",
    "    if len(letter) > 1:\n",
    "        print(\"ERROR: \", letter)\n",
    "        raise Exception(\"Word instead of letter\")\n",
    "    return rasgos[letter]\n",
    "\n",
    "def calculate_rho(word=None):\n",
    "    \"\"\" Calculate the Rho value of a word.\n",
    "    Rho is the sum of the strokes of the each letter in a word.\n",
    "    \"\"\"\n",
    "    if word is None:\n",
    "        return 0\n",
    "    rho = 0\n",
    "    for letter in word:\n",
    "        if not accent_dif: # we must NOT distinguish accents\n",
    "            if is_vowel(letter):\n",
    "                rho += get_rho(no_accent(letter))\n",
    "            else:\n",
    "                rho += get_rho(letter)\n",
    "        else:\n",
    "            rho += get_rho(letter)\n",
    "    return rho\n",
    "\n",
    "assert calculate_rho(\"aa\") == 6\n",
    "assert calculate_rho(\"\")==0\n",
    "assert calculate_rho(\"peluca\")== 18\n",
    "assert calculate_rho(\"pelúca\")== 18\n",
    "assert calculate_rho()==0"
   ]
  },
  {
   "cell_type": "markdown",
   "metadata": {},
   "source": [
    "## Adding the data together\n",
    "\n",
    "Now that we can calculate Phi (total frecuency of letters) and Rho (total strokes to write the word),\n",
    "we can compute a big table to hold all the data together, and make creating experiments easier.\n",
    "\n"
   ]
  },
  {
   "cell_type": "code",
   "execution_count": 301,
   "metadata": {},
   "outputs": [
    {
     "name": "stdout",
     "output_type": "stream",
     "text": [
      "<class 'pandas.core.frame.DataFrame'>\n",
      "<class 'pandas.core.frame.DataFrame'>\n",
      "<class 'pandas.core.frame.DataFrame'>\n"
     ]
    },
    {
     "data": {
      "text/html": [
       "<div>\n",
       "<style scoped>\n",
       "    .dataframe tbody tr th:only-of-type {\n",
       "        vertical-align: middle;\n",
       "    }\n",
       "\n",
       "    .dataframe tbody tr th {\n",
       "        vertical-align: top;\n",
       "    }\n",
       "\n",
       "    .dataframe thead th {\n",
       "        text-align: right;\n",
       "    }\n",
       "</style>\n",
       "<table border=\"1\" class=\"dataframe\">\n",
       "  <thead>\n",
       "    <tr style=\"text-align: right;\">\n",
       "      <th></th>\n",
       "      <th>PALABRA</th>\n",
       "      <th>FRECUENC</th>\n",
       "      <th>RHO</th>\n",
       "      <th>PHI</th>\n",
       "      <th>LENGTH</th>\n",
       "    </tr>\n",
       "  </thead>\n",
       "  <tbody>\n",
       "    <tr>\n",
       "      <th>0</th>\n",
       "      <td>aba</td>\n",
       "      <td>0</td>\n",
       "      <td>10</td>\n",
       "      <td>33.128283</td>\n",
       "      <td>3</td>\n",
       "    </tr>\n",
       "    <tr>\n",
       "      <th>1</th>\n",
       "      <td>aca</td>\n",
       "      <td>0</td>\n",
       "      <td>8</td>\n",
       "      <td>36.898789</td>\n",
       "      <td>3</td>\n",
       "    </tr>\n",
       "    <tr>\n",
       "      <th>2</th>\n",
       "      <td>acá</td>\n",
       "      <td>46</td>\n",
       "      <td>8</td>\n",
       "      <td>21.249512</td>\n",
       "      <td>3</td>\n",
       "    </tr>\n",
       "    <tr>\n",
       "      <th>3</th>\n",
       "      <td>adó</td>\n",
       "      <td>0</td>\n",
       "      <td>9</td>\n",
       "      <td>19.789907</td>\n",
       "      <td>3</td>\n",
       "    </tr>\n",
       "    <tr>\n",
       "      <th>4</th>\n",
       "      <td>afé</td>\n",
       "      <td>0</td>\n",
       "      <td>10</td>\n",
       "      <td>16.769372</td>\n",
       "      <td>3</td>\n",
       "    </tr>\n",
       "    <tr>\n",
       "      <th>...</th>\n",
       "      <td>...</td>\n",
       "      <td>...</td>\n",
       "      <td>...</td>\n",
       "      <td>...</td>\n",
       "      <td>...</td>\n",
       "    </tr>\n",
       "    <tr>\n",
       "      <th>95378</th>\n",
       "      <td>ultramicroscopio</td>\n",
       "      <td>0</td>\n",
       "      <td>51</td>\n",
       "      <td>113.371630</td>\n",
       "      <td>16</td>\n",
       "    </tr>\n",
       "    <tr>\n",
       "      <th>95379</th>\n",
       "      <td>ventriculografía</td>\n",
       "      <td>0</td>\n",
       "      <td>52</td>\n",
       "      <td>105.930261</td>\n",
       "      <td>16</td>\n",
       "    </tr>\n",
       "    <tr>\n",
       "      <th>95380</th>\n",
       "      <td>vertiginosamente</td>\n",
       "      <td>2</td>\n",
       "      <td>57</td>\n",
       "      <td>112.502446</td>\n",
       "      <td>16</td>\n",
       "    </tr>\n",
       "    <tr>\n",
       "      <th>95381</th>\n",
       "      <td>vicealmirantazgo</td>\n",
       "      <td>0</td>\n",
       "      <td>55</td>\n",
       "      <td>120.347314</td>\n",
       "      <td>16</td>\n",
       "    </tr>\n",
       "    <tr>\n",
       "      <th>95382</th>\n",
       "      <td>vituperiosamente</td>\n",
       "      <td>0</td>\n",
       "      <td>57</td>\n",
       "      <td>110.163092</td>\n",
       "      <td>16</td>\n",
       "    </tr>\n",
       "  </tbody>\n",
       "</table>\n",
       "<p>95383 rows × 5 columns</p>\n",
       "</div>"
      ],
      "text/plain": [
       "                PALABRA FRECUENC  RHO         PHI  LENGTH\n",
       "0                   aba        0   10   33.128283       3\n",
       "1                   aca        0    8   36.898789       3\n",
       "2                   acá       46    8   21.249512       3\n",
       "3                   adó        0    9   19.789907       3\n",
       "4                   afé        0   10   16.769372       3\n",
       "...                 ...      ...  ...         ...     ...\n",
       "95378  ultramicroscopio        0   51  113.371630      16\n",
       "95379  ventriculografía        0   52  105.930261      16\n",
       "95380  vertiginosamente        2   57  112.502446      16\n",
       "95381  vicealmirantazgo        0   55  120.347314      16\n",
       "95382  vituperiosamente        0   57  110.163092      16\n",
       "\n",
       "[95383 rows x 5 columns]"
      ]
     },
     "execution_count": 301,
     "metadata": {},
     "output_type": "execute_result"
    }
   ],
   "source": [
    "## Create DATA\n",
    "## Creating a new column with the Rho of each word\n",
    "print(type(all_words))\n",
    "\n",
    "def compute_rho(df):\n",
    "    return [calculate_rho(x) for x in df.PALABRA]\n",
    "\n",
    "data = all_words.assign(RHO=lambda x: compute_rho(x))\n",
    "\n",
    "## Creating a new column with the Phi of each word\n",
    "print(type(all_words))\n",
    "\n",
    "def compute_phi(df):\n",
    "    return [calculate_phi(x) for x in df.PALABRA]\n",
    "\n",
    "data = data.assign(PHI=lambda x: compute_phi(x))\n",
    "\n",
    "## Creating a new column with the length\n",
    "print(type(all_words))\n",
    "\n",
    "def compute_len(df):\n",
    "    return [len(x) for x in df.PALABRA]\n",
    "\n",
    "data = data.assign(LENGTH=lambda x: compute_len(x))\n",
    "\n",
    "data"
   ]
  },
  {
   "cell_type": "code",
   "execution_count": 282,
   "metadata": {},
   "outputs": [
    {
     "data": {
      "text/plain": [
       "<matplotlib.axes._subplots.AxesSubplot at 0x7f4872a12198>"
      ]
     },
     "execution_count": 282,
     "metadata": {},
     "output_type": "execute_result"
    },
    {
     "data": {
      "image/png": "[encoded data removed]",
      "text/plain": [
       "<Figure size 432x288 with 1 Axes>"
      ]
     },
     "metadata": {},
     "output_type": "display_data"
    }
   ],
   "source": [
    "data.PHI.plot()\n"
   ]
  },
  {
   "cell_type": "code",
   "execution_count": 146,
   "metadata": {},
   "outputs": [
    {
     "data": {
      "text/plain": [
       "<matplotlib.axes._subplots.AxesSubplot at 0x7f48842af0f0>"
      ]
     },
     "execution_count": 146,
     "metadata": {},
     "output_type": "execute_result"
    },
    {
     "data": {
      "image/png": "[encoded data removed]",
      "text/plain": [
       "<Figure size 432x288 with 1 Axes>"
      ]
     },
     "metadata": {
      "needs_background": "light"
     },
     "output_type": "display_data"
    }
   ],
   "source": [
    "data.RHO.plot()"
   ]
  },
  {
   "cell_type": "code",
   "execution_count": 147,
   "metadata": {},
   "outputs": [
    {
     "data": {
      "text/plain": [
       "<matplotlib.axes._subplots.AxesSubplot at 0x7f4884240dd8>"
      ]
     },
     "execution_count": 147,
     "metadata": {},
     "output_type": "execute_result"
    },
    {
     "data": {
      "image/png": "[encoded data removed]",
      "text/plain": [
       "<Figure size 432x288 with 1 Axes>"
      ]
     },
     "metadata": {
      "needs_background": "light"
     },
     "output_type": "display_data"
    }
   ],
   "source": [
    "data.FRECUENC.plot()"
   ]
  },
  {
   "cell_type": "code",
   "execution_count": 305,
   "metadata": {},
   "outputs": [
    {
     "data": {
      "text/plain": [
       "<matplotlib.collections.PathCollection at 0x7f487fd404a8>"
      ]
     },
     "execution_count": 305,
     "metadata": {},
     "output_type": "execute_result"
    },
    {
     "data": {
      "image/png": "[encoded data removed]",
      "text/plain": [
       "<Figure size 432x288 with 1 Axes>"
      ]
     },
     "metadata": {},
     "output_type": "display_data"
    }
   ],
   "source": [
    "plt.scatter(data.FRECUENC,data.PHI) # (x=Freq,y=phi)"
   ]
  },
  {
   "cell_type": "code",
   "execution_count": 157,
   "metadata": {
    "scrolled": true
   },
   "outputs": [
    {
     "data": {
      "text/plain": [
       "<matplotlib.collections.PathCollection at 0x7f4884f651d0>"
      ]
     },
     "execution_count": 157,
     "metadata": {},
     "output_type": "execute_result"
    },
    {
     "data": {
      "image/png": "[encoded data removed]",
      "text/plain": [
       "<Figure size 432x288 with 1 Axes>"
      ]
     },
     "metadata": {},
     "output_type": "display_data"
    }
   ],
   "source": [
    "# (x=length,y=phi)\n",
    "plt.scatter(data.LENGTH,data.PHI) "
   ]
  },
  {
   "cell_type": "code",
   "execution_count": 304,
   "metadata": {
    "scrolled": true
   },
   "outputs": [
    {
     "data": {
      "text/plain": [
       "(array([4.4100e+02, 4.7420e+03, 1.4795e+04, 2.5299e+04, 2.5647e+04,\n",
       "        1.5843e+04, 6.5680e+03, 1.8040e+03, 2.3100e+02, 1.3000e+01]),\n",
       " array([  3.46605199,  18.46958756,  33.47312312,  48.47665868,\n",
       "         63.48019425,  78.48372981,  93.48726537, 108.49080093,\n",
       "        123.4943365 , 138.49787206, 153.50140762]),\n",
       " <a list of 10 Patch objects>)"
      ]
     },
     "execution_count": 304,
     "metadata": {},
     "output_type": "execute_result"
    },
    {
     "data": {
      "image/png": "[encoded data removed]",
      "text/plain": [
       "<Figure size 432x288 with 1 Axes>"
      ]
     },
     "metadata": {},
     "output_type": "display_data"
    }
   ],
   "source": [
    "# (x=phi,y=length)\n",
    "plt.hist(data.PHI) "
   ]
  },
  {
   "cell_type": "code",
   "execution_count": 312,
   "metadata": {},
   "outputs": [],
   "source": [
    "freq = 1  # Word freqency needs to be more than this, \n",
    "high_freq = 50  # Word freqency needs to be more than this, to be \"common\"\n",
    "low_freq = 10  # Word freqency needs to be less than this, to be \"rare\"\n",
    "high_phi = 100.0 # Higher than this will be consider High\n",
    "low_phi  = 30.0  # Lower that this.\n",
    "high_length = 6  # Longest words\n",
    "low_length = 5  # Shortest words"
   ]
  },
  {
   "cell_type": "code",
   "execution_count": 313,
   "metadata": {},
   "outputs": [
    {
     "data": {
      "text/html": [
       "<div>\n",
       "<style scoped>\n",
       "    .dataframe tbody tr th:only-of-type {\n",
       "        vertical-align: middle;\n",
       "    }\n",
       "\n",
       "    .dataframe tbody tr th {\n",
       "        vertical-align: top;\n",
       "    }\n",
       "\n",
       "    .dataframe thead th {\n",
       "        text-align: right;\n",
       "    }\n",
       "</style>\n",
       "<table border=\"1\" class=\"dataframe\">\n",
       "  <thead>\n",
       "    <tr style=\"text-align: right;\">\n",
       "      <th></th>\n",
       "      <th>PALABRA</th>\n",
       "      <th>FRECUENC</th>\n",
       "      <th>RHO</th>\n",
       "      <th>PHI</th>\n",
       "      <th>LENGTH</th>\n",
       "    </tr>\n",
       "  </thead>\n",
       "  <tbody>\n",
       "    <tr>\n",
       "      <th>29</th>\n",
       "      <td>aro</td>\n",
       "      <td>6</td>\n",
       "      <td>9</td>\n",
       "      <td>34.342379</td>\n",
       "      <td>3</td>\n",
       "    </tr>\n",
       "    <tr>\n",
       "      <th>30</th>\n",
       "      <td>asa</td>\n",
       "      <td>6</td>\n",
       "      <td>9</td>\n",
       "      <td>35.491167</td>\n",
       "      <td>3</td>\n",
       "    </tr>\n",
       "    <tr>\n",
       "      <th>120</th>\n",
       "      <td>ego</td>\n",
       "      <td>6</td>\n",
       "      <td>10</td>\n",
       "      <td>20.713115</td>\n",
       "      <td>3</td>\n",
       "    </tr>\n",
       "    <tr>\n",
       "      <th>123</th>\n",
       "      <td>eme</td>\n",
       "      <td>6</td>\n",
       "      <td>12</td>\n",
       "      <td>22.091685</td>\n",
       "      <td>3</td>\n",
       "    </tr>\n",
       "    <tr>\n",
       "      <th>140</th>\n",
       "      <td>fax</td>\n",
       "      <td>6</td>\n",
       "      <td>11</td>\n",
       "      <td>16.937686</td>\n",
       "      <td>3</td>\n",
       "    </tr>\n",
       "    <tr>\n",
       "      <th>...</th>\n",
       "      <td>...</td>\n",
       "      <td>...</td>\n",
       "      <td>...</td>\n",
       "      <td>...</td>\n",
       "      <td>...</td>\n",
       "    </tr>\n",
       "    <tr>\n",
       "      <th>95138</th>\n",
       "      <td>espectacularidad</td>\n",
       "      <td>5</td>\n",
       "      <td>48</td>\n",
       "      <td>122.855822</td>\n",
       "      <td>16</td>\n",
       "    </tr>\n",
       "    <tr>\n",
       "      <th>95205</th>\n",
       "      <td>indisolublemente</td>\n",
       "      <td>6</td>\n",
       "      <td>54</td>\n",
       "      <td>98.183237</td>\n",
       "      <td>16</td>\n",
       "    </tr>\n",
       "    <tr>\n",
       "      <th>95217</th>\n",
       "      <td>innecesariamente</td>\n",
       "      <td>5</td>\n",
       "      <td>54</td>\n",
       "      <td>131.873008</td>\n",
       "      <td>16</td>\n",
       "    </tr>\n",
       "    <tr>\n",
       "      <th>95220</th>\n",
       "      <td>instantáneamente</td>\n",
       "      <td>6</td>\n",
       "      <td>58</td>\n",
       "      <td>115.704261</td>\n",
       "      <td>16</td>\n",
       "    </tr>\n",
       "    <tr>\n",
       "      <th>95229</th>\n",
       "      <td>interdependencia</td>\n",
       "      <td>5</td>\n",
       "      <td>52</td>\n",
       "      <td>119.576933</td>\n",
       "      <td>16</td>\n",
       "    </tr>\n",
       "  </tbody>\n",
       "</table>\n",
       "<p>2226 rows × 5 columns</p>\n",
       "</div>"
      ],
      "text/plain": [
       "                PALABRA FRECUENC  RHO         PHI  LENGTH\n",
       "29                  aro        6    9   34.342379       3\n",
       "30                  asa        6    9   35.491167       3\n",
       "120                 ego        6   10   20.713115       3\n",
       "123                 eme        6   12   22.091685       3\n",
       "140                 fax        6   11   16.937686       3\n",
       "...                 ...      ...  ...         ...     ...\n",
       "95138  espectacularidad        5   48  122.855822      16\n",
       "95205  indisolublemente        6   54   98.183237      16\n",
       "95217  innecesariamente        5   54  131.873008      16\n",
       "95220  instantáneamente        6   58  115.704261      16\n",
       "95229  interdependencia        5   52  119.576933      16\n",
       "\n",
       "[2226 rows x 5 columns]"
      ]
     },
     "execution_count": 313,
     "metadata": {},
     "output_type": "execute_result"
    }
   ],
   "source": [
    "# Filter frequencies\n",
    "def filter_freq(value):\n",
    "    \"\"\"Keep (True) words more frequent that freq.\"\"\"\n",
    "    #return True\n",
    "    if value >= freq:\n",
    "        return True\n",
    "    else:\n",
    "        return False\n",
    "\n",
    "\n",
    "frequent = data.loc[data['FRECUENC'].apply(filter_length).fillna(False)]\n",
    "frequent"
   ]
  },
  {
   "cell_type": "code",
   "execution_count": 318,
   "metadata": {},
   "outputs": [
    {
     "name": "stdout",
     "output_type": "stream",
     "text": [
      "95383\n"
     ]
    },
    {
     "data": {
      "text/html": [
       "<div>\n",
       "<style scoped>\n",
       "    .dataframe tbody tr th:only-of-type {\n",
       "        vertical-align: middle;\n",
       "    }\n",
       "\n",
       "    .dataframe tbody tr th {\n",
       "        vertical-align: top;\n",
       "    }\n",
       "\n",
       "    .dataframe thead th {\n",
       "        text-align: right;\n",
       "    }\n",
       "</style>\n",
       "<table border=\"1\" class=\"dataframe\">\n",
       "  <thead>\n",
       "    <tr style=\"text-align: right;\">\n",
       "      <th></th>\n",
       "      <th>PALABRA</th>\n",
       "      <th>FRECUENC</th>\n",
       "      <th>RHO</th>\n",
       "      <th>PHI</th>\n",
       "      <th>LENGTH</th>\n",
       "    </tr>\n",
       "  </thead>\n",
       "  <tbody>\n",
       "    <tr>\n",
       "      <th>2</th>\n",
       "      <td>acá</td>\n",
       "      <td>46</td>\n",
       "      <td>8</td>\n",
       "      <td>21.249512</td>\n",
       "      <td>3</td>\n",
       "    </tr>\n",
       "    <tr>\n",
       "      <th>3</th>\n",
       "      <td>adó</td>\n",
       "      <td>0</td>\n",
       "      <td>9</td>\n",
       "      <td>19.789907</td>\n",
       "      <td>3</td>\n",
       "    </tr>\n",
       "    <tr>\n",
       "      <th>4</th>\n",
       "      <td>afé</td>\n",
       "      <td>0</td>\n",
       "      <td>10</td>\n",
       "      <td>16.769372</td>\n",
       "      <td>3</td>\n",
       "    </tr>\n",
       "    <tr>\n",
       "      <th>5</th>\n",
       "      <td>agá</td>\n",
       "      <td>1</td>\n",
       "      <td>10</td>\n",
       "      <td>17.414417</td>\n",
       "      <td>3</td>\n",
       "    </tr>\n",
       "    <tr>\n",
       "      <th>6</th>\n",
       "      <td>ahé</td>\n",
       "      <td>0</td>\n",
       "      <td>10</td>\n",
       "      <td>16.636593</td>\n",
       "      <td>3</td>\n",
       "    </tr>\n",
       "    <tr>\n",
       "      <th>...</th>\n",
       "      <td>...</td>\n",
       "      <td>...</td>\n",
       "      <td>...</td>\n",
       "      <td>...</td>\n",
       "      <td>...</td>\n",
       "    </tr>\n",
       "    <tr>\n",
       "      <th>95378</th>\n",
       "      <td>ultramicroscopio</td>\n",
       "      <td>0</td>\n",
       "      <td>51</td>\n",
       "      <td>113.371630</td>\n",
       "      <td>16</td>\n",
       "    </tr>\n",
       "    <tr>\n",
       "      <th>95379</th>\n",
       "      <td>ventriculografía</td>\n",
       "      <td>0</td>\n",
       "      <td>52</td>\n",
       "      <td>105.930261</td>\n",
       "      <td>16</td>\n",
       "    </tr>\n",
       "    <tr>\n",
       "      <th>95380</th>\n",
       "      <td>vertiginosamente</td>\n",
       "      <td>2</td>\n",
       "      <td>57</td>\n",
       "      <td>112.502446</td>\n",
       "      <td>16</td>\n",
       "    </tr>\n",
       "    <tr>\n",
       "      <th>95381</th>\n",
       "      <td>vicealmirantazgo</td>\n",
       "      <td>0</td>\n",
       "      <td>55</td>\n",
       "      <td>120.347314</td>\n",
       "      <td>16</td>\n",
       "    </tr>\n",
       "    <tr>\n",
       "      <th>95382</th>\n",
       "      <td>vituperiosamente</td>\n",
       "      <td>0</td>\n",
       "      <td>57</td>\n",
       "      <td>110.163092</td>\n",
       "      <td>16</td>\n",
       "    </tr>\n",
       "  </tbody>\n",
       "</table>\n",
       "<p>8152 rows × 5 columns</p>\n",
       "</div>"
      ],
      "text/plain": [
       "                PALABRA FRECUENC  RHO         PHI  LENGTH\n",
       "2                   acá       46    8   21.249512       3\n",
       "3                   adó        0    9   19.789907       3\n",
       "4                   afé        0   10   16.769372       3\n",
       "5                   agá        1   10   17.414417       3\n",
       "6                   ahé        0   10   16.636593       3\n",
       "...                 ...      ...  ...         ...     ...\n",
       "95378  ultramicroscopio        0   51  113.371630      16\n",
       "95379  ventriculografía        0   52  105.930261      16\n",
       "95380  vertiginosamente        2   57  112.502446      16\n",
       "95381  vicealmirantazgo        0   55  120.347314      16\n",
       "95382  vituperiosamente        0   57  110.163092      16\n",
       "\n",
       "[8152 rows x 5 columns]"
      ]
     },
     "execution_count": 318,
     "metadata": {},
     "output_type": "execute_result"
    }
   ],
   "source": [
    "def filter_phi(value):\n",
    "    \"\"\"Keep all the words with higher and lower phi than the defined extremes.\"\"\"\n",
    "    if value > high_phi or value < low_phi:\n",
    "        return True\n",
    "    else:\n",
    "        return False\n",
    "\n",
    "print(len(data.PALABRA == \"aba\"))\n",
    "\n",
    "data_philtered = data.loc[data['PHI'].apply(filter_phi).fillna(False)]\n",
    "data_philtered"
   ]
  },
  {
   "cell_type": "code",
   "execution_count": 319,
   "metadata": {},
   "outputs": [
    {
     "data": {
      "text/html": [
       "<div>\n",
       "<style scoped>\n",
       "    .dataframe tbody tr th:only-of-type {\n",
       "        vertical-align: middle;\n",
       "    }\n",
       "\n",
       "    .dataframe tbody tr th {\n",
       "        vertical-align: top;\n",
       "    }\n",
       "\n",
       "    .dataframe thead th {\n",
       "        text-align: right;\n",
       "    }\n",
       "</style>\n",
       "<table border=\"1\" class=\"dataframe\">\n",
       "  <thead>\n",
       "    <tr style=\"text-align: right;\">\n",
       "      <th></th>\n",
       "      <th>PALABRA</th>\n",
       "      <th>FRECUENC</th>\n",
       "      <th>RHO</th>\n",
       "      <th>PHI</th>\n",
       "      <th>LENGTH</th>\n",
       "    </tr>\n",
       "  </thead>\n",
       "  <tbody>\n",
       "    <tr>\n",
       "      <th>2327</th>\n",
       "      <td>ábsit</td>\n",
       "      <td>0</td>\n",
       "      <td>17</td>\n",
       "      <td>19.747528</td>\n",
       "      <td>5</td>\n",
       "    </tr>\n",
       "    <tr>\n",
       "      <th>2349</th>\n",
       "      <td>achís</td>\n",
       "      <td>0</td>\n",
       "      <td>15</td>\n",
       "      <td>26.429442</td>\n",
       "      <td>5</td>\n",
       "    </tr>\n",
       "    <tr>\n",
       "      <th>2353</th>\n",
       "      <td>ácido</td>\n",
       "      <td>55</td>\n",
       "      <td>14</td>\n",
       "      <td>27.632133</td>\n",
       "      <td>5</td>\n",
       "    </tr>\n",
       "    <tr>\n",
       "      <th>2356</th>\n",
       "      <td>ácimo</td>\n",
       "      <td>0</td>\n",
       "      <td>17</td>\n",
       "      <td>26.571825</td>\n",
       "      <td>5</td>\n",
       "    </tr>\n",
       "    <tr>\n",
       "      <th>2368</th>\n",
       "      <td>ácueo</td>\n",
       "      <td>0</td>\n",
       "      <td>15</td>\n",
       "      <td>27.713649</td>\n",
       "      <td>5</td>\n",
       "    </tr>\n",
       "    <tr>\n",
       "      <th>...</th>\n",
       "      <td>...</td>\n",
       "      <td>...</td>\n",
       "      <td>...</td>\n",
       "      <td>...</td>\n",
       "      <td>...</td>\n",
       "    </tr>\n",
       "    <tr>\n",
       "      <th>16918</th>\n",
       "      <td>zuncho</td>\n",
       "      <td>0</td>\n",
       "      <td>22</td>\n",
       "      <td>26.054636</td>\n",
       "      <td>6</td>\n",
       "    </tr>\n",
       "    <tr>\n",
       "      <th>16919</th>\n",
       "      <td>zunzún</td>\n",
       "      <td>1</td>\n",
       "      <td>26</td>\n",
       "      <td>16.884143</td>\n",
       "      <td>6</td>\n",
       "    </tr>\n",
       "    <tr>\n",
       "      <th>16920</th>\n",
       "      <td>zuñido</td>\n",
       "      <td>0</td>\n",
       "      <td>23</td>\n",
       "      <td>26.242639</td>\n",
       "      <td>6</td>\n",
       "    </tr>\n",
       "    <tr>\n",
       "      <th>16933</th>\n",
       "      <td>zurrón</td>\n",
       "      <td>1</td>\n",
       "      <td>22</td>\n",
       "      <td>28.526409</td>\n",
       "      <td>6</td>\n",
       "    </tr>\n",
       "    <tr>\n",
       "      <th>16934</th>\n",
       "      <td>zurubí</td>\n",
       "      <td>0</td>\n",
       "      <td>23</td>\n",
       "      <td>18.186238</td>\n",
       "      <td>6</td>\n",
       "    </tr>\n",
       "  </tbody>\n",
       "</table>\n",
       "<p>1770 rows × 5 columns</p>\n",
       "</div>"
      ],
      "text/plain": [
       "      PALABRA FRECUENC  RHO        PHI  LENGTH\n",
       "2327    ábsit        0   17  19.747528       5\n",
       "2349    achís        0   15  26.429442       5\n",
       "2353    ácido       55   14  27.632133       5\n",
       "2356    ácimo        0   17  26.571825       5\n",
       "2368    ácueo        0   15  27.713649       5\n",
       "...       ...      ...  ...        ...     ...\n",
       "16918  zuncho        0   22  26.054636       6\n",
       "16919  zunzún        1   26  16.884143       6\n",
       "16920  zuñido        0   23  26.242639       6\n",
       "16933  zurrón        1   22  28.526409       6\n",
       "16934  zurubí        0   23  18.186238       6\n",
       "\n",
       "[1770 rows x 5 columns]"
      ]
     },
     "execution_count": 319,
     "metadata": {},
     "output_type": "execute_result"
    }
   ],
   "source": [
    " \n",
    "def filter_length(value):\n",
    "    \"\"\"Keep (True) all words shorter than high and longer that low. in between.\"\"\"\n",
    "    #return True\n",
    "    if value <= high_length and value >= low_length:\n",
    "        return True\n",
    "    else:\n",
    "        return False\n",
    "\n",
    "\n",
    "chosen_words = data_philtered.loc[data_philtered['LENGTH'].apply(filter_length).fillna(False)]\n",
    "chosen_words"
   ]
  },
  {
   "cell_type": "code",
   "execution_count": 322,
   "metadata": {},
   "outputs": [
    {
     "data": {
      "text/plain": [
       "1770"
      ]
     },
     "execution_count": 322,
     "metadata": {},
     "output_type": "execute_result"
    }
   ],
   "source": [
    "len(chosen_words)"
   ]
  },
  {
   "cell_type": "code",
   "execution_count": null,
   "metadata": {},
   "outputs": [],
   "source": [
    "# TODO: use a more advanced filter to calculate constrains for the group a. \n",
    "def filter_a(value):\n",
    "    \"\"\"Keep (True) all words shorter than high and longer that low. in between.\"\"\"\n",
    "    print(value)\n",
    "    print(type(value))\n",
    "    #return True\n",
    "    if value <= high_length and value >= low_length:\n",
    "        return True\n",
    "    else:\n",
    "        return False\n",
    "    \n",
    "group_a = chosen_words.loc[chosen_words.apply(filter_a).fillna(False)]\n"
   ]
  },
  {
   "cell_type": "code",
   "execution_count": 321,
   "metadata": {},
   "outputs": [
    {
     "data": {
      "text/plain": [
       "<matplotlib.collections.PathCollection at 0x7f487f7d56a0>"
      ]
     },
     "execution_count": 321,
     "metadata": {},
     "output_type": "execute_result"
    },
    {
     "data": {
      "image/png": "[encoded data removed]",
      "text/plain": [
       "<Figure size 432x288 with 1 Axes>"
      ]
     },
     "metadata": {},
     "output_type": "display_data"
    }
   ],
   "source": [
    "plt.scatter(chosen_words.FRECUENC,chosen_words.PHI)"
   ]
  },
  {
   "cell_type": "code",
   "execution_count": 311,
   "metadata": {},
   "outputs": [
    {
     "data": {
      "text/plain": [
       "<matplotlib.collections.PathCollection at 0x7f487a22dba8>"
      ]
     },
     "execution_count": 311,
     "metadata": {},
     "output_type": "execute_result"
    },
    {
     "data": {
      "image/png": "[encoded data removed]",
      "text/plain": [
       "<Figure size 432x288 with 1 Axes>"
      ]
     },
     "metadata": {},
     "output_type": "display_data"
    }
   ],
   "source": [
    "plt.scatter(chosen_words.FRECUENC,chosen_words.RHO)"
   ]
  },
  {
   "cell_type": "code",
   "execution_count": null,
   "metadata": {
    "scrolled": false
   },
   "outputs": [],
   "source": [
    "%%notify\n",
    "dir(plt)"
   ]
  },
  {
   "cell_type": "code",
   "execution_count": 155,
   "metadata": {},
   "outputs": [],
   "source": [
    "# Creating heatmaps in matplotlib is more difficult than it should be.\n",
    "# Thankfully, Seaborn makes them easy for us.\n",
    "# http://stanford.edu/~mwaskom/software/seaborn/\n",
    "\n",
    "import seaborn as sns\n",
    "sns.set(style='white')\n",
    "\n"
   ]
  },
  {
   "cell_type": "code",
   "execution_count": null,
   "metadata": {},
   "outputs": [],
   "source": [
    "%%notify -o\n",
    "\n",
    "plt.figure(figsize=(12, 8))\n",
    "plt.title('Cohorts: Phi vs Rho and friends')\n",
    "sns.heatmap(data.T, mask=data.T.isnull(), annot=True, fmt='.0%');\n",
    "\n"
   ]
  }
 ],
 "metadata": {
  "kernelspec": {
   "display_name": "Python 3",
   "language": "python",
   "name": "python3"
  },
  "language_info": {
   "codemirror_mode": {
    "name": "ipython",
    "version": 3
   },
   "file_extension": ".py",
   "mimetype": "text/x-python",
   "name": "python",
   "nbconvert_exporter": "python",
   "pygments_lexer": "ipython3",
   "version": "3.7.3"
  }
 },
 "nbformat": 4,
 "nbformat_minor": 2
}
