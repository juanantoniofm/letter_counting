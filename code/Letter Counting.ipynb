{
 "cells": [
  {
   "cell_type": "markdown",
   "metadata": {},
   "source": [
    "# Letter Counter - Contador de letras\n",
    "\n",
    "\n",
    "Un pequeño notebook para contar la frecuencia de las letras en el castellano (o en cualquier idioma, siempre que le pases la lista de letras en un CSV).\n",
    "\n",
    "Esto que estas leyendo, es un Jupyter notebook. Puedes utilizarlo como documeto, o como herramienta ejecutable (y que permite modificaciones de forma interactiva). Para saber mas sobre como ejecutarlo, mira la documentacion en [jupyter.org](https://jupyter.org/) y revisa el Makefile.\n"
   ]
  },
  {
   "cell_type": "markdown",
   "metadata": {},
   "source": [
    "### Loading Internal Assets\n",
    "\n",
    "You can ignore this part.\n"
   ]
  },
  {
   "cell_type": "code",
   "execution_count": 3,
   "metadata": {
    "scrolled": true
   },
   "outputs": [
    {
     "data": {
      "application/javascript": [
       "if (!(\"Notification\" in window)) {\n",
       "    alert(\"This browser does not support desktop notifications, so the %%notify magic will not work.\");\n",
       "} else if (Notification.permission !== 'granted' && Notification.permission !== 'denied') {\n",
       "    Notification.requestPermission(function (permission) {\n",
       "        if(!('permission' in Notification)) {\n",
       "            Notification.permission = permission;\n",
       "        }\n",
       "    })\n",
       "}\n"
      ],
      "text/plain": [
       "<IPython.core.display.Javascript object>"
      ]
     },
     "metadata": {},
     "output_type": "display_data"
    }
   ],
   "source": [
    "import unidecode\n",
    "from collections import defaultdict\n",
    "\n",
    "# Loading libraries\n",
    "import pandas as pd\n",
    "import matplotlib\n",
    "\n",
    "import matplotlib.pyplot as plt\n",
    "import matplotlib as mpl\n",
    "%matplotlib inline\n",
    "\n",
    "\n",
    "# Load jupyter notify\n",
    "# See https://github.com/shoprunner/jupyter-notify\n",
    "%load_ext jupyternotify\n",
    "\n"
   ]
  },
  {
   "cell_type": "code",
   "execution_count": 4,
   "metadata": {},
   "outputs": [
    {
     "data": {
      "application/javascript": [
       "$(document).ready(\n",
       "    function() {\n",
       "        function appendUniqueDiv(){\n",
       "            // append a div with our uuid so we can check that it's already\n",
       "            // been sent and avoid duplicates on page reload\n",
       "            var notifiedDiv = document.createElement(\"div\")\n",
       "            notifiedDiv.id = \"433f6619-a748-4bc4-bd54-b153fd759516\"\n",
       "            element.append(notifiedDiv)\n",
       "        }\n",
       "\n",
       "        // only send notifications if the pageload is complete; this will\n",
       "        // help stop extra notifications when a saved notebook is loaded,\n",
       "        // which during testing gives us state \"interactive\", not \"complete\"\n",
       "        if (document.readyState === 'complete') {\n",
       "            // check for the div that signifies that the notification\n",
       "            // was already sent\n",
       "            if (document.getElementById(\"433f6619-a748-4bc4-bd54-b153fd759516\") === null) {\n",
       "                var notificationPayload = {\"requireInteraction\": false, \"icon\": \"/static/base/images/favicon.ico\", \"body\": \"Cell execution has finished!\"};\n",
       "                if (Notification.permission !== 'denied') {\n",
       "                    if (Notification.permission !== 'granted') { \n",
       "                        Notification.requestPermission(function (permission) {\n",
       "                            if(!('permission' in Notification)) {\n",
       "                                Notification.permission = permission\n",
       "                            }\n",
       "                        })\n",
       "                    }\n",
       "                    if (Notification.permission === 'granted') {\n",
       "                    var notification = new Notification(\"Jupyter Notebook\", notificationPayload)\n",
       "                    appendUniqueDiv()\n",
       "                    notification.onclick = function () {\n",
       "                        window.focus();\n",
       "                        this.close();\n",
       "                        };\n",
       "                    } \n",
       "                }     \n",
       "            }\n",
       "        }\n",
       "    }\n",
       ")\n"
      ],
      "text/plain": [
       "<IPython.core.display.Javascript object>"
      ]
     },
     "metadata": {},
     "output_type": "display_data"
    }
   ],
   "source": [
    "%%notify -o\n",
    "\n",
    "pass"
   ]
  },
  {
   "cell_type": "markdown",
   "metadata": {},
   "source": [
    "### Configuration - Configuracion\n",
    "\n",
    "If you want to change settings, like data sources.\n",
    "\n",
    "---\n",
    "\n",
    "Si necesitas cambiar configuracion, como los acentos o la fuente de datos."
   ]
  },
  {
   "cell_type": "code",
   "execution_count": 5,
   "metadata": {},
   "outputs": [],
   "source": [
    "\n",
    "# Distinguish accent (True = i and í are 2 different letters; False = they are 2 letter i's)\n",
    "accent_dif = False # False to ignore, as we won't be using them either for the exercises.\n",
    "\n",
    "# Data sources\n",
    "wordlist_fileSHORT = r'../data/Anexo I - palabras 3-9 letras.xls'\n",
    "wordlist_fileLONG = r'../data/Anexo II - palabras 10-16 letras.xls'\n"
   ]
  },
  {
   "cell_type": "markdown",
   "metadata": {},
   "source": [
    "### Statistics - Estidisticas\n",
    "\n",
    "Restart the counters\n",
    "\n",
    "---\n",
    "\n",
    "Reinicia los contadores"
   ]
  },
  {
   "cell_type": "code",
   "execution_count": 6,
   "metadata": {},
   "outputs": [],
   "source": [
    "## Clear Up the statistics\n",
    "\n",
    "## GLOBAL Variables\n",
    "# total of words counted\n",
    "word_sum = 0\n",
    "# Freq of each letter\n",
    "letter_frequency = defaultdict(lambda:0)\n",
    "# Percentile of each letter's frequency\n",
    "letter_freq_percent = defaultdict(lambda:0)\n",
    " "
   ]
  },
  {
   "cell_type": "markdown",
   "metadata": {},
   "source": [
    "## Obtain list of usable words from 5 to 6 letters\n",
    "\n",
    "Using pandas and matplotlib.\n",
    "\n",
    "--- \n",
    "\n",
    "Utilizando pandas y matplotlib.\n",
    "\n"
   ]
  },
  {
   "cell_type": "code",
   "execution_count": null,
   "metadata": {
    "scrolled": false
   },
   "outputs": [],
   "source": [
    "# SKIP Obtain the list of words from the original database\n",
    "## SLOW Run carefully.\n",
    "\n",
    "#load the sheets for 5 and 6 letters words as Pandas DataFrames\n",
    "words5letters = pd.read_excel (wordlist_fileSHORT, sheet_name=\"5\")\n",
    "words6letters = pd.read_excel (wordlist_fileSHORT, sheet_name=\"6\")\n",
    "\n",
    "# Extract only the words and the lexyc frequency of words\n",
    "w5l = pd.DataFrame(words5letters ,columns=[\"PALABRA\",\"FRECUENC\"])\n",
    "w6l = pd.DataFrame(words6letters , columns=[\"PALABRA\", \"FRECUENC\"])\n",
    "w6l"
   ]
  },
  {
   "cell_type": "code",
   "execution_count": null,
   "metadata": {},
   "outputs": [],
   "source": [
    "#TMP Debbuging the 15 sheet\n",
    "\n",
    "words15letters = pd.read_excel (wordlist_fileLONG, sheet_name=\"15\")\n",
    "words15letters\n"
   ]
  },
  {
   "cell_type": "markdown",
   "metadata": {},
   "source": [
    "### Counting the letters into the frequency database \n",
    "\n",
    "To build the statistics about how frequent each letter is."
   ]
  },
  {
   "cell_type": "code",
   "execution_count": 7,
   "metadata": {
    "scrolled": true
   },
   "outputs": [
    {
     "data": {
      "text/html": [
       "<div>\n",
       "<style scoped>\n",
       "    .dataframe tbody tr th:only-of-type {\n",
       "        vertical-align: middle;\n",
       "    }\n",
       "\n",
       "    .dataframe tbody tr th {\n",
       "        vertical-align: top;\n",
       "    }\n",
       "\n",
       "    .dataframe thead th {\n",
       "        text-align: right;\n",
       "    }\n",
       "</style>\n",
       "<table border=\"1\" class=\"dataframe\">\n",
       "  <thead>\n",
       "    <tr style=\"text-align: right;\">\n",
       "      <th></th>\n",
       "      <th>PALABRA</th>\n",
       "      <th>FRECUENC</th>\n",
       "    </tr>\n",
       "  </thead>\n",
       "  <tbody>\n",
       "    <tr>\n",
       "      <th>0</th>\n",
       "      <td>aba</td>\n",
       "      <td>0</td>\n",
       "    </tr>\n",
       "    <tr>\n",
       "      <th>1</th>\n",
       "      <td>aca</td>\n",
       "      <td>0</td>\n",
       "    </tr>\n",
       "    <tr>\n",
       "      <th>2</th>\n",
       "      <td>acá</td>\n",
       "      <td>46</td>\n",
       "    </tr>\n",
       "    <tr>\n",
       "      <th>3</th>\n",
       "      <td>adó</td>\n",
       "      <td>0</td>\n",
       "    </tr>\n",
       "    <tr>\n",
       "      <th>4</th>\n",
       "      <td>afé</td>\n",
       "      <td>0</td>\n",
       "    </tr>\n",
       "    <tr>\n",
       "      <th>...</th>\n",
       "      <td>...</td>\n",
       "      <td>...</td>\n",
       "    </tr>\n",
       "    <tr>\n",
       "      <th>95378</th>\n",
       "      <td>ultramicroscopio</td>\n",
       "      <td>0</td>\n",
       "    </tr>\n",
       "    <tr>\n",
       "      <th>95379</th>\n",
       "      <td>ventriculografía</td>\n",
       "      <td>0</td>\n",
       "    </tr>\n",
       "    <tr>\n",
       "      <th>95380</th>\n",
       "      <td>vertiginosamente</td>\n",
       "      <td>2</td>\n",
       "    </tr>\n",
       "    <tr>\n",
       "      <th>95381</th>\n",
       "      <td>vicealmirantazgo</td>\n",
       "      <td>0</td>\n",
       "    </tr>\n",
       "    <tr>\n",
       "      <th>95382</th>\n",
       "      <td>vituperiosamente</td>\n",
       "      <td>0</td>\n",
       "    </tr>\n",
       "  </tbody>\n",
       "</table>\n",
       "<p>95383 rows × 2 columns</p>\n",
       "</div>"
      ],
      "text/plain": [
       "                PALABRA FRECUENC\n",
       "0                   aba        0\n",
       "1                   aca        0\n",
       "2                   acá       46\n",
       "3                   adó        0\n",
       "4                   afé        0\n",
       "...                 ...      ...\n",
       "95378  ultramicroscopio        0\n",
       "95379  ventriculografía        0\n",
       "95380  vertiginosamente        2\n",
       "95381  vicealmirantazgo        0\n",
       "95382  vituperiosamente        0\n",
       "\n",
       "[95383 rows x 2 columns]"
      ]
     },
     "execution_count": 7,
     "metadata": {},
     "output_type": "execute_result"
    }
   ],
   "source": [
    "## Obtain the full database\n",
    "## SLOW Run carefully.\n",
    "\n",
    "#load the sheets for 5 and 6 letters words as Pandas DataFrames\n",
    "all_words = pd.DataFrame(columns=[\"PALABRA\",\"FRECUENC\"])\n",
    "\n",
    "\n",
    "for i in range(3,10): # range from 3 to 9, inclusive\n",
    "    # wordlist_fileSHORT\n",
    "    sheety = pd.read_excel (wordlist_fileSHORT, sheet_name=f\"{i}\")\n",
    "    all_words = all_words.append( pd.DataFrame(sheety ,columns=[\"PALABRA\",\"FRECUENC\"]), ignore_index=True )\n",
    "for i in range(10,17): # range from 10 to 16, inclusive\n",
    "    # wordlist_fileLONG\n",
    "    sheety = pd.read_excel (wordlist_fileLONG, sheet_name=f\"{i}\")\n",
    "    all_words = all_words.append(pd.DataFrame(sheety ,columns=[\"PALABRA\",\"FRECUENC\"]), ignore_index=True )\n",
    "\n",
    "\n",
    "\n",
    "all_words\n"
   ]
  },
  {
   "cell_type": "code",
   "execution_count": 8,
   "metadata": {},
   "outputs": [],
   "source": [
    "## Count the word into the stats D\n",
    "## WARNING: Modifies state (word count)\n",
    "\n",
    "def is_vowel(letter):\n",
    "    \"\"\" returt if it's a vowel \"\"\"\n",
    "    return unidecode.unidecode(letter) in \"aeiou\"\n",
    "\n",
    "def no_accent(letter):\n",
    "    \"\"\" turn a letter into the no accent equivalent\"\"\"\n",
    "    return unidecode.unidecode(letter) \n",
    "\n",
    "assert is_vowel(\"a\") == True\n",
    "assert is_vowel(\"á\") == True\n",
    "assert is_vowel(\"v\") == False\n",
    "\n",
    "\n",
    "assert no_accent(\"a\") == \"a\"\n",
    "assert no_accent(\"á\") == \"a\"\n",
    "assert no_accent(\"v\") == \"v\"\n",
    "    \n",
    "def count_word(word, letter_frequency = letter_frequency, accent_dif = accent_dif):\n",
    "    \"\"\"\n",
    "    Given a word, update the global stats dictionary.\n",
    "    It considers if you want to distinguish accents or not.\n",
    "    \"\"\"\n",
    "    global word_sum\n",
    "    # don't count not numbers\n",
    "    if type(word) == type(0.1):\n",
    "        return None\n",
    "    # Count the word to the total of words\n",
    "    word_sum += 1\n",
    "    # We might need to exclude accents, but not the ñ\n",
    "    for letter in word:\n",
    "        if not accent_dif: # we must NOT distinguish accents\n",
    "            if is_vowel(letter):\n",
    "                letter_frequency[no_accent(letter)] += 1\n",
    "            else:\n",
    "                letter_frequency[letter] += 1\n",
    "        else:\n",
    "            letter_frequency[letter] += 1\n"
   ]
  },
  {
   "cell_type": "code",
   "execution_count": null,
   "metadata": {},
   "outputs": [],
   "source": [
    "# DEBUG : Running it in one word (WARNING: State change)\n",
    "\n",
    "p = all_words[3].PALABRA[15]\n",
    "f = all_words[3].FRECUENC[15]\n",
    "\n",
    "print(p)\n",
    "print(f)\n",
    "\n",
    "print(\"Stadisticas antes\", word_sum )\n",
    "print(\"Stadisticas antes\", letter_frequency )\n",
    "count_word(p)\n",
    "print(\"Stadisticas despues\", word_sum )\n",
    "print(\"Stadisticas despues\", letter_frequency )"
   ]
  },
  {
   "cell_type": "code",
   "execution_count": 9,
   "metadata": {
    "scrolled": true
   },
   "outputs": [
    {
     "data": {
      "text/plain": [
       "defaultdict(<function __main__.<lambda>()>,\n",
       "            {'a': 130353,\n",
       "             'b': 15241,\n",
       "             'c': 46648,\n",
       "             'd': 34490,\n",
       "             'o': 78651,\n",
       "             'f': 9330,\n",
       "             'e': 79179,\n",
       "             'g': 14703,\n",
       "             'h': 8224,\n",
       "             'i': 70377,\n",
       "             'j': 5190,\n",
       "             'l': 39449,\n",
       "             'm': 25658,\n",
       "             'n': 50682,\n",
       "             'ñ': 2253,\n",
       "             'p': 19532,\n",
       "             'r': 77056,\n",
       "             's': 34923,\n",
       "             't': 43949,\n",
       "             'u': 26367,\n",
       "             'v': 8209,\n",
       "             'x': 1402,\n",
       "             'y': 1252,\n",
       "             'z': 6454,\n",
       "             'k': 89,\n",
       "             'q': 3280,\n",
       "             'w': 24})"
      ]
     },
     "execution_count": 9,
     "metadata": {},
     "output_type": "execute_result"
    }
   ],
   "source": [
    "# Running it on all the words\n",
    "## Building the Freq Table. Run Once.\n",
    "\n",
    "def build_letter_freq_table():\n",
    "    \"\"\"\n",
    "    Build the table with the total stats of letter frequency\n",
    "    \"\"\"\n",
    "    for idx, word in enumerate(all_words.PALABRA):\n",
    "        # make each letter into the stats dir.\n",
    "        try:\n",
    "            count_word(word)\n",
    "        except TypeError as e:\n",
    "            print(e)\n",
    "            print(word)\n",
    "            print(type(word))\n",
    "            print(\"WTF\")\n",
    "    return None\n",
    "\n",
    "build_letter_freq_table()\n",
    "letter_frequency\n",
    "\n",
    "\n"
   ]
  },
  {
   "cell_type": "code",
   "execution_count": 10,
   "metadata": {},
   "outputs": [
    {
     "data": {
      "application/javascript": [
       "$(document).ready(\n",
       "    function() {\n",
       "        function appendUniqueDiv(){\n",
       "            // append a div with our uuid so we can check that it's already\n",
       "            // been sent and avoid duplicates on page reload\n",
       "            var notifiedDiv = document.createElement(\"div\")\n",
       "            notifiedDiv.id = \"f0dc019d-5a38-42c8-8436-61b10804ddc0\"\n",
       "            element.append(notifiedDiv)\n",
       "        }\n",
       "\n",
       "        // only send notifications if the pageload is complete; this will\n",
       "        // help stop extra notifications when a saved notebook is loaded,\n",
       "        // which during testing gives us state \"interactive\", not \"complete\"\n",
       "        if (document.readyState === 'complete') {\n",
       "            // check for the div that signifies that the notification\n",
       "            // was already sent\n",
       "            if (document.getElementById(\"f0dc019d-5a38-42c8-8436-61b10804ddc0\") === null) {\n",
       "                var notificationPayload = {\"requireInteraction\": false, \"icon\": \"/static/base/images/favicon.ico\", \"body\": \"freq table built\"};\n",
       "                if (Notification.permission !== 'denied') {\n",
       "                    if (Notification.permission !== 'granted') { \n",
       "                        Notification.requestPermission(function (permission) {\n",
       "                            if(!('permission' in Notification)) {\n",
       "                                Notification.permission = permission\n",
       "                            }\n",
       "                        })\n",
       "                    }\n",
       "                    if (Notification.permission === 'granted') {\n",
       "                    var notification = new Notification(\"Jupyter Notebook\", notificationPayload)\n",
       "                    appendUniqueDiv()\n",
       "                    notification.onclick = function () {\n",
       "                        window.focus();\n",
       "                        this.close();\n",
       "                        };\n",
       "                    } \n",
       "                }     \n",
       "            }\n",
       "        }\n",
       "    }\n",
       ")\n"
      ],
      "text/plain": [
       "<IPython.core.display.Javascript object>"
      ]
     },
     "metadata": {},
     "output_type": "display_data"
    }
   ],
   "source": [
    "%notify -m \"freq table built\""
   ]
  },
  {
   "cell_type": "code",
   "execution_count": 11,
   "metadata": {},
   "outputs": [
    {
     "name": "stdout",
     "output_type": "stream",
     "text": [
      "avo\n",
      "95383\n"
     ]
    }
   ],
   "source": [
    "print(all_words.PALABRA[37])\n",
    "print(len(all_words.PALABRA))"
   ]
  },
  {
   "cell_type": "code",
   "execution_count": null,
   "metadata": {},
   "outputs": [],
   "source": []
  },
  {
   "cell_type": "code",
   "execution_count": 13,
   "metadata": {},
   "outputs": [
    {
     "name": "stdout",
     "output_type": "stream",
     "text": [
      "letter_frequency defaultdict(<function <lambda> at 0x7f6becb1f8c8>, {'a': 130353, 'b': 15241, 'c': 46648, 'd': 34490, 'o': 78651, 'f': 9330, 'e': 79179, 'g': 14703, 'h': 8224, 'i': 70377, 'j': 5190, 'l': 39449, 'm': 25658, 'n': 50682, 'ñ': 2253, 'p': 19532, 'r': 77056, 's': 34923, 't': 43949, 'u': 26367, 'v': 8209, 'x': 1402, 'y': 1252, 'z': 6454, 'k': 89, 'q': 3280, 'w': 24})\n",
      "word_sum 95383\n"
     ]
    },
    {
     "data": {
      "application/javascript": [
       "$(document).ready(\n",
       "    function() {\n",
       "        function appendUniqueDiv(){\n",
       "            // append a div with our uuid so we can check that it's already\n",
       "            // been sent and avoid duplicates on page reload\n",
       "            var notifiedDiv = document.createElement(\"div\")\n",
       "            notifiedDiv.id = \"826afcfb-bb1c-4939-9ebb-f3079b6552a3\"\n",
       "            element.append(notifiedDiv)\n",
       "        }\n",
       "\n",
       "        // only send notifications if the pageload is complete; this will\n",
       "        // help stop extra notifications when a saved notebook is loaded,\n",
       "        // which during testing gives us state \"interactive\", not \"complete\"\n",
       "        if (document.readyState === 'complete') {\n",
       "            // check for the div that signifies that the notification\n",
       "            // was already sent\n",
       "            if (document.getElementById(\"826afcfb-bb1c-4939-9ebb-f3079b6552a3\") === null) {\n",
       "                var notificationPayload = {\"requireInteraction\": false, \"icon\": \"/static/base/images/favicon.ico\", \"body\": \"Cell execution has finished!\"};\n",
       "                if (Notification.permission !== 'denied') {\n",
       "                    if (Notification.permission !== 'granted') { \n",
       "                        Notification.requestPermission(function (permission) {\n",
       "                            if(!('permission' in Notification)) {\n",
       "                                Notification.permission = permission\n",
       "                            }\n",
       "                        })\n",
       "                    }\n",
       "                    if (Notification.permission === 'granted') {\n",
       "                    var notification = new Notification(\"Jupyter Notebook\", notificationPayload)\n",
       "                    appendUniqueDiv()\n",
       "                    notification.onclick = function () {\n",
       "                        window.focus();\n",
       "                        this.close();\n",
       "                        };\n",
       "                    } \n",
       "                }     \n",
       "            }\n",
       "        }\n",
       "    }\n",
       ")\n"
      ],
      "text/plain": [
       "<IPython.core.display.Javascript object>"
      ]
     },
     "metadata": {},
     "output_type": "display_data"
    }
   ],
   "source": [
    "%%notify \n",
    "# RUN: Check stats\n",
    "print(\"letter_frequency\",letter_frequency)\n",
    "print(\"word_sum\",word_sum)\n"
   ]
  },
  {
   "cell_type": "code",
   "execution_count": null,
   "metadata": {},
   "outputs": [],
   "source": [
    "%notify "
   ]
  },
  {
   "cell_type": "markdown",
   "metadata": {},
   "source": [
    "### Calculate the Percentage of frequency for each letter\n",
    "\n",
    "With the table of frequencies, we calculate the percentage of frequency of each letter.\n"
   ]
  },
  {
   "cell_type": "code",
   "execution_count": 14,
   "metadata": {},
   "outputs": [
    {
     "name": "stdout",
     "output_type": "stream",
     "text": [
      "The sum of all the letters counted is: 832965\n",
      "The frequency percentage of each letter is:  defaultdict(<function <lambda> at 0x7f6becb1f840>, {'a': 15.649276980425348, 'b': 1.8297287401031255, 'c': 5.60023530400437, 'd': 4.140630158530071, 'o': 9.442293493724225, 'f': 1.1200950820262556, 'e': 9.505681511227962, 'g': 1.7651401919648484, 'h': 0.9873163938460799, 'i': 8.448974446705444, 'j': 0.6230753993265024, 'l': 4.735973300198688, 'm': 3.08032150210393, 'n': 6.084529361977994, 'ñ': 0.2704795519619672, 'p': 2.34487643538444, 'r': 9.250808857515022, 's': 4.192613135005672, 't': 5.276212085741898, 'u': 3.165439124092849, 'v': 0.9855155978942692, 'x': 0.16831439496257344, 'y': 0.15030643544446645, 'z': 0.7748224715324173, 'k': 0.010684722647410156, 'q': 0.39377404812927314, 'w': 0.0028812735228971207})\n",
      "100  should be  100\n"
     ]
    }
   ],
   "source": [
    "## \n",
    "# tenemos la tabla de frec. Necesitamos phi. Hay que calcular, el phi de una palabla.\n",
    "# para el phi, necesitamos, el % de frequencias\n",
    "\n",
    "#suma todas las frec de todas las letras\n",
    "tot_letters = 0 # all the counted letters\n",
    "for k,v in letter_frequency.items():\n",
    "    tot_letters += v\n",
    "    \n",
    "print(\"The sum of all the letters counted is:\",tot_letters)\n",
    "\n",
    "# Calculate the percentage of each letter's frequency\n",
    "\n",
    "# letter_freq_percent = defaultdict(lambda:0) #reset it for testing\n",
    "for letter,freq in letter_frequency.items():\n",
    "    letter_freq_percent[letter] = (letter_frequency[letter] * 100 ) / tot_letters\n",
    "    \n",
    "print(\"The frequency percentage of each letter is: \",letter_freq_percent)\n",
    "\n",
    "# Validate that the percentile is correct\n",
    "check = 0\n",
    "for l,f in letter_freq_percent.items():\n",
    "    check+=f\n",
    "print(round(check), \" should be \", 100)\n",
    "    "
   ]
  },
  {
   "cell_type": "markdown",
   "metadata": {},
   "source": [
    "### Calculate  Phi\n",
    "\n",
    "take the frequency of each letter in a word, and add it up, to calculate the total \"Phi\" score.\n"
   ]
  },
  {
   "cell_type": "code",
   "execution_count": 15,
   "metadata": {},
   "outputs": [
    {
     "name": "stdout",
     "output_type": "stream",
     "text": [
      "23.9063 23.9063\n",
      "41.0914 41.0914\n"
     ]
    }
   ],
   "source": [
    "\n",
    "def calculate_phi(word):\n",
    "    \"\"\" Calculate Phi\n",
    "    Sum the frequency of each letter of the word\"\"\"\n",
    "    phi = 0\n",
    "    for letter in word:\n",
    "        phi += letter_freq_percent[letter]\n",
    "    return phi\n",
    "\n",
    "assert round(calculate_phi(\"aa\"),4) == round(31.2986,4)\n",
    "assert calculate_phi(\"\") == 0 \n",
    "print( round(calculate_phi(\"busto\"),4), round(23.9063,4 ))\n",
    "print( round(calculate_phi(\"casa\"),4), round(41.0914,4 ))\n"
   ]
  },
  {
   "cell_type": "markdown",
   "metadata": {},
   "source": [
    "### Calculate Rho\n",
    "\n",
    "Sum the total of strokes required for a word, adding up the strokes of each letter in it."
   ]
  },
  {
   "cell_type": "code",
   "execution_count": 16,
   "metadata": {},
   "outputs": [],
   "source": [
    "# Stats of strokes per letter.\n",
    "rasgos = {\n",
    "        \"a\": 3,        \"b\": 4,        \"c\": 2,        \"d\": 3,        \"e\": 3,        \"f\": 4,\n",
    "        \"g\": 4,        \"h\": 4,        \"i\": 3,        \"j\": 3,        \"k\": 5,        \"l\": 2,\n",
    "        \"m\": 6,        \"n\": 4,        \"o\": 3,        \"p\": 4,        \"q\": 3,        \"r\": 3,\n",
    "        \"s\": 3,        \"t\": 4,        \"u\": 4,        \"v\": 4,        \"w\": 6,        \"x\": 4,\n",
    "        \"y\": 5,        \"z\": 5,        \"ñ\": 5\n",
    "}"
   ]
  },
  {
   "cell_type": "code",
   "execution_count": 17,
   "metadata": {},
   "outputs": [],
   "source": [
    "## Trying to calculate Stroke sum RHO\n",
    "## Sum of all the strokes of each letter in a word\n",
    "\n",
    "def get_rho(letter):\n",
    "    if len(letter) > 1:\n",
    "        print(\"ERROR: \", letter)\n",
    "        raise Exception(\"Word instead of letter\")\n",
    "    return rasgos[letter]\n",
    "\n",
    "def calculate_rho(word=None):\n",
    "    \"\"\" Calculate the Rho value of a word.\n",
    "    Rho is the sum of the strokes of the each letter in a word.\n",
    "    \"\"\"\n",
    "    if word is None:\n",
    "        return 0\n",
    "    rho = 0\n",
    "    for letter in word:\n",
    "        if not accent_dif: # we must NOT distinguish accents\n",
    "            if is_vowel(letter):\n",
    "                rho += get_rho(no_accent(letter))\n",
    "            else:\n",
    "                rho += get_rho(letter)\n",
    "        else:\n",
    "            rho += get_rho(letter)\n",
    "    return rho\n",
    "\n",
    "assert calculate_rho(\"aa\") == 6\n",
    "assert calculate_rho(\"\")==0\n",
    "assert calculate_rho(\"peluca\")== 18\n",
    "assert calculate_rho(\"pelúca\")== 18\n",
    "assert calculate_rho()==0"
   ]
  },
  {
   "cell_type": "markdown",
   "metadata": {},
   "source": [
    "## Adding the data together\n",
    "\n",
    "Now that we can calculate Phi (total frecuency of letters) and Rho (total strokes to write the word),\n",
    "we can compute a big table to hold all the data together, and make creating experiments easier.\n",
    "\n"
   ]
  },
  {
   "cell_type": "code",
   "execution_count": 18,
   "metadata": {},
   "outputs": [
    {
     "name": "stdout",
     "output_type": "stream",
     "text": [
      "<class 'pandas.core.frame.DataFrame'>\n",
      "<class 'pandas.core.frame.DataFrame'>\n",
      "<class 'pandas.core.frame.DataFrame'>\n"
     ]
    },
    {
     "data": {
      "text/html": [
       "<div>\n",
       "<style scoped>\n",
       "    .dataframe tbody tr th:only-of-type {\n",
       "        vertical-align: middle;\n",
       "    }\n",
       "\n",
       "    .dataframe tbody tr th {\n",
       "        vertical-align: top;\n",
       "    }\n",
       "\n",
       "    .dataframe thead th {\n",
       "        text-align: right;\n",
       "    }\n",
       "</style>\n",
       "<table border=\"1\" class=\"dataframe\">\n",
       "  <thead>\n",
       "    <tr style=\"text-align: right;\">\n",
       "      <th></th>\n",
       "      <th>PALABRA</th>\n",
       "      <th>FRECUENC</th>\n",
       "      <th>RHO</th>\n",
       "      <th>PHI</th>\n",
       "      <th>LENGTH</th>\n",
       "    </tr>\n",
       "  </thead>\n",
       "  <tbody>\n",
       "    <tr>\n",
       "      <th>0</th>\n",
       "      <td>aba</td>\n",
       "      <td>0</td>\n",
       "      <td>10</td>\n",
       "      <td>33.128283</td>\n",
       "      <td>3</td>\n",
       "    </tr>\n",
       "    <tr>\n",
       "      <th>1</th>\n",
       "      <td>aca</td>\n",
       "      <td>0</td>\n",
       "      <td>8</td>\n",
       "      <td>36.898789</td>\n",
       "      <td>3</td>\n",
       "    </tr>\n",
       "    <tr>\n",
       "      <th>2</th>\n",
       "      <td>acá</td>\n",
       "      <td>46</td>\n",
       "      <td>8</td>\n",
       "      <td>21.249512</td>\n",
       "      <td>3</td>\n",
       "    </tr>\n",
       "    <tr>\n",
       "      <th>3</th>\n",
       "      <td>adó</td>\n",
       "      <td>0</td>\n",
       "      <td>9</td>\n",
       "      <td>19.789907</td>\n",
       "      <td>3</td>\n",
       "    </tr>\n",
       "    <tr>\n",
       "      <th>4</th>\n",
       "      <td>afé</td>\n",
       "      <td>0</td>\n",
       "      <td>10</td>\n",
       "      <td>16.769372</td>\n",
       "      <td>3</td>\n",
       "    </tr>\n",
       "    <tr>\n",
       "      <th>...</th>\n",
       "      <td>...</td>\n",
       "      <td>...</td>\n",
       "      <td>...</td>\n",
       "      <td>...</td>\n",
       "      <td>...</td>\n",
       "    </tr>\n",
       "    <tr>\n",
       "      <th>95378</th>\n",
       "      <td>ultramicroscopio</td>\n",
       "      <td>0</td>\n",
       "      <td>51</td>\n",
       "      <td>113.371630</td>\n",
       "      <td>16</td>\n",
       "    </tr>\n",
       "    <tr>\n",
       "      <th>95379</th>\n",
       "      <td>ventriculografía</td>\n",
       "      <td>0</td>\n",
       "      <td>52</td>\n",
       "      <td>105.930261</td>\n",
       "      <td>16</td>\n",
       "    </tr>\n",
       "    <tr>\n",
       "      <th>95380</th>\n",
       "      <td>vertiginosamente</td>\n",
       "      <td>2</td>\n",
       "      <td>57</td>\n",
       "      <td>112.502446</td>\n",
       "      <td>16</td>\n",
       "    </tr>\n",
       "    <tr>\n",
       "      <th>95381</th>\n",
       "      <td>vicealmirantazgo</td>\n",
       "      <td>0</td>\n",
       "      <td>55</td>\n",
       "      <td>120.347314</td>\n",
       "      <td>16</td>\n",
       "    </tr>\n",
       "    <tr>\n",
       "      <th>95382</th>\n",
       "      <td>vituperiosamente</td>\n",
       "      <td>0</td>\n",
       "      <td>57</td>\n",
       "      <td>110.163092</td>\n",
       "      <td>16</td>\n",
       "    </tr>\n",
       "  </tbody>\n",
       "</table>\n",
       "<p>95383 rows × 5 columns</p>\n",
       "</div>"
      ],
      "text/plain": [
       "                PALABRA FRECUENC  RHO         PHI  LENGTH\n",
       "0                   aba        0   10   33.128283       3\n",
       "1                   aca        0    8   36.898789       3\n",
       "2                   acá       46    8   21.249512       3\n",
       "3                   adó        0    9   19.789907       3\n",
       "4                   afé        0   10   16.769372       3\n",
       "...                 ...      ...  ...         ...     ...\n",
       "95378  ultramicroscopio        0   51  113.371630      16\n",
       "95379  ventriculografía        0   52  105.930261      16\n",
       "95380  vertiginosamente        2   57  112.502446      16\n",
       "95381  vicealmirantazgo        0   55  120.347314      16\n",
       "95382  vituperiosamente        0   57  110.163092      16\n",
       "\n",
       "[95383 rows x 5 columns]"
      ]
     },
     "execution_count": 18,
     "metadata": {},
     "output_type": "execute_result"
    }
   ],
   "source": [
    "## Create DATA\n",
    "## Creating a new column with the Rho of each word\n",
    "print(type(all_words))\n",
    "\n",
    "def compute_rho(df):\n",
    "    return [calculate_rho(x) for x in df.PALABRA]\n",
    "\n",
    "data = all_words.assign(RHO=lambda x: compute_rho(x))\n",
    "\n",
    "## Creating a new column with the Phi of each word\n",
    "print(type(all_words))\n",
    "\n",
    "def compute_phi(df):\n",
    "    return [calculate_phi(x) for x in df.PALABRA]\n",
    "\n",
    "data = data.assign(PHI=lambda x: compute_phi(x))\n",
    "\n",
    "## Creating a new column with the length\n",
    "print(type(all_words))\n",
    "\n",
    "def compute_len(df):\n",
    "    return [len(x) for x in df.PALABRA]\n",
    "\n",
    "data = data.assign(LENGTH=lambda x: compute_len(x))\n",
    "\n",
    "data"
   ]
  },
  {
   "cell_type": "code",
   "execution_count": 24,
   "metadata": {},
   "outputs": [
    {
     "data": {
      "text/plain": [
       "<matplotlib.axes._subplots.AxesSubplot at 0x7f6be21c65f8>"
      ]
     },
     "execution_count": 24,
     "metadata": {},
     "output_type": "execute_result"
    },
    {
     "data": {
      "image/png": "[encoded data removed]",
      "text/plain": [
       "<Figure size 432x288 with 1 Axes>"
      ]
     },
     "metadata": {
      "needs_background": "light"
     },
     "output_type": "display_data"
    }
   ],
   "source": [
    "data.PHI.plot()\n"
   ]
  },
  {
   "cell_type": "code",
   "execution_count": 23,
   "metadata": {},
   "outputs": [
    {
     "data": {
      "text/plain": [
       "<matplotlib.axes._subplots.AxesSubplot at 0x7f6be225cef0>"
      ]
     },
     "execution_count": 23,
     "metadata": {},
     "output_type": "execute_result"
    },
    {
     "data": {
      "image/png": "[encoded data removed]",
      "text/plain": [
       "<Figure size 432x288 with 1 Axes>"
      ]
     },
     "metadata": {
      "needs_background": "light"
     },
     "output_type": "display_data"
    }
   ],
   "source": [
    "data.RHO.plot()"
   ]
  },
  {
   "cell_type": "code",
   "execution_count": 22,
   "metadata": {},
   "outputs": [
    {
     "data": {
      "text/plain": [
       "<matplotlib.axes._subplots.AxesSubplot at 0x7f6bec68e240>"
      ]
     },
     "execution_count": 22,
     "metadata": {},
     "output_type": "execute_result"
    },
    {
     "data": {
      "image/png": "[encoded data removed]",
      "text/plain": [
       "<Figure size 432x288 with 1 Axes>"
      ]
     },
     "metadata": {
      "needs_background": "light"
     },
     "output_type": "display_data"
    }
   ],
   "source": [
    "data.FRECUENC.plot()"
   ]
  },
  {
   "cell_type": "code",
   "execution_count": 21,
   "metadata": {},
   "outputs": [
    {
     "data": {
      "text/plain": [
       "<matplotlib.collections.PathCollection at 0x7f6be1bcc828>"
      ]
     },
     "execution_count": 21,
     "metadata": {},
     "output_type": "execute_result"
    },
    {
     "data": {
      "image/png": "[encoded data removed]",
      "text/plain": [
       "<Figure size 432x288 with 1 Axes>"
      ]
     },
     "metadata": {
      "needs_background": "light"
     },
     "output_type": "display_data"
    }
   ],
   "source": [
    "plt.scatter(data.FRECUENC,data.PHI) # (x=Freq,y=phi)"
   ]
  },
  {
   "cell_type": "code",
   "execution_count": 20,
   "metadata": {
    "scrolled": true
   },
   "outputs": [
    {
     "data": {
      "text/plain": [
       "<matplotlib.collections.PathCollection at 0x7f6be1c63d30>"
      ]
     },
     "execution_count": 20,
     "metadata": {},
     "output_type": "execute_result"
    },
    {
     "data": {
      "image/png": "[encoded data removed]",
      "text/plain": [
       "<Figure size 432x288 with 1 Axes>"
      ]
     },
     "metadata": {
      "needs_background": "light"
     },
     "output_type": "display_data"
    }
   ],
   "source": [
    "# (x=length,y=phi)\n",
    "plt.scatter(data.LENGTH,data.PHI) "
   ]
  },
  {
   "cell_type": "code",
   "execution_count": 19,
   "metadata": {
    "scrolled": true
   },
   "outputs": [
    {
     "data": {
      "text/plain": [
       "(array([4.4100e+02, 4.7420e+03, 1.4795e+04, 2.5299e+04, 2.5647e+04,\n",
       "        1.5843e+04, 6.5680e+03, 1.8040e+03, 2.3100e+02, 1.3000e+01]),\n",
       " array([  3.46605199,  18.46958756,  33.47312312,  48.47665868,\n",
       "         63.48019425,  78.48372981,  93.48726537, 108.49080093,\n",
       "        123.4943365 , 138.49787206, 153.50140762]),\n",
       " <a list of 10 Patch objects>)"
      ]
     },
     "execution_count": 19,
     "metadata": {},
     "output_type": "execute_result"
    },
    {
     "data": {
      "image/png": "[encoded data removed]",
      "text/plain": [
       "<Figure size 432x288 with 1 Axes>"
      ]
     },
     "metadata": {
      "needs_background": "light"
     },
     "output_type": "display_data"
    }
   ],
   "source": [
    "# (x=phi,y=length)\n",
    "plt.hist(data.PHI) "
   ]
  },
  {
   "cell_type": "code",
   "execution_count": 78,
   "metadata": {
    "scrolled": true
   },
   "outputs": [
    {
     "data": {
      "text/plain": [
       "(array([  986.,  6270., 20481., 23644., 20571., 14386.,  5288.,  2771.,\n",
       "          827.,   159.]),\n",
       " array([ 7. , 12.4, 17.8, 23.2, 28.6, 34. , 39.4, 44.8, 50.2, 55.6, 61. ]),\n",
       " <a list of 10 Patch objects>)"
      ]
     },
     "execution_count": 78,
     "metadata": {},
     "output_type": "execute_result"
    },
    {
     "data": {
      "image/png": "[encoded data removed]",
      "text/plain": [
       "<Figure size 432x288 with 1 Axes>"
      ]
     },
     "metadata": {
      "needs_background": "light"
     },
     "output_type": "display_data"
    }
   ],
   "source": [
    "# (x=phi,y=length)\n",
    "plt.hist(data.RHO) "
   ]
  },
  {
   "cell_type": "markdown",
   "metadata": {},
   "source": [
    "## Building the exercise calculator\n",
    "\n",
    "Now that we have some basic stats, we can start creating filters, that will allow us to create diverse sets of exercises.\n",
    "\n",
    "Each of this parameters, will define how we want each group of words to be.\n"
   ]
  },
  {
   "cell_type": "code",
   "execution_count": 79,
   "metadata": {},
   "outputs": [],
   "source": [
    "freq = 1  # Word freqency needs to be more than this, \n",
    "high_freq = 50  # Word freqency needs to be more than this, to be \"common\"\n",
    "low_freq = 10  # Word freqency needs to be less than this, to be \"rare\"\n",
    "high_phi = 100.0 # Higher than this will be consider High\n",
    "low_phi  = 30.0  # Lower that this.\n",
    "high_length = 6  # Longest words\n",
    "low_length = 5  # Shortest words\n",
    "high_rho = 35  # Longest words\n",
    "low_rho = 25  # Shortest words"
   ]
  },
  {
   "cell_type": "code",
   "execution_count": 101,
   "metadata": {},
   "outputs": [],
   "source": [
    " \n",
    "def filter_length(value,low_length=low_length,high_length=high_length ):\n",
    "    \"\"\"Keep (True) all words shorter than high and longer that low. in between.\"\"\"\n",
    "    #return True\n",
    "    if value <= high_length and value >= low_length:\n",
    "        return True\n",
    "    else:\n",
    "        return False\n",
    "\n",
    "\n",
    "#example = data.loc[data['LENGTH'].apply(filter_length).fillna(False)]\n",
    "#example"
   ]
  },
  {
   "cell_type": "code",
   "execution_count": 102,
   "metadata": {},
   "outputs": [],
   "source": [
    "# Filter frequencies\n",
    "#TODO Re write to use the thresholds instead of just mf\n",
    "def filter_freq(value, lf = low_freq, hf = high_freq, mf = freq):\n",
    "    \"\"\"Keep (True) words more frequent that freq.\n",
    "    hf and lf = thresholds.\n",
    "    mf = minimum frequency\"\"\"\n",
    "    #return True\n",
    "    if value >= mf:\n",
    "        return True\n",
    "    else:\n",
    "        return False\n",
    "\n",
    "\n",
    "#example = example.loc[example['FRECUENC'].apply(filter_length).fillna(False)]\n",
    "#example"
   ]
  },
  {
   "cell_type": "code",
   "execution_count": 111,
   "metadata": {
    "scrolled": true
   },
   "outputs": [],
   "source": [
    "def filter_phi(value, low_phi=low_phi, high_phi=high_phi):\n",
    "    \"\"\"Keep all the words within the threshold\"\"\"\n",
    "    if value < high_phi and value > low_phi:\n",
    "        return True\n",
    "    else:\n",
    "        return False\n",
    "\n",
    "#example_philtered = example.loc[example['PHI'].apply(filter_phi).fillna(False)]\n",
    "#example_philtered"
   ]
  },
  {
   "cell_type": "code",
   "execution_count": 112,
   "metadata": {
    "scrolled": true
   },
   "outputs": [],
   "source": [
    "def filter_rho(value, low_rho=low_rho, high_rho=high_rho):\n",
    "    \"\"\"Keep all the words within the threshold\"\"\"\n",
    "    if value < high_rho and value > low_rho:\n",
    "        return True\n",
    "    else:\n",
    "        return False\n",
    "\n",
    "#example_rhotered = example.loc[example['RHO'].apply(filter_rho).fillna(False)]\n",
    "#example_rhotered"
   ]
  },
  {
   "cell_type": "code",
   "execution_count": 213,
   "metadata": {
    "scrolled": true
   },
   "outputs": [
    {
     "name": "stdout",
     "output_type": "stream",
     "text": [
      "True False\n"
     ]
    }
   ],
   "source": [
    "def filter_chars(value):\n",
    "    \"\"\"Keep only words we can use:\n",
    "    - No ñ\n",
    "    - No vowels on 1st char\n",
    "    - No h on 1st char\n",
    "    \"\"\"\n",
    "    if \"ñ\" in value or \"h\" in value[:1] or is_vowel(value[:1]):\n",
    "        return False\n",
    "    else:\n",
    "        return True\n",
    "    \n",
    "def eq(v1, v2):\n",
    "    \"\"\"assert if equal or print result\"\"\"\n",
    "    try:\n",
    "        assert v1 == v2\n",
    "    except AssertionError as e:\n",
    "        print(v1,v2)\n",
    "\n",
    "eq(filter_chars(\"barranco\"), True)\n",
    "eq(filter_chars(\"abaco\"), False)\n",
    "eq(filter_chars(\"coñejo\"), False)\n",
    "eq(filter_chars(\"habanero\"), False)\n",
    "eq(filter_chars(\"chíejo\"), False)"
   ]
  },
  {
   "cell_type": "code",
   "execution_count": 108,
   "metadata": {},
   "outputs": [
    {
     "data": {
      "text/plain": [
       "421"
      ]
     },
     "execution_count": 108,
     "metadata": {},
     "output_type": "execute_result"
    }
   ],
   "source": [
    "len(example_philtered)"
   ]
  },
  {
   "cell_type": "markdown",
   "metadata": {},
   "source": [
    "# Rules for creating groups of words \n",
    "\n",
    "\n",
    "Freq Column A == Freq Column B\n",
    "\n",
    "\n",
    "#### Column A\n",
    "\n",
    "Group A:\n",
    "\n",
    "    Phi < 1/3PhiMax  ( < 30 )\n",
    "    Rho < 1/3RhoMax\n",
    "\n",
    "\n",
    "Group B:\n",
    "\n",
    "    Phi < 1/3PhiMax  ( > 100 )\n",
    "    Rho > 2/3RhoMax\n",
    "\n",
    "\n",
    "\n",
    "\n",
    "#### Column B\n",
    "\n",
    "Group C:\n",
    "\n",
    "    Phi > 2/3PhiMax\n",
    "    Rho < 1/3RhoMax\n",
    "\n",
    "Group D:\n",
    "\n",
    "    Phi > 2/3PhiMax\n",
    "    Rho > 2/3RhoMax\n",
    "\n"
   ]
  },
  {
   "cell_type": "code",
   "execution_count": 216,
   "metadata": {},
   "outputs": [
    {
     "data": {
      "text/html": [
       "<div>\n",
       "<style scoped>\n",
       "    .dataframe tbody tr th:only-of-type {\n",
       "        vertical-align: middle;\n",
       "    }\n",
       "\n",
       "    .dataframe tbody tr th {\n",
       "        vertical-align: top;\n",
       "    }\n",
       "\n",
       "    .dataframe thead th {\n",
       "        text-align: right;\n",
       "    }\n",
       "</style>\n",
       "<table border=\"1\" class=\"dataframe\">\n",
       "  <thead>\n",
       "    <tr style=\"text-align: right;\">\n",
       "      <th></th>\n",
       "      <th>RHO</th>\n",
       "      <th>PHI</th>\n",
       "      <th>LENGTH</th>\n",
       "    </tr>\n",
       "  </thead>\n",
       "  <tbody>\n",
       "    <tr>\n",
       "      <th>count</th>\n",
       "      <td>1382.000000</td>\n",
       "      <td>1382.000000</td>\n",
       "      <td>1382.000000</td>\n",
       "    </tr>\n",
       "    <tr>\n",
       "      <th>mean</th>\n",
       "      <td>15.959479</td>\n",
       "      <td>29.651824</td>\n",
       "      <td>5.070188</td>\n",
       "    </tr>\n",
       "    <tr>\n",
       "      <th>std</th>\n",
       "      <td>0.993728</td>\n",
       "      <td>4.543815</td>\n",
       "      <td>0.255556</td>\n",
       "    </tr>\n",
       "    <tr>\n",
       "      <th>min</th>\n",
       "      <td>12.000000</td>\n",
       "      <td>10.326004</td>\n",
       "      <td>5.000000</td>\n",
       "    </tr>\n",
       "    <tr>\n",
       "      <th>25%</th>\n",
       "      <td>15.000000</td>\n",
       "      <td>26.965059</td>\n",
       "      <td>5.000000</td>\n",
       "    </tr>\n",
       "    <tr>\n",
       "      <th>50%</th>\n",
       "      <td>16.000000</td>\n",
       "      <td>30.658071</td>\n",
       "      <td>5.000000</td>\n",
       "    </tr>\n",
       "    <tr>\n",
       "      <th>75%</th>\n",
       "      <td>17.000000</td>\n",
       "      <td>33.350921</td>\n",
       "      <td>5.000000</td>\n",
       "    </tr>\n",
       "    <tr>\n",
       "      <th>max</th>\n",
       "      <td>17.000000</td>\n",
       "      <td>35.504853</td>\n",
       "      <td>6.000000</td>\n",
       "    </tr>\n",
       "  </tbody>\n",
       "</table>\n",
       "</div>"
      ],
      "text/plain": [
       "               RHO          PHI       LENGTH\n",
       "count  1382.000000  1382.000000  1382.000000\n",
       "mean     15.959479    29.651824     5.070188\n",
       "std       0.993728     4.543815     0.255556\n",
       "min      12.000000    10.326004     5.000000\n",
       "25%      15.000000    26.965059     5.000000\n",
       "50%      16.000000    30.658071     5.000000\n",
       "75%      17.000000    33.350921     5.000000\n",
       "max      17.000000    35.504853     6.000000"
      ]
     },
     "execution_count": 216,
     "metadata": {},
     "output_type": "execute_result"
    }
   ],
   "source": [
    "## Building the 1st group\n",
    "#  Using filter_length, filter_phi, filter_freq, \n",
    "\n",
    "def build_word_group_a(dataset):\n",
    "    \"\"\"\n",
    "    Build a word group given a set of parameters\n",
    "        Group A:\n",
    "        \n",
    "        Length >= 5 and Length <= 6\n",
    "        Phi < 1/3PhiMax  ( < 30 )\n",
    "        Rho < 1/3RhoMax\n",
    "\n",
    "    \"\"\"\n",
    "    # filter_length # Between 5 and 6 characters long\n",
    "    min_l = 5\n",
    "    max_l = 6\n",
    "    #print(len(dataset))\n",
    "    words = dataset.loc[dataset[\"LENGTH\"].apply(lambda x: filter_length(x,min_l,max_l))]\n",
    "    words = words.loc[words[\"PALABRA\"].apply(filter_chars)]\n",
    "    #print(len(words))\n",
    "    # filter_phi\n",
    "    min_phi = 0\n",
    "    max_phi = ( example.PHI.max() / 3 ) * 1.5 # 1/3 of Phi Max\n",
    "    wordsaphi = words.loc[words[\"PHI\"].apply(lambda x: filter_phi(x,min_phi,max_phi) )]\n",
    "    #print(len(wordsaphi))\n",
    "    # filter_rho\n",
    "    min_rho = 0\n",
    "    max_rho = ( example.RHO.max() / 3 ) * 1.8 # 1/3 of Rho Max\n",
    "    wordsrho = wordsaphi.loc[wordsaphi[\"RHO\"].apply(lambda x: filter_rho(x,min_rho,max_rho) )]\n",
    "    #print(len(wordsrho))\n",
    "    return wordsrho\n",
    "\n",
    "    \n",
    "    \n",
    "result = 0 \n",
    "groupA = build_word_group_a(data)\n",
    "\n",
    "\n",
    "groupA.describe()"
   ]
  },
  {
   "cell_type": "code",
   "execution_count": 217,
   "metadata": {},
   "outputs": [
    {
     "data": {
      "text/html": [
       "<div>\n",
       "<style scoped>\n",
       "    .dataframe tbody tr th:only-of-type {\n",
       "        vertical-align: middle;\n",
       "    }\n",
       "\n",
       "    .dataframe tbody tr th {\n",
       "        vertical-align: top;\n",
       "    }\n",
       "\n",
       "    .dataframe thead th {\n",
       "        text-align: right;\n",
       "    }\n",
       "</style>\n",
       "<table border=\"1\" class=\"dataframe\">\n",
       "  <thead>\n",
       "    <tr style=\"text-align: right;\">\n",
       "      <th></th>\n",
       "      <th>RHO</th>\n",
       "      <th>PHI</th>\n",
       "      <th>LENGTH</th>\n",
       "    </tr>\n",
       "  </thead>\n",
       "  <tbody>\n",
       "    <tr>\n",
       "      <th>count</th>\n",
       "      <td>957.000000</td>\n",
       "      <td>957.000000</td>\n",
       "      <td>957.000000</td>\n",
       "    </tr>\n",
       "    <tr>\n",
       "      <th>mean</th>\n",
       "      <td>21.990596</td>\n",
       "      <td>32.085733</td>\n",
       "      <td>5.951933</td>\n",
       "    </tr>\n",
       "    <tr>\n",
       "      <th>std</th>\n",
       "      <td>1.187855</td>\n",
       "      <td>5.715178</td>\n",
       "      <td>0.214019</td>\n",
       "    </tr>\n",
       "    <tr>\n",
       "      <th>min</th>\n",
       "      <td>21.000000</td>\n",
       "      <td>10.799613</td>\n",
       "      <td>5.000000</td>\n",
       "    </tr>\n",
       "    <tr>\n",
       "      <th>25%</th>\n",
       "      <td>21.000000</td>\n",
       "      <td>28.670472</td>\n",
       "      <td>6.000000</td>\n",
       "    </tr>\n",
       "    <tr>\n",
       "      <th>50%</th>\n",
       "      <td>22.000000</td>\n",
       "      <td>33.101031</td>\n",
       "      <td>6.000000</td>\n",
       "    </tr>\n",
       "    <tr>\n",
       "      <th>75%</th>\n",
       "      <td>23.000000</td>\n",
       "      <td>36.589172</td>\n",
       "      <td>6.000000</td>\n",
       "    </tr>\n",
       "    <tr>\n",
       "      <th>max</th>\n",
       "      <td>29.000000</td>\n",
       "      <td>39.996879</td>\n",
       "      <td>6.000000</td>\n",
       "    </tr>\n",
       "  </tbody>\n",
       "</table>\n",
       "</div>"
      ],
      "text/plain": [
       "              RHO         PHI      LENGTH\n",
       "count  957.000000  957.000000  957.000000\n",
       "mean    21.990596   32.085733    5.951933\n",
       "std      1.187855    5.715178    0.214019\n",
       "min     21.000000   10.799613    5.000000\n",
       "25%     21.000000   28.670472    6.000000\n",
       "50%     22.000000   33.101031    6.000000\n",
       "75%     23.000000   36.589172    6.000000\n",
       "max     29.000000   39.996879    6.000000"
      ]
     },
     "execution_count": 217,
     "metadata": {},
     "output_type": "execute_result"
    }
   ],
   "source": [
    "## Building the 2nd group\n",
    "#  Using filter_length, filter_phi, filter_freq, \n",
    "\n",
    "def build_word_group_b(dataset):\n",
    "    \"\"\"\n",
    "    Build a word group given a set of parameters\n",
    "\n",
    "        Group B:\n",
    "\n",
    "            Phi < 1/3PhiMax  ( > 100 )\n",
    "            Rho > 2/3RhoMax\n",
    "\n",
    "\n",
    "    \"\"\"\n",
    "    # filter_length # Between 5 and 6 characters long\n",
    "    min_l = 5\n",
    "    max_l = 6\n",
    "    #print(len(dataset))\n",
    "    words = dataset.loc[dataset[\"LENGTH\"].apply(lambda x: filter_length(x,min_l,max_l))]\n",
    "    words = words.loc[words[\"PALABRA\"].apply(filter_chars)]\n",
    "    #print(len(words))\n",
    "    # filter_phi\n",
    "    min_phi = 0\n",
    "    max_phi = 40\n",
    "    wordsaphi = words.loc[words[\"PHI\"].apply(lambda x: filter_phi(x,min_phi,max_phi) )]\n",
    "    #print(len(wordsaphi))\n",
    "    # filter_rho\n",
    "    min_rho = 20\n",
    "    max_rho = 99999\n",
    "    wordsrho = wordsaphi.loc[wordsaphi[\"RHO\"].apply(lambda x: filter_rho(x,min_rho,max_rho) )]\n",
    "    #print(len(wordsrho))\n",
    "    return wordsrho\n",
    "\n",
    "    \n",
    "    \n",
    "groupB = build_word_group_b(data)\n",
    "groupB.describe()"
   ]
  },
  {
   "cell_type": "code",
   "execution_count": 218,
   "metadata": {},
   "outputs": [
    {
     "data": {
      "text/html": [
       "<div>\n",
       "<style scoped>\n",
       "    .dataframe tbody tr th:only-of-type {\n",
       "        vertical-align: middle;\n",
       "    }\n",
       "\n",
       "    .dataframe tbody tr th {\n",
       "        vertical-align: top;\n",
       "    }\n",
       "\n",
       "    .dataframe thead th {\n",
       "        text-align: right;\n",
       "    }\n",
       "</style>\n",
       "<table border=\"1\" class=\"dataframe\">\n",
       "  <thead>\n",
       "    <tr style=\"text-align: right;\">\n",
       "      <th></th>\n",
       "      <th>RHO</th>\n",
       "      <th>PHI</th>\n",
       "      <th>LENGTH</th>\n",
       "    </tr>\n",
       "  </thead>\n",
       "  <tbody>\n",
       "    <tr>\n",
       "      <th>count</th>\n",
       "      <td>1241.000000</td>\n",
       "      <td>1241.000000</td>\n",
       "      <td>1241.000000</td>\n",
       "    </tr>\n",
       "    <tr>\n",
       "      <th>mean</th>\n",
       "      <td>14.501209</td>\n",
       "      <td>38.815134</td>\n",
       "      <td>5.027397</td>\n",
       "    </tr>\n",
       "    <tr>\n",
       "      <th>std</th>\n",
       "      <td>0.715186</td>\n",
       "      <td>6.452908</td>\n",
       "      <td>0.163304</td>\n",
       "    </tr>\n",
       "    <tr>\n",
       "      <th>min</th>\n",
       "      <td>12.000000</td>\n",
       "      <td>23.780351</td>\n",
       "      <td>5.000000</td>\n",
       "    </tr>\n",
       "    <tr>\n",
       "      <th>25%</th>\n",
       "      <td>14.000000</td>\n",
       "      <td>34.623784</td>\n",
       "      <td>5.000000</td>\n",
       "    </tr>\n",
       "    <tr>\n",
       "      <th>50%</th>\n",
       "      <td>15.000000</td>\n",
       "      <td>39.075231</td>\n",
       "      <td>5.000000</td>\n",
       "    </tr>\n",
       "    <tr>\n",
       "      <th>75%</th>\n",
       "      <td>15.000000</td>\n",
       "      <td>43.089926</td>\n",
       "      <td>5.000000</td>\n",
       "    </tr>\n",
       "    <tr>\n",
       "      <th>max</th>\n",
       "      <td>15.000000</td>\n",
       "      <td>56.677291</td>\n",
       "      <td>6.000000</td>\n",
       "    </tr>\n",
       "  </tbody>\n",
       "</table>\n",
       "</div>"
      ],
      "text/plain": [
       "               RHO          PHI       LENGTH\n",
       "count  1241.000000  1241.000000  1241.000000\n",
       "mean     14.501209    38.815134     5.027397\n",
       "std       0.715186     6.452908     0.163304\n",
       "min      12.000000    23.780351     5.000000\n",
       "25%      14.000000    34.623784     5.000000\n",
       "50%      15.000000    39.075231     5.000000\n",
       "75%      15.000000    43.089926     5.000000\n",
       "max      15.000000    56.677291     6.000000"
      ]
     },
     "execution_count": 218,
     "metadata": {},
     "output_type": "execute_result"
    }
   ],
   "source": [
    "## Building the 3rd group, the 1st of the second column\n",
    "\n",
    "def build_word_group_c(dataset):\n",
    "    \"\"\"\n",
    "    Build a word group given a set of parameters\n",
    "    \n",
    "    Group C:\n",
    "\n",
    "        Phi > 2/3PhiMax\n",
    "        Rho < 1/3RhoMax\n",
    "\n",
    "\n",
    "    \"\"\"\n",
    "    # filter_length # Between 5 and 6 characters long\n",
    "    min_l = 5\n",
    "    max_l = 6\n",
    "    #print(len(dataset))\n",
    "    words = dataset.loc[dataset[\"LENGTH\"].apply(lambda x: filter_length(x,min_l,max_l))]\n",
    "    words = words.loc[words[\"PALABRA\"].apply(filter_chars)]\n",
    "    #print(len(words))\n",
    "    # filter_phi\n",
    "    min_phi = (words.PHI.max() / 3 ) * 1 # 2/3 of Phi Max\n",
    "    max_phi = 99999\n",
    "    wordsaphi = words.loc[words[\"PHI\"].apply(lambda x: filter_phi(x,min_phi,max_phi) )]\n",
    "    #print(len(wordsaphi))\n",
    "    # filter_rho\n",
    "    min_rho = 0\n",
    "    max_rho = ( example.RHO.max() / 3 ) * 1.6 # 1.6/3 of Rho Max\n",
    "    wordsrho = wordsaphi.loc[wordsaphi[\"RHO\"].apply(lambda x: filter_rho(x,min_rho,max_rho) )]\n",
    "    #print(len(wordsrho))\n",
    "    return wordsrho\n",
    "\n",
    "    \n",
    "    \n",
    "groupC = build_word_group_c(data)\n",
    "groupC.describe()"
   ]
  },
  {
   "cell_type": "code",
   "execution_count": 220,
   "metadata": {},
   "outputs": [
    {
     "data": {
      "text/html": [
       "<div>\n",
       "<style scoped>\n",
       "    .dataframe tbody tr th:only-of-type {\n",
       "        vertical-align: middle;\n",
       "    }\n",
       "\n",
       "    .dataframe tbody tr th {\n",
       "        vertical-align: top;\n",
       "    }\n",
       "\n",
       "    .dataframe thead th {\n",
       "        text-align: right;\n",
       "    }\n",
       "</style>\n",
       "<table border=\"1\" class=\"dataframe\">\n",
       "  <thead>\n",
       "    <tr style=\"text-align: right;\">\n",
       "      <th></th>\n",
       "      <th>RHO</th>\n",
       "      <th>PHI</th>\n",
       "      <th>LENGTH</th>\n",
       "    </tr>\n",
       "  </thead>\n",
       "  <tbody>\n",
       "    <tr>\n",
       "      <th>count</th>\n",
       "      <td>977.000000</td>\n",
       "      <td>977.000000</td>\n",
       "      <td>977.0</td>\n",
       "    </tr>\n",
       "    <tr>\n",
       "      <th>mean</th>\n",
       "      <td>20.827021</td>\n",
       "      <td>52.034219</td>\n",
       "      <td>6.0</td>\n",
       "    </tr>\n",
       "    <tr>\n",
       "      <th>std</th>\n",
       "      <td>1.023177</td>\n",
       "      <td>3.677446</td>\n",
       "      <td>0.0</td>\n",
       "    </tr>\n",
       "    <tr>\n",
       "      <th>min</th>\n",
       "      <td>20.000000</td>\n",
       "      <td>47.155883</td>\n",
       "      <td>6.0</td>\n",
       "    </tr>\n",
       "    <tr>\n",
       "      <th>25%</th>\n",
       "      <td>20.000000</td>\n",
       "      <td>48.991494</td>\n",
       "      <td>6.0</td>\n",
       "    </tr>\n",
       "    <tr>\n",
       "      <th>50%</th>\n",
       "      <td>21.000000</td>\n",
       "      <td>51.342854</td>\n",
       "      <td>6.0</td>\n",
       "    </tr>\n",
       "    <tr>\n",
       "      <th>75%</th>\n",
       "      <td>21.000000</td>\n",
       "      <td>54.152095</td>\n",
       "      <td>6.0</td>\n",
       "    </tr>\n",
       "    <tr>\n",
       "      <th>max</th>\n",
       "      <td>25.000000</td>\n",
       "      <td>64.879197</td>\n",
       "      <td>6.0</td>\n",
       "    </tr>\n",
       "  </tbody>\n",
       "</table>\n",
       "</div>"
      ],
      "text/plain": [
       "              RHO         PHI  LENGTH\n",
       "count  977.000000  977.000000   977.0\n",
       "mean    20.827021   52.034219     6.0\n",
       "std      1.023177    3.677446     0.0\n",
       "min     20.000000   47.155883     6.0\n",
       "25%     20.000000   48.991494     6.0\n",
       "50%     21.000000   51.342854     6.0\n",
       "75%     21.000000   54.152095     6.0\n",
       "max     25.000000   64.879197     6.0"
      ]
     },
     "execution_count": 220,
     "metadata": {},
     "output_type": "execute_result"
    }
   ],
   "source": [
    "## Building the 4th group, the 2nd of the second column\n",
    "\n",
    "def build_word_group_d(dataset):\n",
    "    \"\"\"\n",
    "    Build a word group given a set of parameters\n",
    "    \n",
    "        Group D:\n",
    "\n",
    "            Phi > 2/3PhiMax\n",
    "            Rho > 2/3RhoMax\n",
    "\n",
    "\n",
    "\n",
    "    \"\"\"\n",
    "    # filter_length # Between 5 and 6 characters long\n",
    "    min_l = 5\n",
    "    max_l = 6\n",
    "    #print(len(dataset))\n",
    "    words = dataset.loc[dataset[\"LENGTH\"].apply(lambda x: filter_length(x,min_l,max_l))]\n",
    "    words = words.loc[words[\"PALABRA\"].apply(filter_chars)]\n",
    "    #print(len(words))\n",
    "    # filter_phi\n",
    "    min_phi = (words.PHI.max() / 3 ) * 2 # 2/3 of Phi Max\n",
    "    max_phi = 9999\n",
    "    wordsaphi = words.loc[words[\"PHI\"].apply(lambda x: filter_phi(x,min_phi,max_phi) )]\n",
    "    #print(len(wordsaphi))\n",
    "    # filter_rho\n",
    "    min_rho = ( example.RHO.max() / 3 ) * 2 # 1/3 of Rho Max\n",
    "    max_rho = 9999\n",
    "    wordsrho = wordsaphi.loc[wordsaphi[\"RHO\"].apply(lambda x: filter_rho(x,min_rho,max_rho) )]\n",
    "    #print(len(wordsrho))\n",
    "    return wordsrho\n",
    "\n",
    "    \n",
    "    \n",
    "groupD = build_word_group_d(data)\n",
    "groupD.describe()"
   ]
  },
  {
   "cell_type": "code",
   "execution_count": 228,
   "metadata": {},
   "outputs": [],
   "source": [
    "#ColumnA = groupA + groupB\n",
    "#ColumnB = groupC + groupD\n",
    "\n",
    "groupA.to_csv(\"../data/grupo_a.csv\")\n",
    "groupB.to_csv(\"../data/grupo_b.csv\")\n",
    "groupC.to_csv(\"../data/grupo_c.csv\")\n",
    "groupD.to_csv(\"../data/grupo_d.csv\")"
   ]
  },
  {
   "cell_type": "code",
   "execution_count": null,
   "metadata": {},
   "outputs": [],
   "source": []
  },
  {
   "cell_type": "code",
   "execution_count": null,
   "metadata": {},
   "outputs": [],
   "source": [
    "plt.scatter(chosen_words.FRECUENC,chosen_words.RHO)"
   ]
  },
  {
   "cell_type": "code",
   "execution_count": null,
   "metadata": {
    "scrolled": false
   },
   "outputs": [],
   "source": [
    "%%notify\n",
    "dir(plt)"
   ]
  },
  {
   "cell_type": "code",
   "execution_count": null,
   "metadata": {},
   "outputs": [],
   "source": [
    "# Creating heatmaps in matplotlib is more difficult than it should be.\n",
    "# Thankfully, Seaborn makes them easy for us.\n",
    "# http://stanford.edu/~mwaskom/software/seaborn/\n",
    "\n",
    "import seaborn as sns\n",
    "sns.set(style='white')\n",
    "\n"
   ]
  },
  {
   "cell_type": "code",
   "execution_count": null,
   "metadata": {},
   "outputs": [],
   "source": [
    "%%notify -o\n",
    "\n",
    "plt.figure(figsize=(12, 8))\n",
    "plt.title('Cohorts: Phi vs Rho and friends')\n",
    "sns.heatmap(data.T, mask=data.T.isnull(), annot=True, fmt='.0%');\n",
    "\n"
   ]
  }
 ],
 "metadata": {
  "kernelspec": {
   "display_name": "Python 3",
   "language": "python",
   "name": "python3"
  },
  "language_info": {
   "codemirror_mode": {
    "name": "ipython",
    "version": 3
   },
   "file_extension": ".py",
   "mimetype": "text/x-python",
   "name": "python",
   "nbconvert_exporter": "python",
   "pygments_lexer": "ipython3",
   "version": "3.7.3"
  }
 },
 "nbformat": 4,
 "nbformat_minor": 2
}
