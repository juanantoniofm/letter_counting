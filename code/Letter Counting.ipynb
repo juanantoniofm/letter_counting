{
 "cells": [
  {
   "cell_type": "markdown",
   "metadata": {},
   "source": [
    "# Letter Counter - Contador de letras\n",
    "\n",
    "\n",
    "Un pequeño notebook para contar la frecuencia de las letras en el castellano (o en cualquier idioma, siempre que le pases la lista de letras en un CSV).\n",
    "\n",
    "Esto que estas leyendo, es un Jupyter notebook. Puedes utilizarlo como documeto, o como herramienta ejecutable (y que permite modificaciones de forma interactiva). Para saber mas sobre como ejecutarlo, mira la documentacion en [jupyter.org](https://jupyter.org/) y revisa el Makefile.\n"
   ]
  },
  {
   "cell_type": "markdown",
   "metadata": {},
   "source": [
    "### Loading Internal Assets\n",
    "\n",
    "You can ignore this part.\n"
   ]
  },
  {
   "cell_type": "code",
   "execution_count": 1,
   "metadata": {
    "scrolled": true
   },
   "outputs": [
    {
     "data": {
      "application/javascript": [
       "if (!(\"Notification\" in window)) {\n",
       "    alert(\"This browser does not support desktop notifications, so the %%notify magic will not work.\");\n",
       "} else if (Notification.permission !== 'granted' && Notification.permission !== 'denied') {\n",
       "    Notification.requestPermission(function (permission) {\n",
       "        if(!('permission' in Notification)) {\n",
       "            Notification.permission = permission;\n",
       "        }\n",
       "    })\n",
       "}\n"
      ],
      "text/plain": [
       "<IPython.core.display.Javascript object>"
      ]
     },
     "metadata": {},
     "output_type": "display_data"
    }
   ],
   "source": [
    "import unidecode\n",
    "from collections import defaultdict\n",
    "\n",
    "# Loading libraries\n",
    "import pandas as pd\n",
    "import matplotlib\n",
    "\n",
    "import matplotlib.pyplot as plt\n",
    "import matplotlib as mpl\n",
    "%matplotlib inline\n",
    "\n",
    "\n",
    "# Load jupyter notify\n",
    "# See https://github.com/shoprunner/jupyter-notify\n",
    "%load_ext jupyternotify\n",
    "\n"
   ]
  },
  {
   "cell_type": "code",
   "execution_count": 2,
   "metadata": {},
   "outputs": [
    {
     "data": {
      "application/javascript": [
       "$(document).ready(\n",
       "    function() {\n",
       "        function appendUniqueDiv(){\n",
       "            // append a div with our uuid so we can check that it's already\n",
       "            // been sent and avoid duplicates on page reload\n",
       "            var notifiedDiv = document.createElement(\"div\")\n",
       "            notifiedDiv.id = \"5bfc68b6-446a-48b6-8550-cfe3d46c1009\"\n",
       "            element.append(notifiedDiv)\n",
       "        }\n",
       "\n",
       "        // only send notifications if the pageload is complete; this will\n",
       "        // help stop extra notifications when a saved notebook is loaded,\n",
       "        // which during testing gives us state \"interactive\", not \"complete\"\n",
       "        if (document.readyState === 'complete') {\n",
       "            // check for the div that signifies that the notification\n",
       "            // was already sent\n",
       "            if (document.getElementById(\"5bfc68b6-446a-48b6-8550-cfe3d46c1009\") === null) {\n",
       "                var notificationPayload = {\"requireInteraction\": false, \"icon\": \"/static/base/images/favicon.ico\", \"body\": \"Cell execution has finished!\"};\n",
       "                if (Notification.permission !== 'denied') {\n",
       "                    if (Notification.permission !== 'granted') { \n",
       "                        Notification.requestPermission(function (permission) {\n",
       "                            if(!('permission' in Notification)) {\n",
       "                                Notification.permission = permission\n",
       "                            }\n",
       "                        })\n",
       "                    }\n",
       "                    if (Notification.permission === 'granted') {\n",
       "                    var notification = new Notification(\"Jupyter Notebook\", notificationPayload)\n",
       "                    appendUniqueDiv()\n",
       "                    notification.onclick = function () {\n",
       "                        window.focus();\n",
       "                        this.close();\n",
       "                        };\n",
       "                    } \n",
       "                }     \n",
       "            }\n",
       "        }\n",
       "    }\n",
       ")\n"
      ],
      "text/plain": [
       "<IPython.core.display.Javascript object>"
      ]
     },
     "metadata": {},
     "output_type": "display_data"
    }
   ],
   "source": [
    "%%notify -o\n",
    "\n",
    "pass"
   ]
  },
  {
   "cell_type": "markdown",
   "metadata": {},
   "source": [
    "### Configuration - Configuracion\n",
    "\n",
    "If you want to change settings, like data sources.\n",
    "\n",
    "---\n",
    "\n",
    "Si necesitas cambiar configuracion, como los acentos o la fuente de datos."
   ]
  },
  {
   "cell_type": "code",
   "execution_count": 3,
   "metadata": {},
   "outputs": [],
   "source": [
    "\n",
    "# Distinguish accent (True = i and í are 2 different letters; False = they are 2 letter i's)\n",
    "accent_dif = False # False to ignore, as we won't be using them either for the exercises.\n",
    "\n",
    "# Data sources\n",
    "wordlist_fileSHORT = r'../data/Anexo I - palabras 3-9 letras.xls'\n",
    "wordlist_fileLONG = r'../data/Anexo II - palabras 10-16 letras.xls'\n"
   ]
  },
  {
   "cell_type": "markdown",
   "metadata": {},
   "source": [
    "### Statistics - Estidisticas\n",
    "\n",
    "Restart the counters\n",
    "\n",
    "---\n",
    "\n",
    "Reinicia los contadores"
   ]
  },
  {
   "cell_type": "code",
   "execution_count": 4,
   "metadata": {},
   "outputs": [],
   "source": [
    "## Clear Up the statistics\n",
    "\n",
    "## GLOBAL Variables\n",
    "# total of words counted\n",
    "word_sum = 0\n",
    "# Freq of each letter\n",
    "letter_frequency = defaultdict(lambda:0)\n",
    "# Percentile of each letter's frequency\n",
    "letter_freq_percent = defaultdict(lambda:0)\n",
    " "
   ]
  },
  {
   "cell_type": "markdown",
   "metadata": {},
   "source": [
    "## Obtain list of usable words from 5 to 6 letters\n",
    "\n",
    "Using pandas and matplotlib.\n",
    "\n",
    "--- \n",
    "\n",
    "Utilizando pandas y matplotlib.\n",
    "\n"
   ]
  },
  {
   "cell_type": "code",
   "execution_count": null,
   "metadata": {
    "scrolled": false
   },
   "outputs": [],
   "source": [
    "# SKIP Obtain the list of words from the original database\n",
    "## SLOW Run carefully.\n",
    "\n",
    "#load the sheets for 5 and 6 letters words as Pandas DataFrames\n",
    "words5letters = pd.read_excel (wordlist_fileSHORT, sheet_name=\"5\", verbose=True)\n",
    "words6letters = pd.read_excel (wordlist_fileSHORT, sheet_name=\"6\", verbose=True)\n",
    "\n",
    "# Extract only the words and the lexyc frequency of words\n",
    "w5l = pd.DataFrame(words5letters , columns=[\"PALABRA\", \"FRECUENC\"])\n",
    "w6l = pd.DataFrame(words6letters , columns=[\"PALABRA\", \"FRECUENC\"])\n",
    "w6l"
   ]
  },
  {
   "cell_type": "code",
   "execution_count": 22,
   "metadata": {
    "scrolled": false
   },
   "outputs": [
    {
     "name": "stdout",
     "output_type": "stream",
     "text": [
      "Reading sheet 5\n"
     ]
    },
    {
     "data": {
      "text/html": [
       "<div>\n",
       "<style scoped>\n",
       "    .dataframe tbody tr th:only-of-type {\n",
       "        vertical-align: middle;\n",
       "    }\n",
       "\n",
       "    .dataframe tbody tr th {\n",
       "        vertical-align: top;\n",
       "    }\n",
       "\n",
       "    .dataframe thead th {\n",
       "        text-align: right;\n",
       "    }\n",
       "</style>\n",
       "<table border=\"1\" class=\"dataframe\">\n",
       "  <thead>\n",
       "    <tr style=\"text-align: right;\">\n",
       "      <th></th>\n",
       "      <th>PALABRA</th>\n",
       "      <th>FRECUENC</th>\n",
       "    </tr>\n",
       "  </thead>\n",
       "  <tbody>\n",
       "    <tr>\n",
       "      <th>0</th>\n",
       "      <td>ababol</td>\n",
       "      <td>0</td>\n",
       "    </tr>\n",
       "    <tr>\n",
       "      <th>1</th>\n",
       "      <td>abacal</td>\n",
       "      <td>0</td>\n",
       "    </tr>\n",
       "    <tr>\n",
       "      <th>2</th>\n",
       "      <td>abadía</td>\n",
       "      <td>3</td>\n",
       "    </tr>\n",
       "    <tr>\n",
       "      <th>3</th>\n",
       "      <td>abajar</td>\n",
       "      <td>0</td>\n",
       "    </tr>\n",
       "    <tr>\n",
       "      <th>4</th>\n",
       "      <td>abalar</td>\n",
       "      <td>0</td>\n",
       "    </tr>\n",
       "    <tr>\n",
       "      <th>...</th>\n",
       "      <td>...</td>\n",
       "      <td>...</td>\n",
       "    </tr>\n",
       "    <tr>\n",
       "      <th>9500</th>\n",
       "      <td>zurrir</td>\n",
       "      <td>0</td>\n",
       "    </tr>\n",
       "    <tr>\n",
       "      <th>9501</th>\n",
       "      <td>zurrón</td>\n",
       "      <td>1</td>\n",
       "    </tr>\n",
       "    <tr>\n",
       "      <th>9502</th>\n",
       "      <td>zurubí</td>\n",
       "      <td>0</td>\n",
       "    </tr>\n",
       "    <tr>\n",
       "      <th>9503</th>\n",
       "      <td>zutana</td>\n",
       "      <td>0</td>\n",
       "    </tr>\n",
       "    <tr>\n",
       "      <th>9504</th>\n",
       "      <td>zutano</td>\n",
       "      <td>1</td>\n",
       "    </tr>\n",
       "  </tbody>\n",
       "</table>\n",
       "<p>9505 rows × 2 columns</p>\n",
       "</div>"
      ],
      "text/plain": [
       "     PALABRA  FRECUENC\n",
       "0     ababol         0\n",
       "1     abacal         0\n",
       "2     abadía         3\n",
       "3     abajar         0\n",
       "4     abalar         0\n",
       "...      ...       ...\n",
       "9500  zurrir         0\n",
       "9501  zurrón         1\n",
       "9502  zurubí         0\n",
       "9503  zutana         0\n",
       "9504  zutano         1\n",
       "\n",
       "[9505 rows x 2 columns]"
      ]
     },
     "execution_count": 22,
     "metadata": {},
     "output_type": "execute_result"
    }
   ],
   "source": [
    "# TMP DUPLICATED ; Trying to figure out the issues with missing words.\n",
    "# SKIP Obtain the list of words from the original database\n",
    "## SLOW Run carefully.\n",
    "\n",
    "#load the sheets for 5 and 6 letters words as Pandas DataFrames\n",
    "words5letters = pd.read_excel (wordlist_fileSHORT, sheet_name=\"5\", verbose=True, dtype=object)\n",
    "\n",
    "# Extract only the words and the lexyc frequency of words\n",
    "w5l = pd.DataFrame(words5letters ,columns=[\"PALABRA\",\"FRECUENC\"])\n",
    "w6l = pd.DataFrame(words6letters , columns=[\"PALABRA\", \"FRECUENC\"])\n",
    "w6l"
   ]
  },
  {
   "cell_type": "code",
   "execution_count": null,
   "metadata": {},
   "outputs": [],
   "source": [
    "# TMP;\n",
    "# experimentando con dtypes para resolvel el NaN problem ()"
   ]
  },
  {
   "cell_type": "markdown",
   "metadata": {},
   "source": [
    "### Counting the letters into the frequency database \n",
    "\n",
    "To build the statistics about how frequent each letter is."
   ]
  },
  {
   "cell_type": "code",
   "execution_count": 5,
   "metadata": {
    "scrolled": true
   },
   "outputs": [
    {
     "name": "stdout",
     "output_type": "stream",
     "text": [
      "Reading sheet 3\n",
      "Words in 3  392\n",
      "Reading sheet 4\n",
      "Words in 4  1914\n",
      "Reading sheet 5\n",
      "Words in 5  5126\n",
      "Reading sheet 6\n",
      "Words in 6  9505\n",
      "Reading sheet 7\n",
      "Words in 7  13618\n",
      "Reading sheet 8\n",
      "Words in 8  15792\n",
      "Reading sheet 9\n",
      "Words in 9  15428\n",
      "Reading sheet 10\n",
      "Words in 10  12635\n",
      "Reading sheet 11\n",
      "Words in 11  8861\n",
      "Reading sheet 12\n",
      "Words in 12  5528\n",
      "Reading sheet 13\n",
      "Words in 13  3312\n",
      "Reading sheet 14\n",
      "Words in 14  1798\n",
      "Reading sheet 15\n",
      "Words in 15  1010\n",
      "Reading sheet 16\n",
      "Words in 16  464\n"
     ]
    },
    {
     "data": {
      "text/html": [
       "<div>\n",
       "<style scoped>\n",
       "    .dataframe tbody tr th:only-of-type {\n",
       "        vertical-align: middle;\n",
       "    }\n",
       "\n",
       "    .dataframe tbody tr th {\n",
       "        vertical-align: top;\n",
       "    }\n",
       "\n",
       "    .dataframe thead th {\n",
       "        text-align: right;\n",
       "    }\n",
       "</style>\n",
       "<table border=\"1\" class=\"dataframe\">\n",
       "  <thead>\n",
       "    <tr style=\"text-align: right;\">\n",
       "      <th></th>\n",
       "      <th>PALABRA</th>\n",
       "      <th>FRECUENC</th>\n",
       "    </tr>\n",
       "  </thead>\n",
       "  <tbody>\n",
       "    <tr>\n",
       "      <th>0</th>\n",
       "      <td>aba</td>\n",
       "      <td>0</td>\n",
       "    </tr>\n",
       "    <tr>\n",
       "      <th>1</th>\n",
       "      <td>aca</td>\n",
       "      <td>0</td>\n",
       "    </tr>\n",
       "    <tr>\n",
       "      <th>2</th>\n",
       "      <td>acá</td>\n",
       "      <td>46</td>\n",
       "    </tr>\n",
       "    <tr>\n",
       "      <th>3</th>\n",
       "      <td>adó</td>\n",
       "      <td>0</td>\n",
       "    </tr>\n",
       "    <tr>\n",
       "      <th>4</th>\n",
       "      <td>afé</td>\n",
       "      <td>0</td>\n",
       "    </tr>\n",
       "    <tr>\n",
       "      <th>...</th>\n",
       "      <td>...</td>\n",
       "      <td>...</td>\n",
       "    </tr>\n",
       "    <tr>\n",
       "      <th>95378</th>\n",
       "      <td>ultramicroscopio</td>\n",
       "      <td>0</td>\n",
       "    </tr>\n",
       "    <tr>\n",
       "      <th>95379</th>\n",
       "      <td>ventriculografía</td>\n",
       "      <td>0</td>\n",
       "    </tr>\n",
       "    <tr>\n",
       "      <th>95380</th>\n",
       "      <td>vertiginosamente</td>\n",
       "      <td>2</td>\n",
       "    </tr>\n",
       "    <tr>\n",
       "      <th>95381</th>\n",
       "      <td>vicealmirantazgo</td>\n",
       "      <td>0</td>\n",
       "    </tr>\n",
       "    <tr>\n",
       "      <th>95382</th>\n",
       "      <td>vituperiosamente</td>\n",
       "      <td>0</td>\n",
       "    </tr>\n",
       "  </tbody>\n",
       "</table>\n",
       "<p>95383 rows × 2 columns</p>\n",
       "</div>"
      ],
      "text/plain": [
       "                PALABRA FRECUENC\n",
       "0                   aba        0\n",
       "1                   aca        0\n",
       "2                   acá       46\n",
       "3                   adó        0\n",
       "4                   afé        0\n",
       "...                 ...      ...\n",
       "95378  ultramicroscopio        0\n",
       "95379  ventriculografía        0\n",
       "95380  vertiginosamente        2\n",
       "95381  vicealmirantazgo        0\n",
       "95382  vituperiosamente        0\n",
       "\n",
       "[95383 rows x 2 columns]"
      ]
     },
     "execution_count": 5,
     "metadata": {},
     "output_type": "execute_result"
    }
   ],
   "source": [
    "## Obtain the full database (old way)\n",
    "## SLOW Run carefully.\n",
    "\n",
    "#load the sheets for 5 and 6 letters words as Pandas DataFrames\n",
    "all_words = pd.DataFrame(columns=[\"PALABRA\",\"FRECUENC\"])\n",
    "\n",
    "\n",
    "for i in range(3,10): # range from 3 to 9, inclusive\n",
    "    # wordlist_fileSHORT\n",
    "    sheety = pd.read_excel (wordlist_fileSHORT, sheet_name=f\"{i}\", verbose=True)\n",
    "    print(f\"Words in {i} \", len(sheety))\n",
    "    all_words = all_words.append( pd.DataFrame(sheety ,columns=[\"PALABRA\",\"FRECUENC\"]), ignore_index=True )\n",
    "for i in range(10,17): # range from 10 to 16, inclusive\n",
    "    # wordlist_fileLONG\n",
    "    sheety = pd.read_excel (wordlist_fileLONG, sheet_name=f\"{i}\", verbose=True)\n",
    "    print(f\"Words in {i} \", len(sheety))\n",
    "    all_words = all_words.append(pd.DataFrame(sheety ,columns=[\"PALABRA\",\"FRECUENC\"]), ignore_index=True )\n",
    "\n",
    "\n",
    "\n",
    "all_words\n"
   ]
  },
  {
   "cell_type": "code",
   "execution_count": 56,
   "metadata": {
    "scrolled": true
   },
   "outputs": [
    {
     "name": "stdout",
     "output_type": "stream",
     "text": [
      "../data/csv/BD_Palabras_v2-letras_03.csv\n",
      "Words in 3  392\n",
      "../data/csv/BD_Palabras_v2-letras_04.csv\n",
      "Words in 4  1914\n",
      "../data/csv/BD_Palabras_v2-letras_05.csv\n",
      "Words in 5  5126\n",
      "../data/csv/BD_Palabras_v2-letras_06.csv\n",
      "Words in 6  9505\n",
      "../data/csv/BD_Palabras_v2-letras_07.csv\n",
      "Words in 7  13618\n",
      "../data/csv/BD_Palabras_v2-letras_08.csv\n",
      "Words in 8  15792\n",
      "../data/csv/BD_Palabras_v2-letras_09.csv\n",
      "Words in 9  15428\n",
      "../data/csv/BD_Palabras_v2-letras_10.csv\n",
      "Words in 10  12635\n",
      "../data/csv/BD_Palabras_v2-letras_11.csv\n",
      "Words in 11  8861\n",
      "../data/csv/BD_Palabras_v2-letras_12.csv\n",
      "Words in 12  5528\n",
      "../data/csv/BD_Palabras_v2-letras_13.csv\n",
      "Words in 13  3312\n",
      "../data/csv/BD_Palabras_v2-letras_14.csv\n",
      "Words in 14  1798\n",
      "../data/csv/BD_Palabras_v2-letras_15.csv\n",
      "Words in 15  1010\n",
      "../data/csv/BD_Palabras_v2-letras_16.csv\n",
      "Words in 16  464\n"
     ]
    },
    {
     "data": {
      "text/html": [
       "<div>\n",
       "<style scoped>\n",
       "    .dataframe tbody tr th:only-of-type {\n",
       "        vertical-align: middle;\n",
       "    }\n",
       "\n",
       "    .dataframe tbody tr th {\n",
       "        vertical-align: top;\n",
       "    }\n",
       "\n",
       "    .dataframe thead th {\n",
       "        text-align: right;\n",
       "    }\n",
       "</style>\n",
       "<table border=\"1\" class=\"dataframe\">\n",
       "  <thead>\n",
       "    <tr style=\"text-align: right;\">\n",
       "      <th></th>\n",
       "      <th>PALABRA</th>\n",
       "      <th>FRECUENC</th>\n",
       "    </tr>\n",
       "  </thead>\n",
       "  <tbody>\n",
       "    <tr>\n",
       "      <th>0</th>\n",
       "      <td>aba</td>\n",
       "      <td>0</td>\n",
       "    </tr>\n",
       "    <tr>\n",
       "      <th>1</th>\n",
       "      <td>aca</td>\n",
       "      <td>0</td>\n",
       "    </tr>\n",
       "    <tr>\n",
       "      <th>2</th>\n",
       "      <td>acá</td>\n",
       "      <td>46</td>\n",
       "    </tr>\n",
       "    <tr>\n",
       "      <th>3</th>\n",
       "      <td>adó</td>\n",
       "      <td>0</td>\n",
       "    </tr>\n",
       "    <tr>\n",
       "      <th>4</th>\n",
       "      <td>afé</td>\n",
       "      <td>0</td>\n",
       "    </tr>\n",
       "    <tr>\n",
       "      <th>...</th>\n",
       "      <td>...</td>\n",
       "      <td>...</td>\n",
       "    </tr>\n",
       "    <tr>\n",
       "      <th>95378</th>\n",
       "      <td>ultramicroscopio</td>\n",
       "      <td>0</td>\n",
       "    </tr>\n",
       "    <tr>\n",
       "      <th>95379</th>\n",
       "      <td>ventriculografía</td>\n",
       "      <td>0</td>\n",
       "    </tr>\n",
       "    <tr>\n",
       "      <th>95380</th>\n",
       "      <td>vertiginosamente</td>\n",
       "      <td>2</td>\n",
       "    </tr>\n",
       "    <tr>\n",
       "      <th>95381</th>\n",
       "      <td>vicealmirantazgo</td>\n",
       "      <td>0</td>\n",
       "    </tr>\n",
       "    <tr>\n",
       "      <th>95382</th>\n",
       "      <td>vituperiosamente</td>\n",
       "      <td>0</td>\n",
       "    </tr>\n",
       "  </tbody>\n",
       "</table>\n",
       "<p>95383 rows × 2 columns</p>\n",
       "</div>"
      ],
      "text/plain": [
       "                PALABRA FRECUENC\n",
       "0                   aba        0\n",
       "1                   aca        0\n",
       "2                   acá       46\n",
       "3                   adó        0\n",
       "4                   afé        0\n",
       "...                 ...      ...\n",
       "95378  ultramicroscopio        0\n",
       "95379  ventriculografía        0\n",
       "95380  vertiginosamente        2\n",
       "95381  vicealmirantazgo        0\n",
       "95382  vituperiosamente        0\n",
       "\n",
       "[95383 rows x 2 columns]"
      ]
     },
     "execution_count": 56,
     "metadata": {},
     "output_type": "execute_result"
    }
   ],
   "source": [
    "## TMP; Debug Obtain the full database with Nans, using csv\n",
    "## SLOW Run carefully.\n",
    "\n",
    "#load the sheets for 5 and 6 letters words as Pandas DataFrames\n",
    "csv_words = pd.DataFrame(columns=[\"PALABRA\",\"FRECUENC\"])\n",
    "import numpy as np\n",
    "filen_tmpl = r'../data/csv/BD_Palabras_v2-letras_{0:02d}.csv'\n",
    "\n",
    "for i in range(3,17): # range from 3 to 9, inclusive\n",
    "    # For each CSV file on the folder, read it into sheety\n",
    "    filename = filen_tmpl.format(i)\n",
    "    print(filename)\n",
    "    sheety = pd.read_csv (filename, verbose=False, dtype={\"PALABRA\":\"str\",\"FRECUENC\":np.int32}, engine=\"python\")\n",
    "    print(f\"Words in {i} \", len(sheety))\n",
    "    csv_words = csv_words.append(pd.DataFrame(sheety, columns=[\"PALABRA\",\"FRECUENC\"]), ignore_index=True )\n",
    "\n",
    "\n",
    "\n",
    "csv_words\n"
   ]
  },
  {
   "cell_type": "code",
   "execution_count": 39,
   "metadata": {},
   "outputs": [
    {
     "data": {
      "text/html": [
       "<div>\n",
       "<style scoped>\n",
       "    .dataframe tbody tr th:only-of-type {\n",
       "        vertical-align: middle;\n",
       "    }\n",
       "\n",
       "    .dataframe tbody tr th {\n",
       "        vertical-align: top;\n",
       "    }\n",
       "\n",
       "    .dataframe thead th {\n",
       "        text-align: right;\n",
       "    }\n",
       "</style>\n",
       "<table border=\"1\" class=\"dataframe\">\n",
       "  <thead>\n",
       "    <tr style=\"text-align: right;\">\n",
       "      <th></th>\n",
       "      <th>PALABRA</th>\n",
       "      <th>FRECUENC</th>\n",
       "    </tr>\n",
       "  </thead>\n",
       "  <tbody>\n",
       "  </tbody>\n",
       "</table>\n",
       "</div>"
      ],
      "text/plain": [
       "Empty DataFrame\n",
       "Columns: [PALABRA, FRECUENC]\n",
       "Index: []"
      ]
     },
     "execution_count": 39,
     "metadata": {},
     "output_type": "execute_result"
    }
   ],
   "source": [
    "palabras = csv_words[\"PALABRA\"]\n",
    "perdidas = all_words.query(\"PALABRA not in @palabras\")\n",
    "\n",
    "savefile = r'../data/BD_Palabras_Perdidas.csv'\n",
    "perdidas.to_csv(savefile,sep=\",\",columns=[\"PALABRA\",\"FRECUENC\"], encoding=\"utf-8\",float_format=\"0\")\n",
    "\n",
    "perdidas"
   ]
  },
  {
   "cell_type": "code",
   "execution_count": 57,
   "metadata": {},
   "outputs": [],
   "source": [
    "# TMP \n",
    "# Saving to a csv to see differences\n",
    "csv_words.to_csv(\"all_csv.csv\",sep=\",\",columns=[\"PALABRA\",\"FRECUENC\"], encoding=\"utf-8\",float_format='%.0f')\n",
    "all_words.to_csv(\"all_xls.csv\",sep=\",\",columns=[\"PALABRA\",\"FRECUENC\"], encoding=\"utf-8\",float_format='%.0f')"
   ]
  },
  {
   "cell_type": "code",
   "execution_count": 8,
   "metadata": {},
   "outputs": [],
   "source": [
    "## Count the word into the stats D\n",
    "## WARNING: Modifies state (word count)\n",
    "\n",
    "def is_vowel(letter):\n",
    "    \"\"\" returt if it's a vowel \"\"\"\n",
    "    return unidecode.unidecode(letter) in \"aeiou\"\n",
    "\n",
    "def no_accent(letter):\n",
    "    \"\"\" turn a letter into the no accent equivalent\"\"\"\n",
    "    return unidecode.unidecode(letter) \n",
    "\n",
    "assert is_vowel(\"a\") == True\n",
    "assert is_vowel(\"á\") == True\n",
    "assert is_vowel(\"v\") == False\n",
    "\n",
    "\n",
    "assert no_accent(\"a\") == \"a\"\n",
    "assert no_accent(\"á\") == \"a\"\n",
    "assert no_accent(\"v\") == \"v\"\n",
    "    \n",
    "def count_word(word, letter_frequency = letter_frequency, accent_dif = accent_dif):\n",
    "    \"\"\"\n",
    "    Given a word, update the global stats dictionary.\n",
    "    It considers if you want to distinguish accents or not.\n",
    "    \"\"\"\n",
    "    global word_sum\n",
    "    # don't count not numbers\n",
    "    if type(word) == type(0.1):\n",
    "        print(word)\n",
    "        return None\n",
    "    # Count the word to the total of words\n",
    "    word_sum += 1\n",
    "    # We might need to exclude accents, but not the ñ\n",
    "    for letter in word:\n",
    "        if not accent_dif: # we must NOT distinguish accents\n",
    "            if is_vowel(letter):\n",
    "                letter_frequency[no_accent(letter)] += 1\n",
    "            else:\n",
    "                letter_frequency[letter] += 1\n",
    "        else:\n",
    "            letter_frequency[letter] += 1\n"
   ]
  },
  {
   "cell_type": "markdown",
   "metadata": {},
   "source": [
    "# NOTA Propia:\n",
    "\n",
    "una manera de debugear las palabras perdidas, es modificar il imported the pandas\n",
    "\n",
    "/opt/conda/pkgs/pandas-1.0.1-py37hb3f55d8_0/lib/python3.7/site-packages/pandas/io\n",
    "\n",
    "basado en [este enlace](https://github.com/pandas-dev/pandas/pull/1225/files)\n",
    "\n",
    "en parsers.py, linea 1004 o por ahi, en el error handler."
   ]
  },
  {
   "cell_type": "code",
   "execution_count": 20,
   "metadata": {},
   "outputs": [
    {
     "name": "stdout",
     "output_type": "stream",
     "text": [
      "alá\n",
      "0\n",
      "Stadisticas antes 95383\n",
      "Stadisticas antes defaultdict(<function <lambda> at 0x7fbdf2b5d950>, {'a': 130353, 'b': 15241, 'c': 46648, 'd': 34490, 'o': 78651, 'f': 9330, 'e': 79179, 'g': 14703, 'h': 8224, 'i': 70377, 'j': 5190, 'l': 39449, 'm': 25658, 'n': 50682, 'ñ': 2253, 'p': 19532, 'r': 77056, 's': 34923, 't': 43949, 'u': 26367, 'v': 8209, 'x': 1402, 'y': 1252, 'z': 6454, 'k': 89, 'q': 3280, 'w': 24})\n",
      "Stadisticas despues 95384\n",
      "Stadisticas despues defaultdict(<function <lambda> at 0x7fbdf2b5d950>, {'a': 130355, 'b': 15241, 'c': 46648, 'd': 34490, 'o': 78651, 'f': 9330, 'e': 79179, 'g': 14703, 'h': 8224, 'i': 70377, 'j': 5190, 'l': 39450, 'm': 25658, 'n': 50682, 'ñ': 2253, 'p': 19532, 'r': 77056, 's': 34923, 't': 43949, 'u': 26367, 'v': 8209, 'x': 1402, 'y': 1252, 'z': 6454, 'k': 89, 'q': 3280, 'w': 24})\n"
     ]
    }
   ],
   "source": [
    "# DEBUG : Running it in one word (WARNING: State change)\n",
    "\n",
    "p = all_words.PALABRA[15]\n",
    "f = all_words.FRECUENC[15]\n",
    "\n",
    "print(p)\n",
    "print(f)\n",
    "\n",
    "print(\"Stadisticas antes\", word_sum )\n",
    "print(\"Stadisticas antes\", letter_frequency )\n",
    "count_word(p)\n",
    "print(\"Stadisticas despues\", word_sum )\n",
    "print(\"Stadisticas despues\", letter_frequency )"
   ]
  },
  {
   "cell_type": "code",
   "execution_count": null,
   "metadata": {},
   "outputs": [],
   "source": [
    "csv."
   ]
  },
  {
   "cell_type": "code",
   "execution_count": 9,
   "metadata": {
    "scrolled": true
   },
   "outputs": [
    {
     "data": {
      "text/plain": [
       "defaultdict(<function __main__.<lambda>()>,\n",
       "            {'a': 130353,\n",
       "             'b': 15241,\n",
       "             'c': 46648,\n",
       "             'd': 34490,\n",
       "             'o': 78651,\n",
       "             'f': 9330,\n",
       "             'e': 79179,\n",
       "             'g': 14703,\n",
       "             'h': 8224,\n",
       "             'i': 70377,\n",
       "             'j': 5190,\n",
       "             'l': 39449,\n",
       "             'm': 25658,\n",
       "             'n': 50682,\n",
       "             'ñ': 2253,\n",
       "             'p': 19532,\n",
       "             'r': 77056,\n",
       "             's': 34923,\n",
       "             't': 43949,\n",
       "             'u': 26367,\n",
       "             'v': 8209,\n",
       "             'x': 1402,\n",
       "             'y': 1252,\n",
       "             'z': 6454,\n",
       "             'k': 89,\n",
       "             'q': 3280,\n",
       "             'w': 24})"
      ]
     },
     "execution_count": 9,
     "metadata": {},
     "output_type": "execute_result"
    }
   ],
   "source": [
    "# Running it on all the words\n",
    "## Building the Freq Table. Run Once.\n",
    "\n",
    "def build_letter_freq_table():\n",
    "    \"\"\"\n",
    "    Build the table with the total stats of letter frequency\n",
    "    \"\"\"\n",
    "    for idx, word in enumerate(all_words.PALABRA):\n",
    "        # make each letter into the stats dir.\n",
    "        try:\n",
    "            count_word(word)\n",
    "        except TypeError as e:\n",
    "            print(e)\n",
    "            print(word)\n",
    "            print(type(word))\n",
    "            print(\"WTF\")\n",
    "    return None\n",
    "\n",
    "build_letter_freq_table()\n",
    "\n",
    "\n",
    "#            {'a': 912471,\n",
    "#             'b': 106687,\n",
    "#             'c': 326536,\n",
    "#             'd': 241430,\n",
    "#             'o': 550557,\n",
    "#             'f': 65310,\n",
    "#             'e': 554253,\n",
    "#             'g': 102921,\n",
    "#             'h': 57568,\n",
    "#             'i': 492639,\n",
    "#             'j': 36330,\n",
    "#             'l': 276143,\n",
    "#             'm': 179606,\n",
    "#             'n': 354774,\n",
    "#             'ñ': 15771,\n",
    "#             'p': 136724,\n",
    "#             'r': 539392,\n",
    "#             's': 244461,\n",
    "#             't': 307643,\n",
    "#             'u': 184569,\n",
    "#             'v': 57463,\n",
    "#             'x': 9814,\n",
    "#             'y': 8764,\n",
    "#             'z': 45178,\n",
    "#             'k': 623,\n",
    "#             'q': 22960,\n",
    "#             'w': 168}\n",
    "\n",
    "letter_frequency\n",
    "\n"
   ]
  },
  {
   "cell_type": "code",
   "execution_count": 10,
   "metadata": {},
   "outputs": [
    {
     "data": {
      "application/javascript": [
       "$(document).ready(\n",
       "    function() {\n",
       "        function appendUniqueDiv(){\n",
       "            // append a div with our uuid so we can check that it's already\n",
       "            // been sent and avoid duplicates on page reload\n",
       "            var notifiedDiv = document.createElement(\"div\")\n",
       "            notifiedDiv.id = \"30732c30-9ac4-4326-be3f-7db4907263e7\"\n",
       "            element.append(notifiedDiv)\n",
       "        }\n",
       "\n",
       "        // only send notifications if the pageload is complete; this will\n",
       "        // help stop extra notifications when a saved notebook is loaded,\n",
       "        // which during testing gives us state \"interactive\", not \"complete\"\n",
       "        if (document.readyState === 'complete') {\n",
       "            // check for the div that signifies that the notification\n",
       "            // was already sent\n",
       "            if (document.getElementById(\"30732c30-9ac4-4326-be3f-7db4907263e7\") === null) {\n",
       "                var notificationPayload = {\"requireInteraction\": false, \"icon\": \"/static/base/images/favicon.ico\", \"body\": \"freq table built\"};\n",
       "                if (Notification.permission !== 'denied') {\n",
       "                    if (Notification.permission !== 'granted') { \n",
       "                        Notification.requestPermission(function (permission) {\n",
       "                            if(!('permission' in Notification)) {\n",
       "                                Notification.permission = permission\n",
       "                            }\n",
       "                        })\n",
       "                    }\n",
       "                    if (Notification.permission === 'granted') {\n",
       "                    var notification = new Notification(\"Jupyter Notebook\", notificationPayload)\n",
       "                    appendUniqueDiv()\n",
       "                    notification.onclick = function () {\n",
       "                        window.focus();\n",
       "                        this.close();\n",
       "                        };\n",
       "                    } \n",
       "                }     \n",
       "            }\n",
       "        }\n",
       "    }\n",
       ")\n"
      ],
      "text/plain": [
       "<IPython.core.display.Javascript object>"
      ]
     },
     "metadata": {},
     "output_type": "display_data"
    }
   ],
   "source": [
    "%notify -m \"freq table built\""
   ]
  },
  {
   "cell_type": "code",
   "execution_count": 11,
   "metadata": {},
   "outputs": [
    {
     "name": "stdout",
     "output_type": "stream",
     "text": [
      "avo\n",
      "95383\n"
     ]
    }
   ],
   "source": [
    "print(all_words.PALABRA[37])\n",
    "print(len(all_words.PALABRA))"
   ]
  },
  {
   "cell_type": "code",
   "execution_count": 12,
   "metadata": {},
   "outputs": [
    {
     "name": "stdout",
     "output_type": "stream",
     "text": [
      "letter_frequency defaultdict(<function <lambda> at 0x7fe42e9aa950>, {'a': 130353, 'b': 15241, 'c': 46648, 'd': 34490, 'o': 78651, 'f': 9330, 'e': 79179, 'g': 14703, 'h': 8224, 'i': 70377, 'j': 5190, 'l': 39449, 'm': 25658, 'n': 50682, 'ñ': 2253, 'p': 19532, 'r': 77056, 's': 34923, 't': 43949, 'u': 26367, 'v': 8209, 'x': 1402, 'y': 1252, 'z': 6454, 'k': 89, 'q': 3280, 'w': 24})\n",
      "word_sum 95383\n"
     ]
    },
    {
     "data": {
      "application/javascript": [
       "$(document).ready(\n",
       "    function() {\n",
       "        function appendUniqueDiv(){\n",
       "            // append a div with our uuid so we can check that it's already\n",
       "            // been sent and avoid duplicates on page reload\n",
       "            var notifiedDiv = document.createElement(\"div\")\n",
       "            notifiedDiv.id = \"b0090e65-a28c-42a9-8371-a80149b4858d\"\n",
       "            element.append(notifiedDiv)\n",
       "        }\n",
       "\n",
       "        // only send notifications if the pageload is complete; this will\n",
       "        // help stop extra notifications when a saved notebook is loaded,\n",
       "        // which during testing gives us state \"interactive\", not \"complete\"\n",
       "        if (document.readyState === 'complete') {\n",
       "            // check for the div that signifies that the notification\n",
       "            // was already sent\n",
       "            if (document.getElementById(\"b0090e65-a28c-42a9-8371-a80149b4858d\") === null) {\n",
       "                var notificationPayload = {\"requireInteraction\": false, \"icon\": \"/static/base/images/favicon.ico\", \"body\": \"Cell execution has finished!\"};\n",
       "                if (Notification.permission !== 'denied') {\n",
       "                    if (Notification.permission !== 'granted') { \n",
       "                        Notification.requestPermission(function (permission) {\n",
       "                            if(!('permission' in Notification)) {\n",
       "                                Notification.permission = permission\n",
       "                            }\n",
       "                        })\n",
       "                    }\n",
       "                    if (Notification.permission === 'granted') {\n",
       "                    var notification = new Notification(\"Jupyter Notebook\", notificationPayload)\n",
       "                    appendUniqueDiv()\n",
       "                    notification.onclick = function () {\n",
       "                        window.focus();\n",
       "                        this.close();\n",
       "                        };\n",
       "                    } \n",
       "                }     \n",
       "            }\n",
       "        }\n",
       "    }\n",
       ")\n"
      ],
      "text/plain": [
       "<IPython.core.display.Javascript object>"
      ]
     },
     "metadata": {},
     "output_type": "display_data"
    }
   ],
   "source": [
    "%%notify \n",
    "# RUN: Check stats\n",
    "print(\"letter_frequency\",letter_frequency)\n",
    "print(\"word_sum\",word_sum)\n"
   ]
  },
  {
   "cell_type": "code",
   "execution_count": null,
   "metadata": {},
   "outputs": [],
   "source": [
    "%notify "
   ]
  },
  {
   "cell_type": "markdown",
   "metadata": {},
   "source": [
    "### Calculate the Percentage of frequency for each letter\n",
    "\n",
    "With the table of frequencies, we calculate the percentage of frequency of each letter.\n"
   ]
  },
  {
   "cell_type": "code",
   "execution_count": 13,
   "metadata": {},
   "outputs": [
    {
     "name": "stdout",
     "output_type": "stream",
     "text": [
      "The sum of all the letters counted is: 832965\n",
      "The frequency percentage of each letter is:  defaultdict(<function <lambda> at 0x7fe42e9c5b00>, {'a': 15.649276980425348, 'b': 1.8297287401031255, 'c': 5.60023530400437, 'd': 4.140630158530071, 'o': 9.442293493724225, 'f': 1.1200950820262556, 'e': 9.505681511227962, 'g': 1.7651401919648484, 'h': 0.9873163938460799, 'i': 8.448974446705444, 'j': 0.6230753993265024, 'l': 4.735973300198688, 'm': 3.08032150210393, 'n': 6.084529361977994, 'ñ': 0.2704795519619672, 'p': 2.34487643538444, 'r': 9.250808857515022, 's': 4.192613135005672, 't': 5.276212085741898, 'u': 3.165439124092849, 'v': 0.9855155978942692, 'x': 0.16831439496257344, 'y': 0.15030643544446645, 'z': 0.7748224715324173, 'k': 0.010684722647410156, 'q': 0.39377404812927314, 'w': 0.0028812735228971207})\n",
      "100  should be  100\n"
     ]
    }
   ],
   "source": [
    "## \n",
    "# tenemos la tabla de frec. Necesitamos phi. Hay que calcular, el phi de una palabla.\n",
    "# para el phi, necesitamos, el % de frequencias\n",
    "\n",
    "#suma todas las frec de todas las letras\n",
    "tot_letters = 0 # all the counted letters\n",
    "for k,v in letter_frequency.items():\n",
    "    tot_letters += v\n",
    "    \n",
    "print(\"The sum of all the letters counted is:\",tot_letters)\n",
    "\n",
    "# Calculate the percentage of each letter's frequency\n",
    "\n",
    "# letter_freq_percent = defaultdict(lambda:0) #reset it for testing\n",
    "for letter,freq in letter_frequency.items():\n",
    "    letter_freq_percent[letter] = (letter_frequency[letter] * 100 ) / tot_letters\n",
    "    \n",
    "print(\"The frequency percentage of each letter is: \",letter_freq_percent)\n",
    "\n",
    "# Validate that the percentile is correct\n",
    "check = 0\n",
    "for l,f in letter_freq_percent.items():\n",
    "    check+=f\n",
    "print(round(check), \" should be \", 100)\n",
    "    "
   ]
  },
  {
   "cell_type": "markdown",
   "metadata": {},
   "source": [
    "### Calculate  Phi\n",
    "\n",
    "take the frequency of each letter in a word, and add it up, to calculate the total \"Phi\" score.\n"
   ]
  },
  {
   "cell_type": "code",
   "execution_count": 14,
   "metadata": {},
   "outputs": [
    {
     "name": "stdout",
     "output_type": "stream",
     "text": [
      "23.9063 23.9063\n",
      "41.0914 41.0914\n"
     ]
    }
   ],
   "source": [
    "\n",
    "def calculate_phi(word):\n",
    "    \"\"\" Calculate Phi\n",
    "    Sum the frequency of each letter of the word\"\"\"\n",
    "    phi = 0\n",
    "    for letter in word:\n",
    "        phi += letter_freq_percent[letter]\n",
    "    return phi\n",
    "\n",
    "assert round(calculate_phi(\"aa\"),4) == round(31.2986,4)\n",
    "assert calculate_phi(\"\") == 0 \n",
    "print( round(calculate_phi(\"busto\"),4), round(23.9063,4 ))\n",
    "print( round(calculate_phi(\"casa\"),4), round(41.0914,4 ))\n"
   ]
  },
  {
   "cell_type": "markdown",
   "metadata": {},
   "source": [
    "### Calculate Rho\n",
    "\n",
    "Sum the total of strokes required for a word, adding up the strokes of each letter in it."
   ]
  },
  {
   "cell_type": "code",
   "execution_count": 15,
   "metadata": {},
   "outputs": [],
   "source": [
    "# Stats of strokes per letter.\n",
    "rasgos = {\n",
    "        \"a\": 3,        \"b\": 4,        \"c\": 2,        \"d\": 3,        \"e\": 3,        \"f\": 4,\n",
    "        \"g\": 4,        \"h\": 4,        \"i\": 3,        \"j\": 3,        \"k\": 5,        \"l\": 2,\n",
    "        \"m\": 6,        \"n\": 4,        \"o\": 3,        \"p\": 4,        \"q\": 3,        \"r\": 3,\n",
    "        \"s\": 3,        \"t\": 4,        \"u\": 4,        \"v\": 4,        \"w\": 6,        \"x\": 4,\n",
    "        \"y\": 5,        \"z\": 5,        \"ñ\": 5\n",
    "}"
   ]
  },
  {
   "cell_type": "code",
   "execution_count": 16,
   "metadata": {},
   "outputs": [],
   "source": [
    "## Trying to calculate Stroke sum RHO\n",
    "## Sum of all the strokes of each letter in a word\n",
    "\n",
    "def get_rho(letter):\n",
    "    if len(letter) > 1:\n",
    "        print(\"ERROR: \", letter)\n",
    "        raise Exception(\"Word instead of letter\")\n",
    "    return rasgos[letter]\n",
    "\n",
    "def calculate_rho(word=None):\n",
    "    \"\"\" Calculate the Rho value of a word.\n",
    "    Rho is the sum of the strokes of the each letter in a word.\n",
    "    \"\"\"\n",
    "    if word is None:\n",
    "        return 0\n",
    "    rho = 0\n",
    "    for letter in word:\n",
    "        if not accent_dif: # we must NOT distinguish accents\n",
    "            if is_vowel(letter):\n",
    "                rho += get_rho(no_accent(letter))\n",
    "            else:\n",
    "                rho += get_rho(letter)\n",
    "        else:\n",
    "            rho += get_rho(letter)\n",
    "    return rho\n",
    "\n",
    "assert calculate_rho(\"aa\") == 6\n",
    "assert calculate_rho(\"\")==0\n",
    "assert calculate_rho(\"peluca\")== 18\n",
    "assert calculate_rho(\"pelúca\")== 18\n",
    "assert calculate_rho()==0"
   ]
  },
  {
   "cell_type": "markdown",
   "metadata": {},
   "source": [
    "## Adding the data together\n",
    "\n",
    "Now that we can calculate Phi (total frecuency of letters) and Rho (total strokes to write the word),\n",
    "we can compute a big table to hold all the data together, and make creating experiments easier.\n",
    "\n"
   ]
  },
  {
   "cell_type": "code",
   "execution_count": 17,
   "metadata": {},
   "outputs": [
    {
     "name": "stdout",
     "output_type": "stream",
     "text": [
      "<class 'pandas.core.frame.DataFrame'>\n",
      "<class 'pandas.core.frame.DataFrame'>\n",
      "<class 'pandas.core.frame.DataFrame'>\n"
     ]
    },
    {
     "data": {
      "text/html": [
       "<div>\n",
       "<style scoped>\n",
       "    .dataframe tbody tr th:only-of-type {\n",
       "        vertical-align: middle;\n",
       "    }\n",
       "\n",
       "    .dataframe tbody tr th {\n",
       "        vertical-align: top;\n",
       "    }\n",
       "\n",
       "    .dataframe thead th {\n",
       "        text-align: right;\n",
       "    }\n",
       "</style>\n",
       "<table border=\"1\" class=\"dataframe\">\n",
       "  <thead>\n",
       "    <tr style=\"text-align: right;\">\n",
       "      <th></th>\n",
       "      <th>PALABRA</th>\n",
       "      <th>FRECUENC</th>\n",
       "      <th>RHO</th>\n",
       "      <th>PHI</th>\n",
       "      <th>LENGTH</th>\n",
       "    </tr>\n",
       "  </thead>\n",
       "  <tbody>\n",
       "    <tr>\n",
       "      <th>0</th>\n",
       "      <td>aba</td>\n",
       "      <td>0</td>\n",
       "      <td>10</td>\n",
       "      <td>33.128283</td>\n",
       "      <td>3</td>\n",
       "    </tr>\n",
       "    <tr>\n",
       "      <th>1</th>\n",
       "      <td>aca</td>\n",
       "      <td>0</td>\n",
       "      <td>8</td>\n",
       "      <td>36.898789</td>\n",
       "      <td>3</td>\n",
       "    </tr>\n",
       "    <tr>\n",
       "      <th>2</th>\n",
       "      <td>acá</td>\n",
       "      <td>46</td>\n",
       "      <td>8</td>\n",
       "      <td>21.249512</td>\n",
       "      <td>3</td>\n",
       "    </tr>\n",
       "    <tr>\n",
       "      <th>3</th>\n",
       "      <td>adó</td>\n",
       "      <td>0</td>\n",
       "      <td>9</td>\n",
       "      <td>19.789907</td>\n",
       "      <td>3</td>\n",
       "    </tr>\n",
       "    <tr>\n",
       "      <th>4</th>\n",
       "      <td>afé</td>\n",
       "      <td>0</td>\n",
       "      <td>10</td>\n",
       "      <td>16.769372</td>\n",
       "      <td>3</td>\n",
       "    </tr>\n",
       "    <tr>\n",
       "      <th>...</th>\n",
       "      <td>...</td>\n",
       "      <td>...</td>\n",
       "      <td>...</td>\n",
       "      <td>...</td>\n",
       "      <td>...</td>\n",
       "    </tr>\n",
       "    <tr>\n",
       "      <th>95378</th>\n",
       "      <td>ultramicroscopio</td>\n",
       "      <td>0</td>\n",
       "      <td>51</td>\n",
       "      <td>113.371630</td>\n",
       "      <td>16</td>\n",
       "    </tr>\n",
       "    <tr>\n",
       "      <th>95379</th>\n",
       "      <td>ventriculografía</td>\n",
       "      <td>0</td>\n",
       "      <td>52</td>\n",
       "      <td>105.930261</td>\n",
       "      <td>16</td>\n",
       "    </tr>\n",
       "    <tr>\n",
       "      <th>95380</th>\n",
       "      <td>vertiginosamente</td>\n",
       "      <td>2</td>\n",
       "      <td>57</td>\n",
       "      <td>112.502446</td>\n",
       "      <td>16</td>\n",
       "    </tr>\n",
       "    <tr>\n",
       "      <th>95381</th>\n",
       "      <td>vicealmirantazgo</td>\n",
       "      <td>0</td>\n",
       "      <td>55</td>\n",
       "      <td>120.347314</td>\n",
       "      <td>16</td>\n",
       "    </tr>\n",
       "    <tr>\n",
       "      <th>95382</th>\n",
       "      <td>vituperiosamente</td>\n",
       "      <td>0</td>\n",
       "      <td>57</td>\n",
       "      <td>110.163092</td>\n",
       "      <td>16</td>\n",
       "    </tr>\n",
       "  </tbody>\n",
       "</table>\n",
       "<p>95383 rows × 5 columns</p>\n",
       "</div>"
      ],
      "text/plain": [
       "                PALABRA FRECUENC  RHO         PHI  LENGTH\n",
       "0                   aba        0   10   33.128283       3\n",
       "1                   aca        0    8   36.898789       3\n",
       "2                   acá       46    8   21.249512       3\n",
       "3                   adó        0    9   19.789907       3\n",
       "4                   afé        0   10   16.769372       3\n",
       "...                 ...      ...  ...         ...     ...\n",
       "95378  ultramicroscopio        0   51  113.371630      16\n",
       "95379  ventriculografía        0   52  105.930261      16\n",
       "95380  vertiginosamente        2   57  112.502446      16\n",
       "95381  vicealmirantazgo        0   55  120.347314      16\n",
       "95382  vituperiosamente        0   57  110.163092      16\n",
       "\n",
       "[95383 rows x 5 columns]"
      ]
     },
     "execution_count": 17,
     "metadata": {},
     "output_type": "execute_result"
    }
   ],
   "source": [
    "## Create DATA\n",
    "## Creating a new column with the Rho of each word\n",
    "print(type(all_words))\n",
    "\n",
    "def compute_rho(df):\n",
    "    return [calculate_rho(x) for x in df.PALABRA]\n",
    "\n",
    "data = all_words.assign(RHO=lambda x: compute_rho(x))\n",
    "\n",
    "## Creating a new column with the Phi of each word\n",
    "print(type(all_words))\n",
    "\n",
    "def compute_phi(df):\n",
    "    return [calculate_phi(x) for x in df.PALABRA]\n",
    "\n",
    "data = data.assign(PHI=lambda x: compute_phi(x))\n",
    "\n",
    "## Creating a new column with the length\n",
    "print(type(all_words))\n",
    "\n",
    "def compute_len(df):\n",
    "    return [len(x) for x in df.PALABRA]\n",
    "\n",
    "data = data.assign(LENGTH=lambda x: compute_len(x))\n",
    "\n",
    "data"
   ]
  },
  {
   "cell_type": "code",
   "execution_count": 18,
   "metadata": {},
   "outputs": [
    {
     "data": {
      "text/plain": [
       "<matplotlib.axes._subplots.AxesSubplot at 0x7fe42abdad90>"
      ]
     },
     "execution_count": 18,
     "metadata": {},
     "output_type": "execute_result"
    },
    {
     "data": {
      "image/png": "[encoded data removed]",
      "text/plain": [
       "<Figure size 432x288 with 1 Axes>"
      ]
     },
     "metadata": {
      "needs_background": "light"
     },
     "output_type": "display_data"
    }
   ],
   "source": [
    "data.PHI.plot()\n"
   ]
  },
  {
   "cell_type": "code",
   "execution_count": 23,
   "metadata": {},
   "outputs": [
    {
     "data": {
      "text/plain": [
       "<matplotlib.axes._subplots.AxesSubplot at 0x7f6be225cef0>"
      ]
     },
     "execution_count": 23,
     "metadata": {},
     "output_type": "execute_result"
    },
    {
     "data": {
      "image/png": "[encoded data removed]",
      "text/plain": [
       "<Figure size 432x288 with 1 Axes>"
      ]
     },
     "metadata": {
      "needs_background": "light"
     },
     "output_type": "display_data"
    }
   ],
   "source": [
    "data.RHO.plot()"
   ]
  },
  {
   "cell_type": "code",
   "execution_count": 22,
   "metadata": {},
   "outputs": [
    {
     "data": {
      "text/plain": [
       "<matplotlib.axes._subplots.AxesSubplot at 0x7f6bec68e240>"
      ]
     },
     "execution_count": 22,
     "metadata": {},
     "output_type": "execute_result"
    },
    {
     "data": {
      "image/png": "[encoded data removed]",
      "text/plain": [
       "<Figure size 432x288 with 1 Axes>"
      ]
     },
     "metadata": {
      "needs_background": "light"
     },
     "output_type": "display_data"
    }
   ],
   "source": [
    "data.FRECUENC.plot()"
   ]
  },
  {
   "cell_type": "code",
   "execution_count": 129,
   "metadata": {},
   "outputs": [
    {
     "data": {
      "text/plain": [
       "<matplotlib.collections.PathCollection at 0x7f94aeb6b4d0>"
      ]
     },
     "execution_count": 129,
     "metadata": {},
     "output_type": "execute_result"
    },
    {
     "data": {
      "image/png": "[encoded data removed]",
      "text/plain": [
       "<Figure size 432x288 with 1 Axes>"
      ]
     },
     "metadata": {},
     "output_type": "display_data"
    }
   ],
   "source": [
    "plt.scatter(data.FRECUENC,data.PHI) # (x=Freq,y=phi)"
   ]
  },
  {
   "cell_type": "code",
   "execution_count": 128,
   "metadata": {
    "scrolled": true
   },
   "outputs": [
    {
     "data": {
      "text/plain": [
       "<matplotlib.collections.PathCollection at 0x7f94aec03b10>"
      ]
     },
     "execution_count": 128,
     "metadata": {},
     "output_type": "execute_result"
    },
    {
     "data": {
      "image/png": "[encoded data removed]",
      "text/plain": [
       "<Figure size 432x288 with 1 Axes>"
      ]
     },
     "metadata": {},
     "output_type": "display_data"
    }
   ],
   "source": [
    "# (x=length,y=phi)\n",
    "plt.scatter(data.LENGTH,data.PHI) "
   ]
  },
  {
   "cell_type": "code",
   "execution_count": 127,
   "metadata": {
    "scrolled": true
   },
   "outputs": [
    {
     "data": {
      "text/plain": [
       "(array([4.4100e+02, 4.7420e+03, 1.4795e+04, 2.5299e+04, 2.5647e+04,\n",
       "        1.5843e+04, 6.5680e+03, 1.8040e+03, 2.3100e+02, 1.3000e+01]),\n",
       " array([  3.46605199,  18.46958756,  33.47312312,  48.47665868,\n",
       "         63.48019425,  78.48372981,  93.48726537, 108.49080093,\n",
       "        123.4943365 , 138.49787206, 153.50140762]),\n",
       " <a list of 10 Patch objects>)"
      ]
     },
     "execution_count": 127,
     "metadata": {},
     "output_type": "execute_result"
    },
    {
     "data": {
      "image/png": "[encoded data removed]",
      "text/plain": [
       "<Figure size 432x288 with 1 Axes>"
      ]
     },
     "metadata": {},
     "output_type": "display_data"
    }
   ],
   "source": [
    "# (x=phi,y=length)\n",
    "plt.hist(data.PHI) "
   ]
  },
  {
   "cell_type": "code",
   "execution_count": 126,
   "metadata": {
    "scrolled": true
   },
   "outputs": [
    {
     "data": {
      "text/plain": [
       "(array([  986.,  6270., 20481., 23644., 20571., 14386.,  5288.,  2771.,\n",
       "          827.,   159.]),\n",
       " array([ 7. , 12.4, 17.8, 23.2, 28.6, 34. , 39.4, 44.8, 50.2, 55.6, 61. ]),\n",
       " <a list of 10 Patch objects>)"
      ]
     },
     "execution_count": 126,
     "metadata": {},
     "output_type": "execute_result"
    },
    {
     "data": {
      "image/png": "[encoded data removed]",
      "text/plain": [
       "<Figure size 432x288 with 1 Axes>"
      ]
     },
     "metadata": {},
     "output_type": "display_data"
    }
   ],
   "source": [
    "# (x=phi,y=length)\n",
    "plt.hist(data.RHO) "
   ]
  },
  {
   "cell_type": "markdown",
   "metadata": {},
   "source": [
    "## Building the exercise calculator\n",
    "\n",
    "Now that we have some basic stats, we can start creating filters, that will allow us to create diverse sets of exercises.\n",
    "\n",
    "Each of this parameters, will define how we want each group of words to be.\n"
   ]
  },
  {
   "cell_type": "code",
   "execution_count": 23,
   "metadata": {},
   "outputs": [],
   "source": [
    "\n",
    "high_phi = 100.0 # Higher than this will be consider High\n",
    "low_phi  = 30.0  # Lower that this.\n",
    "high_length = 6  # Longest words\n",
    "low_length = 5  # Shortest words\n",
    "high_rho = 35  # Longest words\n",
    "low_rho = 25  # Shortest words\n",
    "\n",
    "#freq = 1  # Word freqency needs to be more than this, \n",
    "high_freq = 50  # Word freqency needs to be more than this, to be \"common\"\n",
    "low_freq = 0  # Word freqency needs to be less than this, to be \"rare\""
   ]
  },
  {
   "cell_type": "code",
   "execution_count": 21,
   "metadata": {},
   "outputs": [],
   "source": [
    " \n",
    "def filter_length(value,low_length=low_length,high_length=high_length ):\n",
    "    \"\"\"Keep (True) all words shorter than high and longer that low. in between.\"\"\"\n",
    "    #return True\n",
    "    if value <= high_length and value >= low_length:\n",
    "        return True\n",
    "    else:\n",
    "        return False\n",
    "\n",
    "\n",
    "#example = data.loc[data['LENGTH'].apply(filter_length).fillna(False)]\n",
    "#example"
   ]
  },
  {
   "cell_type": "code",
   "execution_count": 24,
   "metadata": {},
   "outputs": [],
   "source": [
    "# Filter frequencies\n",
    "def filter_freq(value, lf = low_freq, hf = high_freq):\n",
    "    \"\"\"Keep (True) words more frequent that freq.\n",
    "    hf and lf = thresholds\"\"\"\n",
    "    #return True\n",
    "    if value >= lf and value <= hf:\n",
    "        return True\n",
    "    else:\n",
    "        return False\n",
    "\n",
    "\n",
    "#example = example.loc[example['FRECUENC'].apply(filter_length).fillna(False)]\n",
    "#example"
   ]
  },
  {
   "cell_type": "code",
   "execution_count": 25,
   "metadata": {
    "scrolled": true
   },
   "outputs": [],
   "source": [
    "def filter_phi(value, low_phi=low_phi, high_phi=high_phi):\n",
    "    \"\"\"Keep all the words within the threshold\"\"\"\n",
    "    if value < high_phi and value > low_phi:\n",
    "        return True\n",
    "    else:\n",
    "        return False\n",
    "\n",
    "#example_philtered = example.loc[example['PHI'].apply(filter_phi).fillna(False)]\n",
    "#example_philtered"
   ]
  },
  {
   "cell_type": "code",
   "execution_count": 26,
   "metadata": {
    "scrolled": true
   },
   "outputs": [],
   "source": [
    "def filter_rho(value, low_rho=low_rho, high_rho=high_rho):\n",
    "    \"\"\"Keep all the words within the threshold\"\"\"\n",
    "    if value < high_rho and value > low_rho:\n",
    "        return True\n",
    "    else:\n",
    "        return False\n",
    "\n",
    "#example_rhotered = example.loc[example['RHO'].apply(filter_rho).fillna(False)]\n",
    "#example_rhotered"
   ]
  },
  {
   "cell_type": "code",
   "execution_count": 27,
   "metadata": {
    "scrolled": true
   },
   "outputs": [
    {
     "name": "stdout",
     "output_type": "stream",
     "text": [
      "True False\n"
     ]
    }
   ],
   "source": [
    "def filter_chars(value):\n",
    "    \"\"\"Keep only words we can use:\n",
    "    - No ñ\n",
    "    - No vowels on 1st char\n",
    "    - No h on 1st char\n",
    "    \"\"\"\n",
    "    if \"ñ\" in value or \"h\" in value[:1] or is_vowel(value[:1]):\n",
    "        return False\n",
    "    else:\n",
    "        return True\n",
    "    \n",
    "def eq(v1, v2):\n",
    "    \"\"\"assert if equal or print result\"\"\"\n",
    "    try:\n",
    "        assert v1 == v2\n",
    "    except AssertionError as e:\n",
    "        print(v1,v2)\n",
    "\n",
    "eq(filter_chars(\"barranco\"), True)\n",
    "eq(filter_chars(\"abaco\"), False)\n",
    "eq(filter_chars(\"coñejo\"), False)\n",
    "eq(filter_chars(\"habanero\"), False)\n",
    "eq(filter_chars(\"chíejo\"), False)"
   ]
  },
  {
   "cell_type": "markdown",
   "metadata": {},
   "source": [
    "# Rules for creating groups of words \n",
    "\n",
    "\n",
    "Freq Column A == Freq Column B\n",
    "\n",
    "\n",
    "#### Column A\n",
    "\n",
    "Group A:\n",
    "\n",
    "    Phi < 1/3PhiMax \n",
    "    Rho < 1/3RhoMax\n",
    "\n",
    "\n",
    "Group B:\n",
    "\n",
    "    Phi < 1/3PhiMax \n",
    "    Rho > 2/3RhoMax\n",
    "\n",
    "\n",
    "\n",
    "\n",
    "#### Column B\n",
    "\n",
    "Group C:\n",
    "\n",
    "    Phi > 2/3PhiMax\n",
    "    Rho < 1/3RhoMax\n",
    "\n",
    "Group D:\n",
    "\n",
    "    Phi > 2/3PhiMax\n",
    "    Rho > 2/3RhoMax\n",
    "\n"
   ]
  },
  {
   "cell_type": "code",
   "execution_count": 29,
   "metadata": {},
   "outputs": [
    {
     "data": {
      "text/html": [
       "<div>\n",
       "<style scoped>\n",
       "    .dataframe tbody tr th:only-of-type {\n",
       "        vertical-align: middle;\n",
       "    }\n",
       "\n",
       "    .dataframe tbody tr th {\n",
       "        vertical-align: top;\n",
       "    }\n",
       "\n",
       "    .dataframe thead th {\n",
       "        text-align: right;\n",
       "    }\n",
       "</style>\n",
       "<table border=\"1\" class=\"dataframe\">\n",
       "  <thead>\n",
       "    <tr style=\"text-align: right;\">\n",
       "      <th></th>\n",
       "      <th>RHO</th>\n",
       "      <th>PHI</th>\n",
       "      <th>LENGTH</th>\n",
       "    </tr>\n",
       "  </thead>\n",
       "  <tbody>\n",
       "    <tr>\n",
       "      <th>count</th>\n",
       "      <td>3323.000000</td>\n",
       "      <td>3323.000000</td>\n",
       "      <td>3323.000000</td>\n",
       "    </tr>\n",
       "    <tr>\n",
       "      <th>mean</th>\n",
       "      <td>24.672585</td>\n",
       "      <td>55.039647</td>\n",
       "      <td>7.559133</td>\n",
       "    </tr>\n",
       "    <tr>\n",
       "      <th>std</th>\n",
       "      <td>7.790564</td>\n",
       "      <td>18.045137</td>\n",
       "      <td>2.299067</td>\n",
       "    </tr>\n",
       "    <tr>\n",
       "      <th>min</th>\n",
       "      <td>7.000000</td>\n",
       "      <td>12.259339</td>\n",
       "      <td>3.000000</td>\n",
       "    </tr>\n",
       "    <tr>\n",
       "      <th>25%</th>\n",
       "      <td>19.000000</td>\n",
       "      <td>41.750854</td>\n",
       "      <td>6.000000</td>\n",
       "    </tr>\n",
       "    <tr>\n",
       "      <th>50%</th>\n",
       "      <td>24.000000</td>\n",
       "      <td>53.648833</td>\n",
       "      <td>7.000000</td>\n",
       "    </tr>\n",
       "    <tr>\n",
       "      <th>75%</th>\n",
       "      <td>29.000000</td>\n",
       "      <td>66.620026</td>\n",
       "      <td>9.000000</td>\n",
       "    </tr>\n",
       "    <tr>\n",
       "      <th>max</th>\n",
       "      <td>60.000000</td>\n",
       "      <td>128.477907</td>\n",
       "      <td>16.000000</td>\n",
       "    </tr>\n",
       "  </tbody>\n",
       "</table>\n",
       "</div>"
      ],
      "text/plain": [
       "               RHO          PHI       LENGTH\n",
       "count  3323.000000  3323.000000  3323.000000\n",
       "mean     24.672585    55.039647     7.559133\n",
       "std       7.790564    18.045137     2.299067\n",
       "min       7.000000    12.259339     3.000000\n",
       "25%      19.000000    41.750854     6.000000\n",
       "50%      24.000000    53.648833     7.000000\n",
       "75%      29.000000    66.620026     9.000000\n",
       "max      60.000000   128.477907    16.000000"
      ]
     },
     "execution_count": 29,
     "metadata": {},
     "output_type": "execute_result"
    }
   ],
   "source": [
    "# This is how the full original database looks like.\n",
    "\n",
    "# All the words with more than 4000 points of frequency, are mostly nexus\n",
    "data = data.loc[data[\"FRECUENC\"].apply(lambda x: filter_freq(x,20,90))]\n",
    "data.describe()"
   ]
  },
  {
   "cell_type": "code",
   "execution_count": 30,
   "metadata": {},
   "outputs": [
    {
     "data": {
      "text/html": [
       "<div>\n",
       "<style scoped>\n",
       "    .dataframe tbody tr th:only-of-type {\n",
       "        vertical-align: middle;\n",
       "    }\n",
       "\n",
       "    .dataframe tbody tr th {\n",
       "        vertical-align: top;\n",
       "    }\n",
       "\n",
       "    .dataframe thead th {\n",
       "        text-align: right;\n",
       "    }\n",
       "</style>\n",
       "<table border=\"1\" class=\"dataframe\">\n",
       "  <thead>\n",
       "    <tr style=\"text-align: right;\">\n",
       "      <th></th>\n",
       "      <th>RHO</th>\n",
       "      <th>PHI</th>\n",
       "      <th>LENGTH</th>\n",
       "    </tr>\n",
       "  </thead>\n",
       "  <tbody>\n",
       "    <tr>\n",
       "      <th>count</th>\n",
       "      <td>731.000000</td>\n",
       "      <td>731.000000</td>\n",
       "      <td>731.000000</td>\n",
       "    </tr>\n",
       "    <tr>\n",
       "      <th>mean</th>\n",
       "      <td>18.042408</td>\n",
       "      <td>40.094188</td>\n",
       "      <td>5.532148</td>\n",
       "    </tr>\n",
       "    <tr>\n",
       "      <th>std</th>\n",
       "      <td>2.331348</td>\n",
       "      <td>8.231764</td>\n",
       "      <td>0.499307</td>\n",
       "    </tr>\n",
       "    <tr>\n",
       "      <th>min</th>\n",
       "      <td>12.000000</td>\n",
       "      <td>13.792776</td>\n",
       "      <td>5.000000</td>\n",
       "    </tr>\n",
       "    <tr>\n",
       "      <th>25%</th>\n",
       "      <td>16.000000</td>\n",
       "      <td>34.593470</td>\n",
       "      <td>5.000000</td>\n",
       "    </tr>\n",
       "    <tr>\n",
       "      <th>50%</th>\n",
       "      <td>18.000000</td>\n",
       "      <td>40.248150</td>\n",
       "      <td>6.000000</td>\n",
       "    </tr>\n",
       "    <tr>\n",
       "      <th>75%</th>\n",
       "      <td>20.000000</td>\n",
       "      <td>46.077026</td>\n",
       "      <td>6.000000</td>\n",
       "    </tr>\n",
       "    <tr>\n",
       "      <th>max</th>\n",
       "      <td>26.000000</td>\n",
       "      <td>62.684146</td>\n",
       "      <td>6.000000</td>\n",
       "    </tr>\n",
       "  </tbody>\n",
       "</table>\n",
       "</div>"
      ],
      "text/plain": [
       "              RHO         PHI      LENGTH\n",
       "count  731.000000  731.000000  731.000000\n",
       "mean    18.042408   40.094188    5.532148\n",
       "std      2.331348    8.231764    0.499307\n",
       "min     12.000000   13.792776    5.000000\n",
       "25%     16.000000   34.593470    5.000000\n",
       "50%     18.000000   40.248150    6.000000\n",
       "75%     20.000000   46.077026    6.000000\n",
       "max     26.000000   62.684146    6.000000"
      ]
     },
     "execution_count": 30,
     "metadata": {},
     "output_type": "execute_result"
    }
   ],
   "source": [
    "## TEMP. \n",
    "\n",
    "# taking a closer look at the data\n",
    "\n",
    "# Between 5 and 6 characters long\n",
    "min_l = 5\n",
    "max_l = 6\n",
    "words = data.loc[data[\"LENGTH\"].apply(lambda x: filter_length(x,min_l,max_l))]\n",
    "words = words.loc[words[\"PALABRA\"].apply(filter_chars)]\n",
    "words.describe()"
   ]
  },
  {
   "cell_type": "code",
   "execution_count": 31,
   "metadata": {},
   "outputs": [
    {
     "data": {
      "text/html": [
       "<div>\n",
       "<style scoped>\n",
       "    .dataframe tbody tr th:only-of-type {\n",
       "        vertical-align: middle;\n",
       "    }\n",
       "\n",
       "    .dataframe tbody tr th {\n",
       "        vertical-align: top;\n",
       "    }\n",
       "\n",
       "    .dataframe thead th {\n",
       "        text-align: right;\n",
       "    }\n",
       "</style>\n",
       "<table border=\"1\" class=\"dataframe\">\n",
       "  <thead>\n",
       "    <tr style=\"text-align: right;\">\n",
       "      <th></th>\n",
       "      <th>RHO</th>\n",
       "      <th>PHI</th>\n",
       "      <th>LENGTH</th>\n",
       "    </tr>\n",
       "  </thead>\n",
       "  <tbody>\n",
       "    <tr>\n",
       "      <th>count</th>\n",
       "      <td>59.000000</td>\n",
       "      <td>59.000000</td>\n",
       "      <td>59.000000</td>\n",
       "    </tr>\n",
       "    <tr>\n",
       "      <th>mean</th>\n",
       "      <td>16.677966</td>\n",
       "      <td>26.184338</td>\n",
       "      <td>5.135593</td>\n",
       "    </tr>\n",
       "    <tr>\n",
       "      <th>std</th>\n",
       "      <td>1.151321</td>\n",
       "      <td>3.746134</td>\n",
       "      <td>0.345295</td>\n",
       "    </tr>\n",
       "    <tr>\n",
       "      <th>min</th>\n",
       "      <td>13.000000</td>\n",
       "      <td>16.304647</td>\n",
       "      <td>5.000000</td>\n",
       "    </tr>\n",
       "    <tr>\n",
       "      <th>25%</th>\n",
       "      <td>16.000000</td>\n",
       "      <td>24.261884</td>\n",
       "      <td>5.000000</td>\n",
       "    </tr>\n",
       "    <tr>\n",
       "      <th>50%</th>\n",
       "      <td>17.000000</td>\n",
       "      <td>27.753387</td>\n",
       "      <td>5.000000</td>\n",
       "    </tr>\n",
       "    <tr>\n",
       "      <th>75%</th>\n",
       "      <td>18.000000</td>\n",
       "      <td>29.053141</td>\n",
       "      <td>5.000000</td>\n",
       "    </tr>\n",
       "    <tr>\n",
       "      <th>max</th>\n",
       "      <td>18.000000</td>\n",
       "      <td>30.027312</td>\n",
       "      <td>6.000000</td>\n",
       "    </tr>\n",
       "  </tbody>\n",
       "</table>\n",
       "</div>"
      ],
      "text/plain": [
       "             RHO        PHI     LENGTH\n",
       "count  59.000000  59.000000  59.000000\n",
       "mean   16.677966  26.184338   5.135593\n",
       "std     1.151321   3.746134   0.345295\n",
       "min    13.000000  16.304647   5.000000\n",
       "25%    16.000000  24.261884   5.000000\n",
       "50%    17.000000  27.753387   5.000000\n",
       "75%    18.000000  29.053141   5.000000\n",
       "max    18.000000  30.027312   6.000000"
      ]
     },
     "execution_count": 31,
     "metadata": {},
     "output_type": "execute_result"
    }
   ],
   "source": [
    "## Building the 1st group\n",
    "#  Using filter_length, filter_phi, filter_freq, \n",
    "\n",
    "def build_word_group_a(dataset):\n",
    "    \"\"\"\n",
    "    Build a word group given a set of parameters\n",
    "        Group A:\n",
    "        \n",
    "        Length >= 5 and Length <= 6\n",
    "        Phi < 1/3 PhiMax  ( < 30 )\n",
    "        Rho < 1/2 RhoMax\n",
    "\n",
    "    \"\"\"\n",
    "    # filter_length # Between 5 and 6 characters long\n",
    "    min_l = 5\n",
    "    max_l = 6\n",
    "    #print(len(dataset))\n",
    "    words = dataset.loc[dataset[\"LENGTH\"].apply(lambda x: filter_length(x,min_l,max_l))]\n",
    "    words = words.loc[words[\"PALABRA\"].apply(filter_chars)]\n",
    "    #print(len(words))\n",
    "    # filter_phi\n",
    "    lim_min_phi = words.PHI.min()\n",
    "    alcanze = words.PHI.max() - words.PHI.min()\n",
    "    lim_max_phi = (( alcanze / 3 ) * 1 ) + lim_min_phi # 1/3 of the difference between Phi Max and Phi Min\n",
    "    wordsaphi = words.loc[words[\"PHI\"].apply(lambda x: filter_phi(x,lim_min_phi,lim_max_phi) )]\n",
    "    #print(len(wordsaphi))\n",
    "    # filter_rho\n",
    "    lim_min_rho = words.RHO.min()\n",
    "    alcanze = words.RHO.max() - words.RHO.min()\n",
    "    lim_max_rho = ( ( alcanze / 2 ) * 1 ) + lim_min_rho # 1/3 of the difference between Rho Max and Rho Min\n",
    "    wordsrho = wordsaphi.loc[wordsaphi[\"RHO\"].apply(lambda x: filter_rho(x,lim_min_rho,lim_max_rho) )]\n",
    "    #print(len(wordsrho))\n",
    "    return wordsrho\n",
    "\n",
    "    \n",
    "    \n",
    "result = 0 \n",
    "groupA = build_word_group_a(data)\n",
    "\n",
    "\n",
    "groupA.describe()"
   ]
  },
  {
   "cell_type": "code",
   "execution_count": 32,
   "metadata": {},
   "outputs": [
    {
     "data": {
      "text/html": [
       "<div>\n",
       "<style scoped>\n",
       "    .dataframe tbody tr th:only-of-type {\n",
       "        vertical-align: middle;\n",
       "    }\n",
       "\n",
       "    .dataframe tbody tr th {\n",
       "        vertical-align: top;\n",
       "    }\n",
       "\n",
       "    .dataframe thead th {\n",
       "        text-align: right;\n",
       "    }\n",
       "</style>\n",
       "<table border=\"1\" class=\"dataframe\">\n",
       "  <thead>\n",
       "    <tr style=\"text-align: right;\">\n",
       "      <th></th>\n",
       "      <th>RHO</th>\n",
       "      <th>PHI</th>\n",
       "      <th>LENGTH</th>\n",
       "    </tr>\n",
       "  </thead>\n",
       "  <tbody>\n",
       "    <tr>\n",
       "      <th>count</th>\n",
       "      <td>17.000000</td>\n",
       "      <td>17.000000</td>\n",
       "      <td>17.000000</td>\n",
       "    </tr>\n",
       "    <tr>\n",
       "      <th>mean</th>\n",
       "      <td>20.705882</td>\n",
       "      <td>26.394535</td>\n",
       "      <td>5.764706</td>\n",
       "    </tr>\n",
       "    <tr>\n",
       "      <th>std</th>\n",
       "      <td>0.985184</td>\n",
       "      <td>2.530183</td>\n",
       "      <td>0.437237</td>\n",
       "    </tr>\n",
       "    <tr>\n",
       "      <th>min</th>\n",
       "      <td>20.000000</td>\n",
       "      <td>22.404303</td>\n",
       "      <td>5.000000</td>\n",
       "    </tr>\n",
       "    <tr>\n",
       "      <th>25%</th>\n",
       "      <td>20.000000</td>\n",
       "      <td>24.597192</td>\n",
       "      <td>6.000000</td>\n",
       "    </tr>\n",
       "    <tr>\n",
       "      <th>50%</th>\n",
       "      <td>21.000000</td>\n",
       "      <td>26.768592</td>\n",
       "      <td>6.000000</td>\n",
       "    </tr>\n",
       "    <tr>\n",
       "      <th>75%</th>\n",
       "      <td>21.000000</td>\n",
       "      <td>28.336965</td>\n",
       "      <td>6.000000</td>\n",
       "    </tr>\n",
       "    <tr>\n",
       "      <th>max</th>\n",
       "      <td>24.000000</td>\n",
       "      <td>29.967886</td>\n",
       "      <td>6.000000</td>\n",
       "    </tr>\n",
       "  </tbody>\n",
       "</table>\n",
       "</div>"
      ],
      "text/plain": [
       "             RHO        PHI     LENGTH\n",
       "count  17.000000  17.000000  17.000000\n",
       "mean   20.705882  26.394535   5.764706\n",
       "std     0.985184   2.530183   0.437237\n",
       "min    20.000000  22.404303   5.000000\n",
       "25%    20.000000  24.597192   6.000000\n",
       "50%    21.000000  26.768592   6.000000\n",
       "75%    21.000000  28.336965   6.000000\n",
       "max    24.000000  29.967886   6.000000"
      ]
     },
     "execution_count": 32,
     "metadata": {},
     "output_type": "execute_result"
    }
   ],
   "source": [
    "## Building the 2nd group\n",
    "#  Using filter_length, filter_phi, filter_freq, \n",
    "\n",
    "def build_word_group_b(dataset):\n",
    "    \"\"\"\n",
    "    Build a word group given a set of parameters\n",
    "\n",
    "        Group B:\n",
    "\n",
    "            Phi < 1/3PhiMax \n",
    "            Rho > 1/2 RhoMax\n",
    "\n",
    "\n",
    "    \"\"\"\n",
    "    # filter_length # Between 5 and 6 characters long\n",
    "    min_l = 5\n",
    "    max_l = 6\n",
    "    #print(len(dataset))\n",
    "    words = dataset.loc[dataset[\"LENGTH\"].apply(lambda x: filter_length(x,min_l,max_l))]\n",
    "    words = words.loc[words[\"PALABRA\"].apply(filter_chars)]\n",
    "    #print(len(words))\n",
    "    # filter_phi\n",
    "    lim_min_phi = words.PHI.min()\n",
    "    alcanze = words.PHI.max() - words.PHI.min()\n",
    "    lim_max_phi = (( alcanze / 3 ) * 1 ) + lim_min_phi # Take 1/3 of the difference between Phi Max and Phi Min \n",
    "    wordsaphi = words.loc[words[\"PHI\"].apply(lambda x: filter_phi(x,lim_min_phi,lim_max_phi) )]\n",
    "    #print(len(wordsaphi))\n",
    "    # filter_rho\n",
    "    alcanze = words.RHO.max() - words.RHO.min()\n",
    "    lim_min_rho = (( alcanze / 2 ) * 1 ) + words.RHO.min()\n",
    "    lim_max_rho = 9999\n",
    "    wordsrho = wordsaphi.loc[wordsaphi[\"RHO\"].apply(lambda x: filter_rho(x,lim_min_rho,lim_max_rho) )]\n",
    "    #print(len(wordsrho))\n",
    "    return wordsrho\n",
    "\n",
    "    \n",
    "    \n",
    "groupB = build_word_group_b(data)\n",
    "groupB.describe()"
   ]
  },
  {
   "cell_type": "code",
   "execution_count": 33,
   "metadata": {},
   "outputs": [
    {
     "data": {
      "text/html": [
       "<div>\n",
       "<style scoped>\n",
       "    .dataframe tbody tr th:only-of-type {\n",
       "        vertical-align: middle;\n",
       "    }\n",
       "\n",
       "    .dataframe tbody tr th {\n",
       "        vertical-align: top;\n",
       "    }\n",
       "\n",
       "    .dataframe thead th {\n",
       "        text-align: right;\n",
       "    }\n",
       "</style>\n",
       "<table border=\"1\" class=\"dataframe\">\n",
       "  <thead>\n",
       "    <tr style=\"text-align: right;\">\n",
       "      <th></th>\n",
       "      <th>RHO</th>\n",
       "      <th>PHI</th>\n",
       "      <th>LENGTH</th>\n",
       "    </tr>\n",
       "  </thead>\n",
       "  <tbody>\n",
       "    <tr>\n",
       "      <th>count</th>\n",
       "      <td>73.000000</td>\n",
       "      <td>73.000000</td>\n",
       "      <td>73.000000</td>\n",
       "    </tr>\n",
       "    <tr>\n",
       "      <th>mean</th>\n",
       "      <td>17.082192</td>\n",
       "      <td>51.229020</td>\n",
       "      <td>5.726027</td>\n",
       "    </tr>\n",
       "    <tr>\n",
       "      <th>std</th>\n",
       "      <td>1.063973</td>\n",
       "      <td>3.730509</td>\n",
       "      <td>0.449082</td>\n",
       "    </tr>\n",
       "    <tr>\n",
       "      <th>min</th>\n",
       "      <td>14.000000</td>\n",
       "      <td>46.507116</td>\n",
       "      <td>5.000000</td>\n",
       "    </tr>\n",
       "    <tr>\n",
       "      <th>25%</th>\n",
       "      <td>17.000000</td>\n",
       "      <td>48.547178</td>\n",
       "      <td>5.000000</td>\n",
       "    </tr>\n",
       "    <tr>\n",
       "      <th>50%</th>\n",
       "      <td>17.000000</td>\n",
       "      <td>50.071372</td>\n",
       "      <td>6.000000</td>\n",
       "    </tr>\n",
       "    <tr>\n",
       "      <th>75%</th>\n",
       "      <td>18.000000</td>\n",
       "      <td>53.455667</td>\n",
       "      <td>6.000000</td>\n",
       "    </tr>\n",
       "    <tr>\n",
       "      <th>max</th>\n",
       "      <td>18.000000</td>\n",
       "      <td>61.587942</td>\n",
       "      <td>6.000000</td>\n",
       "    </tr>\n",
       "  </tbody>\n",
       "</table>\n",
       "</div>"
      ],
      "text/plain": [
       "             RHO        PHI     LENGTH\n",
       "count  73.000000  73.000000  73.000000\n",
       "mean   17.082192  51.229020   5.726027\n",
       "std     1.063973   3.730509   0.449082\n",
       "min    14.000000  46.507116   5.000000\n",
       "25%    17.000000  48.547178   5.000000\n",
       "50%    17.000000  50.071372   6.000000\n",
       "75%    18.000000  53.455667   6.000000\n",
       "max    18.000000  61.587942   6.000000"
      ]
     },
     "execution_count": 33,
     "metadata": {},
     "output_type": "execute_result"
    }
   ],
   "source": [
    "## Building the 3rd group, the 1st of the second column\n",
    "\n",
    "def build_word_group_c(dataset):\n",
    "    \"\"\"\n",
    "    Build a word group given a set of parameters\n",
    "    \n",
    "    Group C:\n",
    "\n",
    "        Phi > 2/3 PhiMax\n",
    "        Rho < 1/2 RhoMax\n",
    "\n",
    "\n",
    "    \"\"\"\n",
    "    # filter_length # Between 5 and 6 characters long\n",
    "    min_l = 5\n",
    "    max_l = 6\n",
    "    #print(len(dataset))\n",
    "    words = dataset.loc[dataset[\"LENGTH\"].apply(lambda x: filter_length(x,min_l,max_l))]\n",
    "    words = words.loc[words[\"PALABRA\"].apply(filter_chars)]\n",
    "    #print(len(words))\n",
    "    # filter_phi\n",
    "    alcanze = words.PHI.max() - words.PHI.min()\n",
    "    lim_min_phi = ((alcanze / 3 ) * 2 ) + words.PHI.min() # 2/3 of Phi Max\n",
    "    lim_max_phi = 99999\n",
    "    wordsaphi = words.loc[words[\"PHI\"].apply(lambda x: filter_phi(x,lim_min_phi,lim_max_phi) )]\n",
    "    #print(len(wordsaphi))\n",
    "    # filter_rho\n",
    "    lim_min_rho = 0\n",
    "    alcanze = wordsaphi.RHO.max() - wordsaphi.RHO.min()\n",
    "    lim_max_rho = ((( alcanze / 2 ) * 1 ) + wordsaphi.RHO.min() ) # 1/3 of Rho Max\n",
    "    wordsrho = wordsaphi.loc[wordsaphi[\"RHO\"].apply(lambda x: filter_rho(x,lim_min_rho,lim_max_rho) )]\n",
    "    #print(len(wordsrho))\n",
    "    return wordsrho\n",
    "\n",
    "    \n",
    "    \n",
    "groupC = build_word_group_c(data)\n",
    "groupC.describe()"
   ]
  },
  {
   "cell_type": "code",
   "execution_count": 34,
   "metadata": {},
   "outputs": [
    {
     "data": {
      "text/html": [
       "<div>\n",
       "<style scoped>\n",
       "    .dataframe tbody tr th:only-of-type {\n",
       "        vertical-align: middle;\n",
       "    }\n",
       "\n",
       "    .dataframe tbody tr th {\n",
       "        vertical-align: top;\n",
       "    }\n",
       "\n",
       "    .dataframe thead th {\n",
       "        text-align: right;\n",
       "    }\n",
       "</style>\n",
       "<table border=\"1\" class=\"dataframe\">\n",
       "  <thead>\n",
       "    <tr style=\"text-align: right;\">\n",
       "      <th></th>\n",
       "      <th>RHO</th>\n",
       "      <th>PHI</th>\n",
       "      <th>LENGTH</th>\n",
       "    </tr>\n",
       "  </thead>\n",
       "  <tbody>\n",
       "    <tr>\n",
       "      <th>count</th>\n",
       "      <td>60.000000</td>\n",
       "      <td>60.000000</td>\n",
       "      <td>60.0</td>\n",
       "    </tr>\n",
       "    <tr>\n",
       "      <th>mean</th>\n",
       "      <td>20.983333</td>\n",
       "      <td>49.880203</td>\n",
       "      <td>6.0</td>\n",
       "    </tr>\n",
       "    <tr>\n",
       "      <th>std</th>\n",
       "      <td>0.911167</td>\n",
       "      <td>3.072451</td>\n",
       "      <td>0.0</td>\n",
       "    </tr>\n",
       "    <tr>\n",
       "      <th>min</th>\n",
       "      <td>20.000000</td>\n",
       "      <td>46.388024</td>\n",
       "      <td>6.0</td>\n",
       "    </tr>\n",
       "    <tr>\n",
       "      <th>25%</th>\n",
       "      <td>20.000000</td>\n",
       "      <td>47.425192</td>\n",
       "      <td>6.0</td>\n",
       "    </tr>\n",
       "    <tr>\n",
       "      <th>50%</th>\n",
       "      <td>21.000000</td>\n",
       "      <td>49.094380</td>\n",
       "      <td>6.0</td>\n",
       "    </tr>\n",
       "    <tr>\n",
       "      <th>75%</th>\n",
       "      <td>22.000000</td>\n",
       "      <td>51.408943</td>\n",
       "      <td>6.0</td>\n",
       "    </tr>\n",
       "    <tr>\n",
       "      <th>max</th>\n",
       "      <td>23.000000</td>\n",
       "      <td>59.156507</td>\n",
       "      <td>6.0</td>\n",
       "    </tr>\n",
       "  </tbody>\n",
       "</table>\n",
       "</div>"
      ],
      "text/plain": [
       "             RHO        PHI  LENGTH\n",
       "count  60.000000  60.000000    60.0\n",
       "mean   20.983333  49.880203     6.0\n",
       "std     0.911167   3.072451     0.0\n",
       "min    20.000000  46.388024     6.0\n",
       "25%    20.000000  47.425192     6.0\n",
       "50%    21.000000  49.094380     6.0\n",
       "75%    22.000000  51.408943     6.0\n",
       "max    23.000000  59.156507     6.0"
      ]
     },
     "execution_count": 34,
     "metadata": {},
     "output_type": "execute_result"
    }
   ],
   "source": [
    "## Building the 4th group, the 2nd of the second column\n",
    "\n",
    "def build_word_group_d(dataset):\n",
    "    \"\"\"\n",
    "    Build a word group given a set of parameters\n",
    "    \n",
    "        Group D:\n",
    "\n",
    "            Phi > 2/3PhiMax\n",
    "            Rho > 1/2RhoMax\n",
    "\n",
    "\n",
    "\n",
    "    \"\"\"\n",
    "    # filter_length # Between 5 and 6 characters long\n",
    "    min_l = 5\n",
    "    max_l = 6\n",
    "    #print(len(dataset))\n",
    "    words = dataset.loc[dataset[\"LENGTH\"].apply(lambda x: filter_length(x,min_l,max_l))]\n",
    "    words = words.loc[words[\"PALABRA\"].apply(filter_chars)]\n",
    "    #print(len(words))\n",
    "    # filter_phi\n",
    "    alcanze = words.PHI.max() - words.PHI.min()\n",
    "    lim_min_phi = ((alcanze / 3 ) * 2 ) + words.PHI.min() # 2/3 of Phi Max\n",
    "    lim_max_phi = 9999\n",
    "    wordsaphi = words.loc[words[\"PHI\"].apply(lambda x: filter_phi(x,lim_min_phi,lim_max_phi) )]\n",
    "    #print(len(wordsaphi))\n",
    "    # filter_rho\n",
    "    alcanze = words.RHO.max() - words.RHO.min()\n",
    "    lim_min_rho = (( alcanze / 2 ) * 1 ) + words.RHO.min() # 1/2 of Rho Max\n",
    "    lim_max_rho = 9999\n",
    "    wordsrho = wordsaphi.loc[wordsaphi[\"RHO\"].apply(lambda x: filter_rho(x,lim_min_rho,lim_max_rho) )]\n",
    "    #print(len(wordsrho))\n",
    "    return wordsrho\n",
    "\n",
    "    \n",
    "    \n",
    "groupD = build_word_group_d(data)\n",
    "groupD.describe()"
   ]
  },
  {
   "cell_type": "markdown",
   "metadata": {},
   "source": [
    "Now, with all 4 groups separated, save each group on a separate file.\n",
    "Create CSV and Excel files."
   ]
  },
  {
   "cell_type": "code",
   "execution_count": 35,
   "metadata": {},
   "outputs": [],
   "source": [
    "# Create csv and excel files.\n",
    "for fmt in [\"csv\", \"excel\"]:\n",
    "    ext = \"xls\" if fmt == \"excel\" else fmt # The file extension also changes depending on the format.\n",
    "    for group in [\"A\",\"B\",\"C\",\"D\"]:\n",
    "        ## TODO: Use exec to create all the 8 files\n",
    "        export_to_file = \"\"\"group{group_name}.to_{fmt}(\"../data/grupo_{group_name}.{ext}\", encoding=\"utf-8\", index=False)\"\"\"\n",
    "        exec(export_to_file.format(group_name=group, fmt=fmt, ext=ext))"
   ]
  },
  {
   "cell_type": "code",
   "execution_count": null,
   "metadata": {},
   "outputs": [],
   "source": []
  },
  {
   "cell_type": "code",
   "execution_count": null,
   "metadata": {},
   "outputs": [],
   "source": [
    "plt.scatter(chosen_words.FRECUENC,chosen_words.RHO)"
   ]
  },
  {
   "cell_type": "code",
   "execution_count": null,
   "metadata": {
    "scrolled": false
   },
   "outputs": [],
   "source": [
    "%%notify\n",
    "dir(plt)"
   ]
  },
  {
   "cell_type": "code",
   "execution_count": 76,
   "metadata": {},
   "outputs": [],
   "source": [
    "# Creating heatmaps in matplotlib is more difficult than it should be.\n",
    "# Thankfully, Seaborn makes them easy for us.\n",
    "# http://stanford.edu/~mwaskom/software/seaborn/\n",
    "\n",
    "import seaborn as sns\n",
    "sns.set(style='white')\n",
    "\n"
   ]
  },
  {
   "cell_type": "code",
   "execution_count": null,
   "metadata": {},
   "outputs": [],
   "source": [
    "%%notify -o\n",
    "\n",
    "plt.figure(figsize=(12, 8))\n",
    "plt.title('Cohorts: Phi vs Rho and friends')\n",
    "sns.heatmap(data.T, mask=data.T.isnull(), annot=True, fmt='.0%');\n",
    "\n"
   ]
  },
  {
   "cell_type": "code",
   "execution_count": null,
   "metadata": {},
   "outputs": [],
   "source": [
    "### EXPERIMENT\n",
    "## Trying to plot multiple datasets, in one graph, \n",
    "## each with a different color.\n",
    "\n",
    "import itertools\n",
    "import numpy as np\n",
    "import matplotlib.pyplot as plt\n",
    "import matplotlib.cm as cm\n",
    "\n",
    "words.RHO\n",
    "groupA\n",
    "x = words.RHO\n",
    "ys = words.PHI\n",
    "\n",
    "\n",
    "#    print(x.size)\n",
    "#    print(ys.size)\n",
    "colors = itertools.cycle([\"r\", \"b\", \"g\"]) # iterating on 3 colors\n",
    "# colors = cm.rainbow(np.linspace(0, 1, 4)) # create 5 or 6 colors\n",
    "for y, c in zip(ys, colors):\n",
    "    plt.scatter(x, ys, color=next(colors))"
   ]
  },
  {
   "cell_type": "code",
   "execution_count": 36,
   "metadata": {},
   "outputs": [
    {
     "data": {
      "image/png": "[encoded data removed]",
      "text/plain": [
       "<Figure size 432x288 with 1 Axes>"
      ]
     },
     "metadata": {
      "needs_background": "light"
     },
     "output_type": "display_data"
    },
    {
     "data": {
      "text/plain": [
       "count     3323\n",
       "unique      71\n",
       "top         20\n",
       "freq       150\n",
       "Name: FRECUENC, dtype: int64"
      ]
     },
     "execution_count": 36,
     "metadata": {},
     "output_type": "execute_result"
    }
   ],
   "source": [
    "## plotting multiple datasets, in one graph, PHI vs RHO\n",
    "## each with a different color.\n",
    "## https://matplotlib.org/3.1.3/gallery/lines_bars_and_markers/scatter_with_legend.html#sphx-glr-gallery-lines-bars-and-markers-scatter-with-legend-py\n",
    "\n",
    "\n",
    "import itertools\n",
    "import numpy as np\n",
    "import matplotlib.pyplot as plt\n",
    "import matplotlib.cm as cm\n",
    "\n",
    "selection = 0\n",
    "# remove words with too much frequency\n",
    "selection = data.loc[data[\"FRECUENC\"].apply(lambda x: filter_freq(x,0,15000))]\n",
    "\n",
    "\n",
    "# see colors https://i.stack.imgur.com/lFZum.png \n",
    "plt.scatter(selection.PHI,selection.RHO, color = \"powderblue\", label=\"all\")\n",
    "plt.scatter(groupA.PHI,groupA.RHO, color = \"darkgreen\", label=\"A\")\n",
    "plt.scatter(groupB.PHI,groupB.RHO, color = \"limegreen\", label=\"B\")\n",
    "plt.scatter(groupC.PHI,groupC.RHO, color = \"navajowhite\", label=\"C\")\n",
    "plt.scatter(groupD.PHI,groupD.RHO, color = \"orange\", label=\"D\")\n",
    "plt.legend()\n",
    "plt.show()\n",
    "\n",
    "selection.FRECUENC.describe()"
   ]
  },
  {
   "cell_type": "code",
   "execution_count": 37,
   "metadata": {},
   "outputs": [
    {
     "data": {
      "image/png": "[encoded data removed]",
      "text/plain": [
       "<Figure size 432x288 with 1 Axes>"
      ]
     },
     "metadata": {
      "needs_background": "light"
     },
     "output_type": "display_data"
    },
    {
     "data": {
      "text/html": [
       "<div>\n",
       "<style scoped>\n",
       "    .dataframe tbody tr th:only-of-type {\n",
       "        vertical-align: middle;\n",
       "    }\n",
       "\n",
       "    .dataframe tbody tr th {\n",
       "        vertical-align: top;\n",
       "    }\n",
       "\n",
       "    .dataframe thead th {\n",
       "        text-align: right;\n",
       "    }\n",
       "</style>\n",
       "<table border=\"1\" class=\"dataframe\">\n",
       "  <thead>\n",
       "    <tr style=\"text-align: right;\">\n",
       "      <th></th>\n",
       "      <th>RHO</th>\n",
       "      <th>PHI</th>\n",
       "      <th>LENGTH</th>\n",
       "    </tr>\n",
       "  </thead>\n",
       "  <tbody>\n",
       "    <tr>\n",
       "      <th>count</th>\n",
       "      <td>3323.000000</td>\n",
       "      <td>3323.000000</td>\n",
       "      <td>3323.000000</td>\n",
       "    </tr>\n",
       "    <tr>\n",
       "      <th>mean</th>\n",
       "      <td>24.672585</td>\n",
       "      <td>55.039647</td>\n",
       "      <td>7.559133</td>\n",
       "    </tr>\n",
       "    <tr>\n",
       "      <th>std</th>\n",
       "      <td>7.790564</td>\n",
       "      <td>18.045137</td>\n",
       "      <td>2.299067</td>\n",
       "    </tr>\n",
       "    <tr>\n",
       "      <th>min</th>\n",
       "      <td>7.000000</td>\n",
       "      <td>12.259339</td>\n",
       "      <td>3.000000</td>\n",
       "    </tr>\n",
       "    <tr>\n",
       "      <th>25%</th>\n",
       "      <td>19.000000</td>\n",
       "      <td>41.750854</td>\n",
       "      <td>6.000000</td>\n",
       "    </tr>\n",
       "    <tr>\n",
       "      <th>50%</th>\n",
       "      <td>24.000000</td>\n",
       "      <td>53.648833</td>\n",
       "      <td>7.000000</td>\n",
       "    </tr>\n",
       "    <tr>\n",
       "      <th>75%</th>\n",
       "      <td>29.000000</td>\n",
       "      <td>66.620026</td>\n",
       "      <td>9.000000</td>\n",
       "    </tr>\n",
       "    <tr>\n",
       "      <th>max</th>\n",
       "      <td>60.000000</td>\n",
       "      <td>128.477907</td>\n",
       "      <td>16.000000</td>\n",
       "    </tr>\n",
       "  </tbody>\n",
       "</table>\n",
       "</div>"
      ],
      "text/plain": [
       "               RHO          PHI       LENGTH\n",
       "count  3323.000000  3323.000000  3323.000000\n",
       "mean     24.672585    55.039647     7.559133\n",
       "std       7.790564    18.045137     2.299067\n",
       "min       7.000000    12.259339     3.000000\n",
       "25%      19.000000    41.750854     6.000000\n",
       "50%      24.000000    53.648833     7.000000\n",
       "75%      29.000000    66.620026     9.000000\n",
       "max      60.000000   128.477907    16.000000"
      ]
     },
     "execution_count": 37,
     "metadata": {},
     "output_type": "execute_result"
    }
   ],
   "source": [
    "## plotting multiple datasets, PHI vs FRECUENCY\n",
    "\n",
    "selection = 0\n",
    "# remove words with too much frequency\n",
    "selection = data.loc[data[\"FRECUENC\"].apply(lambda x: filter_freq(x,20,90))]\n",
    "\n",
    "\n",
    "# see colors https://i.stack.imgur.com/lFZum.png \n",
    "plt.scatter(selection.PHI,selection.FRECUENC, color = \"powderblue\", label=\"all\")\n",
    "plt.scatter(groupA.PHI,groupA.FRECUENC, color = \"darkgreen\", label=\"A\")\n",
    "plt.scatter(groupB.PHI,groupB.FRECUENC, color = \"limegreen\", label=\"B\")\n",
    "plt.scatter(groupC.PHI,groupC.FRECUENC, color = \"navajowhite\", label=\"C\")\n",
    "plt.scatter(groupD.PHI,groupD.FRECUENC, color = \"orange\", label=\"D\")\n",
    "plt.legend()\n",
    "plt.show()\n",
    "\n",
    "#selection.FRECUENC.describe()\n",
    "selection.describe()"
   ]
  },
  {
   "cell_type": "code",
   "execution_count": 322,
   "metadata": {},
   "outputs": [
    {
     "name": "stdout",
     "output_type": "stream",
     "text": [
      "Choose the median frequency\n"
     ]
    },
    {
     "data": {
      "application/vnd.jupyter.widget-view+json": {
       "model_id": "430088d51f5a497596cfda17d73a6bc0",
       "version_major": 2,
       "version_minor": 0
      },
      "text/plain": [
       "interactive(children=(IntSlider(value=55, description='x', max=90, min=20), Output()), _dom_classes=('widget-i…"
      ]
     },
     "metadata": {},
     "output_type": "display_data"
    },
    {
     "name": "stdout",
     "output_type": "stream",
     "text": [
      "Choose the range (over median and under median)\n"
     ]
    },
    {
     "data": {
      "application/vnd.jupyter.widget-view+json": {
       "model_id": "2e74f2740e88471abe951bebff1bdfea",
       "version_major": 2,
       "version_minor": 0
      },
      "text/plain": [
       "interactive(children=(IntSlider(value=45, description='x', max=90), Output()), _dom_classes=('widget-interact'…"
      ]
     },
     "metadata": {},
     "output_type": "display_data"
    },
    {
     "data": {
      "text/plain": [
       "<function __main__.get_rango(x)>"
      ]
     },
     "execution_count": 322,
     "metadata": {},
     "output_type": "execute_result"
    }
   ],
   "source": [
    "## EXPERIMENT\n",
    "## Making the notebook interactive \n",
    "from ipywidgets import interact, interactive, fixed, interact_manual\n",
    "import ipywidgets as widgets\n",
    "\n",
    "medio = 0\n",
    "def get_medio(x):\n",
    "    global medio\n",
    "    medio = x\n",
    "    return x\n",
    "\n",
    "\n",
    "rango = 0\n",
    "def get_rango(x):\n",
    "    global rango\n",
    "    rango = x\n",
    "    return x\n",
    "\n",
    "print(\"Choose the median frequency\")\n",
    "interact(get_medio, x=(selection.FRECUENC.min(),selection.FRECUENC.max()))\n",
    "print(\"Choose the range (over median and under median)\")\n",
    "interact(get_rango, x=(0,selection.FRECUENC.max()))\n",
    "\n"
   ]
  },
  {
   "cell_type": "markdown",
   "metadata": {},
   "source": [
    "### Using sliders to find groups of words based on Frequency\n",
    "\n",
    "On the cell below, you can interactively use a couple of sliders,\n",
    "to find words in all the groups with a frequency between certain range.\n",
    "\n",
    "Execute the cell, and then move the sliders to the desired values.\n",
    "Press `\"Run Interact\"` and you will see the plot updated."
   ]
  },
  {
   "cell_type": "code",
   "execution_count": 363,
   "metadata": {},
   "outputs": [
    {
     "data": {
      "application/vnd.jupyter.widget-view+json": {
       "model_id": "ff3c58ddfe584cbcbad390a4819819f2",
       "version_major": 2,
       "version_minor": 0
      },
      "text/plain": [
       "interactive(children=(IntSlider(value=45, description='min_lim', max=90), IntSlider(value=55, description='max…"
      ]
     },
     "metadata": {},
     "output_type": "display_data"
    }
   ],
   "source": [
    "### EXPERIMENT\n",
    "## Trying to plot dynamically, based on pretty interactive sliders\n",
    "## https://ipywidgets.readthedocs.io/en/latest/examples/Using%20Interact.html\n",
    "## https://towardsdatascience.com/interactive-controls-for-jupyter-notebooks-f5c94829aee6\n",
    "\n",
    "\n",
    "# create a dict with each group, and the colour it will be plotted in.\n",
    "# see colors https://i.stack.imgur.com/lFZum.png \n",
    "graphs = {\n",
    "    \"A\":\"darkgreen\",\n",
    "    \"B\":\"limegreen\",\n",
    "    \"C\":\"navajowhite\",\n",
    "    \"D\":\"orange\",\n",
    "}\n",
    "\n",
    "@interact_manual(continuous_update=False)\n",
    "def dothat(min_lim=(0,90),max_lim=(20,90)):\n",
    "    selection = 0\n",
    "    # remove words with too much frequency\n",
    "    min_freq_tot = 20\n",
    "    max_freq_tot = 90\n",
    "    selection = data.loc[data[\"FRECUENC\"].apply(lambda x: filter_freq(x,min_freq_tot,max_freq_tot))]\n",
    "    plt.scatter(selection.PHI,selection.FRECUENC, color = \"powderblue\", label=\"all\")\n",
    "    print(\"min_lim\",min_lim)\n",
    "    print(\"max_lim\",max_lim)\n",
    "    for group, color in graphs.items():\n",
    "        program = \"\"\"\n",
    "#print(dir())\n",
    "#print(min_lim)\n",
    "#print(max_lim)\n",
    "## A lot of this shenanigans are due to exec issues with variable scope\n",
    "done = False\n",
    "def dox(x,min = min_lim, max=max_lim):\n",
    "    global done\n",
    "    if done == False:\n",
    "        done = True\n",
    "    return(filter_freq(x,min,max))\n",
    "myindex = group{group}[\"FRECUENC\"].apply(dox)\n",
    "s{group} = group{group}.loc[myindex]\n",
    "plt.scatter(s{group}.PHI,s{group}.FRECUENC, color = \"{color}\", label=\"{group}\")\n",
    "        \"\"\"\n",
    "        to_run = program.format(group=group,color=color)\n",
    "        exec(to_run)\n",
    "    plt.legend()\n",
    "    plt.show()\n",
    "    \n",
    "    return plt\n",
    "\n"
   ]
  },
  {
   "cell_type": "code",
   "execution_count": 368,
   "metadata": {},
   "outputs": [
    {
     "data": {
      "text/html": [
       "<div>\n",
       "<style scoped>\n",
       "    .dataframe tbody tr th:only-of-type {\n",
       "        vertical-align: middle;\n",
       "    }\n",
       "\n",
       "    .dataframe tbody tr th {\n",
       "        vertical-align: top;\n",
       "    }\n",
       "\n",
       "    .dataframe thead th {\n",
       "        text-align: right;\n",
       "    }\n",
       "</style>\n",
       "<table border=\"1\" class=\"dataframe\">\n",
       "  <thead>\n",
       "    <tr style=\"text-align: right;\">\n",
       "      <th></th>\n",
       "      <th>PALABRA</th>\n",
       "      <th>FRECUENC</th>\n",
       "      <th>RHO</th>\n",
       "      <th>PHI</th>\n",
       "      <th>LENGTH</th>\n",
       "    </tr>\n",
       "  </thead>\n",
       "  <tbody>\n",
       "    <tr>\n",
       "      <th>2875</th>\n",
       "      <td>balón</td>\n",
       "      <td>44</td>\n",
       "      <td>16</td>\n",
       "      <td>28.299508</td>\n",
       "      <td>5</td>\n",
       "    </tr>\n",
       "    <tr>\n",
       "      <th>3075</th>\n",
       "      <td>botón</td>\n",
       "      <td>50</td>\n",
       "      <td>18</td>\n",
       "      <td>22.632764</td>\n",
       "      <td>5</td>\n",
       "    </tr>\n",
       "    <tr>\n",
       "      <th>3159</th>\n",
       "      <td>bulto</td>\n",
       "      <td>42</td>\n",
       "      <td>17</td>\n",
       "      <td>24.449647</td>\n",
       "      <td>5</td>\n",
       "    </tr>\n",
       "    <tr>\n",
       "      <th>3212</th>\n",
       "      <td>cajón</td>\n",
       "      <td>52</td>\n",
       "      <td>15</td>\n",
       "      <td>27.957117</td>\n",
       "      <td>5</td>\n",
       "    </tr>\n",
       "    <tr>\n",
       "      <th>3771</th>\n",
       "      <td>culto</td>\n",
       "      <td>59</td>\n",
       "      <td>15</td>\n",
       "      <td>28.220153</td>\n",
       "      <td>5</td>\n",
       "    </tr>\n",
       "    <tr>\n",
       "      <th>3898</th>\n",
       "      <td>digno</td>\n",
       "      <td>46</td>\n",
       "      <td>17</td>\n",
       "      <td>29.881568</td>\n",
       "      <td>5</td>\n",
       "    </tr>\n",
       "    <tr>\n",
       "      <th>3958</th>\n",
       "      <td>ducha</td>\n",
       "      <td>42</td>\n",
       "      <td>16</td>\n",
       "      <td>29.542898</td>\n",
       "      <td>5</td>\n",
       "    </tr>\n",
       "    <tr>\n",
       "      <th>4313</th>\n",
       "      <td>fruto</td>\n",
       "      <td>55</td>\n",
       "      <td>18</td>\n",
       "      <td>28.254849</td>\n",
       "      <td>5</td>\n",
       "    </tr>\n",
       "    <tr>\n",
       "      <th>4867</th>\n",
       "      <td>julio</td>\n",
       "      <td>57</td>\n",
       "      <td>15</td>\n",
       "      <td>26.415756</td>\n",
       "      <td>5</td>\n",
       "    </tr>\n",
       "    <tr>\n",
       "      <th>4869</th>\n",
       "      <td>junio</td>\n",
       "      <td>51</td>\n",
       "      <td>17</td>\n",
       "      <td>27.764312</td>\n",
       "      <td>5</td>\n",
       "    </tr>\n",
       "    <tr>\n",
       "      <th>4878</th>\n",
       "      <td>justa</td>\n",
       "      <td>41</td>\n",
       "      <td>17</td>\n",
       "      <td>28.906617</td>\n",
       "      <td>5</td>\n",
       "    </tr>\n",
       "    <tr>\n",
       "      <th>6063</th>\n",
       "      <td>pongo</td>\n",
       "      <td>54</td>\n",
       "      <td>18</td>\n",
       "      <td>29.079133</td>\n",
       "      <td>5</td>\n",
       "    </tr>\n",
       "    <tr>\n",
       "      <th>6136</th>\n",
       "      <td>pulso</td>\n",
       "      <td>42</td>\n",
       "      <td>16</td>\n",
       "      <td>23.881195</td>\n",
       "      <td>5</td>\n",
       "    </tr>\n",
       "    <tr>\n",
       "      <th>6308</th>\n",
       "      <td>revés</td>\n",
       "      <td>47</td>\n",
       "      <td>16</td>\n",
       "      <td>23.934619</td>\n",
       "      <td>5</td>\n",
       "    </tr>\n",
       "    <tr>\n",
       "      <th>6727</th>\n",
       "      <td>sutil</td>\n",
       "      <td>46</td>\n",
       "      <td>16</td>\n",
       "      <td>25.819212</td>\n",
       "      <td>5</td>\n",
       "    </tr>\n",
       "    <tr>\n",
       "      <th>6968</th>\n",
       "      <td>toque</td>\n",
       "      <td>49</td>\n",
       "      <td>17</td>\n",
       "      <td>27.783400</td>\n",
       "      <td>5</td>\n",
       "    </tr>\n",
       "    <tr>\n",
       "      <th>7196</th>\n",
       "      <td>vejez</td>\n",
       "      <td>41</td>\n",
       "      <td>18</td>\n",
       "      <td>21.394776</td>\n",
       "      <td>5</td>\n",
       "    </tr>\n",
       "    <tr>\n",
       "      <th>7236</th>\n",
       "      <td>vídeo</td>\n",
       "      <td>59</td>\n",
       "      <td>16</td>\n",
       "      <td>24.074121</td>\n",
       "      <td>5</td>\n",
       "    </tr>\n",
       "    <tr>\n",
       "      <th>10196</th>\n",
       "      <td>cónsul</td>\n",
       "      <td>42</td>\n",
       "      <td>18</td>\n",
       "      <td>23.778790</td>\n",
       "      <td>6</td>\n",
       "    </tr>\n",
       "    <tr>\n",
       "      <th>12730</th>\n",
       "      <td>léxico</td>\n",
       "      <td>46</td>\n",
       "      <td>17</td>\n",
       "      <td>28.395791</td>\n",
       "      <td>6</td>\n",
       "    </tr>\n",
       "    <tr>\n",
       "      <th>14048</th>\n",
       "      <td>pálido</td>\n",
       "      <td>51</td>\n",
       "      <td>18</td>\n",
       "      <td>29.112748</td>\n",
       "      <td>6</td>\n",
       "    </tr>\n",
       "  </tbody>\n",
       "</table>\n",
       "</div>"
      ],
      "text/plain": [
       "      PALABRA FRECUENC  RHO        PHI  LENGTH\n",
       "2875    balón       44   16  28.299508       5\n",
       "3075    botón       50   18  22.632764       5\n",
       "3159    bulto       42   17  24.449647       5\n",
       "3212    cajón       52   15  27.957117       5\n",
       "3771    culto       59   15  28.220153       5\n",
       "3898    digno       46   17  29.881568       5\n",
       "3958    ducha       42   16  29.542898       5\n",
       "4313    fruto       55   18  28.254849       5\n",
       "4867    julio       57   15  26.415756       5\n",
       "4869    junio       51   17  27.764312       5\n",
       "4878    justa       41   17  28.906617       5\n",
       "6063    pongo       54   18  29.079133       5\n",
       "6136    pulso       42   16  23.881195       5\n",
       "6308    revés       47   16  23.934619       5\n",
       "6727    sutil       46   16  25.819212       5\n",
       "6968    toque       49   17  27.783400       5\n",
       "7196    vejez       41   18  21.394776       5\n",
       "7236    vídeo       59   16  24.074121       5\n",
       "10196  cónsul       42   18  23.778790       6\n",
       "12730  léxico       46   17  28.395791       6\n",
       "14048  pálido       51   18  29.112748       6"
      ]
     },
     "execution_count": 368,
     "metadata": {},
     "output_type": "execute_result"
    }
   ],
   "source": [
    "#Showing groups (1 group, Pretty)\n",
    "sA"
   ]
  },
  {
   "cell_type": "code",
   "execution_count": 371,
   "metadata": {},
   "outputs": [
    {
     "name": "stdout",
     "output_type": "stream",
     "text": [
      "\n",
      "                A and B\n",
      "      PALABRA FRECUENC  RHO        PHI  LENGTH\n",
      "2875    balón       44   16  28.299508       5\n",
      "3075    botón       50   18  22.632764       5\n",
      "3159    bulto       42   17  24.449647       5\n",
      "3212    cajón       52   15  27.957117       5\n",
      "3771    culto       59   15  28.220153       5\n",
      "3898    digno       46   17  29.881568       5\n",
      "3958    ducha       42   16  29.542898       5\n",
      "4313    fruto       55   18  28.254849       5\n",
      "4867    julio       57   15  26.415756       5\n",
      "4869    junio       51   17  27.764312       5\n",
      "4878    justa       41   17  28.906617       5\n",
      "6063    pongo       54   18  29.079133       5\n",
      "6136    pulso       42   16  23.881195       5\n",
      "6308    revés       47   16  23.934619       5\n",
      "6727    sutil       46   16  25.819212       5\n",
      "6968    toque       49   17  27.783400       5\n",
      "7196    vejez       41   18  21.394776       5\n",
      "7236    vídeo       59   16  24.074121       5\n",
      "10196  cónsul       42   18  23.778790       6\n",
      "12730  léxico       46   17  28.395791       6\n",
      "14048  pálido       51   18  29.112748       6\n",
      "      PALABRA FRECUENC  RHO        PHI  LENGTH\n",
      "6440    rumbo       60   20  26.768592       5\n",
      "10618  dibujo       44   20  27.650141       6\n",
      "12525  jueves       52   20  27.978006       6\n",
      "12991  mágico       44   21  28.336965       6\n",
      "13343  millón       54   20  27.085772       6\n",
      "13478  montón       53   24  29.967886       6\n",
      "XXXXXXXXXXXXXXXXXXXXXXXXXXXXXXXXXXXXXXXXXXXXXXXXXX\n",
      "\n",
      "                C and D\n",
      "      PALABRA FRECUENC  RHO        PHI  LENGTH\n",
      "3259    canta       42   16  48.259531       5\n",
      "3307    carro       48   14  49.193423       5\n",
      "6181    rabia       48   16  50.828066       5\n",
      "6359    rodea       40   15  47.988691       5\n",
      "6514    santa       56   17  46.851909       5\n",
      "7005    traer       53   16  48.932788       5\n",
      "9540   casada       41   17  60.881310       6\n",
      "9541   casado       60   17  54.674326       6\n",
      "9597   caudal       57   17  48.940832       6\n",
      "10261  corona       42   18  55.469437       6\n",
      "10332  criada       46   17  58.739203       6\n",
      "10409  cuerda       49   18  47.312072       6\n",
      "10676  docena       56   18  50.422647       6\n",
      "10710  dorada       53   18  58.272917       6\n",
      "10711  dorado       40   18  52.065933       6\n",
      "12687  lejana       58   18  52.247814       6\n",
      "12759  ligera       52   18  49.355855       6\n",
      "12832  llenar       48   17  49.962243       6\n",
      "15458  salvar       48   18  50.463465       6\n",
      "15641  sierra       52   18  56.298164       6\n",
      "16186  tocado       51   18  49.550942       6\n",
      "      PALABRA FRECUENC  RHO        PHI  LENGTH\n",
      "8731   basura       55   20  49.737144       6\n",
      "8976   bonita       50   21  46.731015       6\n",
      "9332   cambia       43   21  50.257814       6\n",
      "11414  formar       57   22  47.793605       6\n",
      "11612  ganado       58   20  52.731147       6\n",
      "11859  gritar       50   20  49.641221       6\n",
      "13022  maleta       47   21  53.896742       6\n",
      "13058  mancha       59   22  47.050957       6\n",
      "13125  marina       42   22  58.163188       6\n",
      "13127  marino       42   22  51.956205       6\n",
      "13141  martes       40   22  46.954914       6\n",
      "13498  morena       41   22  53.012912       6\n",
      "13514  mortal       47   21  47.434886       6\n",
      "13649  navaja       50   20  54.640951       6\n",
      "14325  pereza       44   21  47.031148       6\n",
      "15281  romano       40   22  52.949524       6\n",
      "15378  rutina       59   21  47.875241       6\n",
      "16285  trampa       59   23  51.250773       6\n"
     ]
    }
   ],
   "source": [
    "### Show me the groups  (4 groups, UGLY)\n",
    "\n",
    "#selection.FRECUENC.describe()\n",
    "selection.describe()\n",
    "print(\"\"\"\n",
    "                A and B\"\"\")\n",
    "print(sA)\n",
    "print(sB)\n",
    "\n",
    "print(\"XXXXXXXXXXXXXXXXXXXXXXXXXXXXXXXXXXXXXXXXXXXXXXXXXX\")\n",
    "\n",
    "print(\"\"\"\n",
    "                C and D\"\"\")\n",
    "print(sC)\n",
    "print(sD)"
   ]
  },
  {
   "cell_type": "code",
   "execution_count": null,
   "metadata": {},
   "outputs": [],
   "source": []
  }
 ],
 "metadata": {
  "kernelspec": {
   "display_name": "Python 3",
   "language": "python",
   "name": "python3"
  },
  "language_info": {
   "codemirror_mode": {
    "name": "ipython",
    "version": 3
   },
   "file_extension": ".py",
   "mimetype": "text/x-python",
   "name": "python",
   "nbconvert_exporter": "python",
   "pygments_lexer": "ipython3",
   "version": "3.7.6"
  }
 },
 "nbformat": 4,
 "nbformat_minor": 2
}
